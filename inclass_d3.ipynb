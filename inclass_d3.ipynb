{
 "cells": [
  {
   "cell_type": "markdown",
   "id": "fa88e5ea",
   "metadata": {},
   "source": [
    "**Coursebook: Introduction to Machine Learning 1**\n",
    "- Part 5 of Data Analytics Specialization\n",
    "- Course Length: 12 Hours\n",
    "\n",
    "📖 Version: Vulcan Night - May 2023\n",
    "\n",
    "___\n",
    "\n",
    "- Developed by [Algoritma](https://algorit.ma)'s product division and instructors team"
   ]
  },
  {
   "cell_type": "markdown",
   "id": "4a56b149",
   "metadata": {
    "id": "B90Z1rqvooJf"
   },
   "source": [
    "# Background"
   ]
  },
  {
   "cell_type": "markdown",
   "id": "646b4e88",
   "metadata": {
    "id": "35Nwbasyoqb0"
   },
   "source": [
    "The coursebook is part of the **Python Machine Learning** prepared by [Algoritma](https://algorit.ma). The coursebook is intended for a restricted audience only, i.e. the individuals and organizations having received this coursebook directly from the training organization. It may not be reproduced, distributed, translated or adapted in any form outside these individuals and organizations without permission.\n",
    "\n",
    "Algoritma is a data science education center based in Jakarta. We organize workshops and training programs to help working professionals and students gain mastery in various data science sub-fields: data visualization, machine learning, data modeling, statistical inference etc."
   ]
  },
  {
   "cell_type": "markdown",
   "id": "78d1ef52",
   "metadata": {
    "id": "rvHPYh2EDkJ7"
   },
   "source": [
    "# Introduction to Machine Learning 1"
   ]
  },
  {
   "cell_type": "markdown",
   "id": "8cceffa3",
   "metadata": {},
   "source": [
    " ## Training Objective"
   ]
  },
  {
   "cell_type": "markdown",
   "id": "ecfeaa17",
   "metadata": {},
   "source": [
    "* Basic Principles of Machine Learning\n",
    "    * What is Data, Types of Data, Component of Data in the Scikit-learn\n",
    "    * Why Machine Learning?\n",
    "    * Load Data & Exploratory Data Analysis\n",
    "* Data Preprocessing\n",
    "    * Handling Numerical Data\n",
    "    * Handling Categorical Data\n",
    "* Train-test Splitting\n",
    "    * Why Train-Test Splitting?\n",
    "    * How to Train-Test Splitting\n",
    "* Implementation SVM\n",
    "    * Introduction to Support Vector Machine (SVM)\n",
    "    * SVM in Classification\n",
    "    * SVM in Regression\n",
    "* Model Improvement Technique\n",
    "    * Model Evaluation\n",
    "    * Hyperparameters SVM "
   ]
  },
  {
   "cell_type": "markdown",
   "id": "170bb907",
   "metadata": {},
   "source": [
    "# Introduction"
   ]
  },
  {
   "cell_type": "markdown",
   "id": "95987b71",
   "metadata": {},
   "source": [
    "<div>\n",
    "<img src=\"asset/step-of-da.png\" width=\"1000\"/>\n",
    "</div>\n",
    "\n",
    "\n",
    "Data mengandung banyak informasi berharga yang dapat membantu bisnis untuk membuat keputusan yang didaasarkan pada data untuk meningkatkan efisiensi operasi ataupun keuntungan. Namun, menganalisis data dapat menjadi tugas yang meletihkan terutama ketika menghadapi jumlah data yang sangat besar.\n",
    "\n",
    "Tantangan menganalisis data dalam bisnis juga dalam berbagai bentuk, seperti mengidentifikasi pola dan tren, membuat prediksi, dan mendapatkan insight dari data. Metode tradisional analisis data seperti analisis statistik dasar, memakan waktu dan sering kali tidak cukup kuat ketika menghadapi dataset yang besar. Selain itu, jumlah dataset yang besar dan terus bertambah semakin membuat tidak mungkin bagi manusia untuk menganalisis semua data yang ada dengan metode statistik dasar.\n",
    "\n",
    "Di sinilah *machine learning* hadir. Dengan memanfaatkan algoritma canggih, machine learning dapat membantu bisnis menganalisis dataset dalam jumlah yang besar dengan cepat dan efisien. Selain itu algoritma machine learning juga digunakan untuk mengidentifikasi pola dan hubungan dalam data, membuat prediksi dan belajar dari data historikal untuk meningkatkan performa prediksi. Hal ini menjadi alat yang sangat kuat bagi bisnis yang ingin mendapatkan insight dan membuat keputusan berdasarkan pada data."
   ]
  },
  {
   "cell_type": "markdown",
   "id": "9740f150",
   "metadata": {},
   "source": [
    "## What is Machine Learning?\n",
    "\n",
    "Machine learning mesin pada tingkat yang sangat dasar, mengacu pada sub-bidang computer science yang _\"gives computer the ability to learn without being explicitly programmed\"_. Ini adalah sebuah bidang penelitian di persimpangan statistik, kecerdasan buatan, dan ilmu komputer. Terkadang Anda akan mendengar bidang ini disebut sebagai **predictive analytics** atau **statistical learning**\n",
    "\n",
    "Penerapan metode machine learning dalam beberapa tahun terakhir menjadi suatu hal yang umum dalam kehidupan sehari-hari. Dari rekomendasi film otomatis, hingga saran makanan dan produk berdasarkan riwayat belanja Anda, hingga layanan streaming musik yang dipersonalisasi, dan mengenali teman Anda dalam foto digital — banyak aplikasi dan layanan modern yang sebenarnya machine learning adalah dibaliknya atau sebagai intinya. Saat Anda melihat complex website seperti Facebook, Amazon, atau Netflix, kemungkinan besar setiap bagian dari layanan mereka berisi beberapa model machine learning.\n",
    "\n",
    "**Traditional Programming vs Machine Learning**\n",
    "\n",
    "<div>\n",
    "<img src=\"asset/ml-tp.png\" width=\"600\"/>\n",
    "</div>"
   ]
  },
  {
   "cell_type": "markdown",
   "id": "319c6e22",
   "metadata": {},
   "source": [
    "## Why Machine Learning?\n",
    "\n",
    "_In the early days of \"intelligent\" applications, many systems used handcoded rules of \"if\" and \"else\" decisions to process data or adjust to user input._\n",
    "\n",
    "📧 Pikirkan filter spam yang tugasnya memindahkan pesan email masuk yang sesuai ke kotak masuk atau folder spam.\n",
    "\n",
    "<div>\n",
    "<img src=\"asset/spam-not-spam.png\" width=\"600\"/>\n",
    "</div>"
   ]
  },
  {
   "cell_type": "markdown",
   "id": "017e0d21",
   "metadata": {},
   "source": [
    "✅ Ya, kita dapat membuat sebuah blacklist of words yang menghasilkan email ditandai sebagai spam.\n",
    "\n",
    "Ini akan menjadi contoh penggunaan expert-designed rule system untuk merancang aplikasi \"cerdas\". Pembuatan rules decision secara manual dapat dilakukan untuk beberapa aplikasi, khususnya aplikasi di mana manusia memiliki pemahaman yang baik tentang proses yang akan dimodelkan."
   ]
  },
  {
   "cell_type": "markdown",
   "id": "01cf8ad7",
   "metadata": {},
   "source": [
    "**Namun, menggunakan handcoded rules untuk membuat keputusan memiliki dua kelemahan utama:**\n",
    "\n",
    "* Logika sangat diperlukan untuk membuat rules khusus untuk satu domain dan tugas. Mengubah tugas sedikit pun mungkin memerlukan penulisan ulang seluruh sistem.\n",
    "* Merancang rulesnya membutuhkan pemahaman yang mendalam tentang bagaimana keputusan harus dibuat oleh seorang yang ahli di bidang itu.\n",
    "\n",
    "Oleh karena itulah, machine learning dihadirkan untuk membant mengatasi kelemahan tersebut."
   ]
  },
  {
   "cell_type": "markdown",
   "id": "0252fc41",
   "metadata": {},
   "source": [
    "## How Machine Learning Works"
   ]
  },
  {
   "cell_type": "markdown",
   "id": "e57b7733",
   "metadata": {},
   "source": [
    "**💡 NOTES**\n",
    "> Dalam case machine learning yang akan kita bahas, akan terdapat...   \n",
    "> * **Target Variables**: Variabel yang ingin diprediksi/dimodelkan, sering disebut sebagai respon/dependent variable. Misal, harga rumah (angka) atau kelas harga rumahnya (kategorik)\n",
    "> * **Features/ Predictor**: Variabel/kolom yang digunakan (input) untuk memprediksi target variable, sering disebut sebagi independent variable. Misal: lokasi, luas rumah untuk prediksi harga rumah"
   ]
  },
  {
   "cell_type": "markdown",
   "id": "88689e89",
   "metadata": {},
   "source": [
    "<div>\n",
    "<img src=\"asset/columns.jpeg\" width=\"300\"/>\n",
    "</div>"
   ]
  },
  {
   "cell_type": "markdown",
   "id": "ae0cc39b",
   "metadata": {},
   "source": [
    "Kita tahu bahwa, kita membutuhkan **input** dan **output** untuk membuat model machine learning\n",
    "\n",
    "❓ Misal dalam kasus ingin memprediksi kelas range harga rumah ini, **kolom manakah yang akan menjadi output/target variabel** dalam machine learning model?"
   ]
  },
  {
   "cell_type": "markdown",
   "id": "0a7b5a78",
   "metadata": {},
   "source": [
    "| Bedrooms      | AreaInMtrSqr  | Floors        | ZipCode       |  Price Range  |\n",
    "|--------------:|--------------:|--------------:|--------------:|--------------:|\n",
    "|              3|            120|            1.0|          98178|      Low-class|\n",
    "|              3|             60|            2.0|          98125|     High-class|\n",
    "|              2|            200|            1.0|          98028|   Middle-class|\n",
    "|              4|            140|            1.0|          98074|     High-class|"
   ]
  },
  {
   "cell_type": "markdown",
   "id": "6d9d77da",
   "metadata": {},
   "source": [
    "## Predictive Analytics in ML: Classification & Regression\n",
    "\n",
    "Predictive Analysis berdasarkan jenis target variable terbagi menjadi 2 macam:\n",
    "\n",
    "<div>\n",
    "<img src=\"asset/regress-classify.png\" width=\"500\"/>\n",
    "</div>"
   ]
  },
  {
   "cell_type": "markdown",
   "id": "9403ead8",
   "metadata": {},
   "source": [
    "* 📘 Masalah **Classification** mengacu pada situasi di mana nilai yang kita coba prediksi bersifat kategorikal (loan defaults, email spam collection, handwriting recognition etc).\n",
    "* 📘 Masalah **Regression** mengacu pada situasi di mana kita ingin memprediksi nilai numerik; Artinya, ketika output target kita numerik (think oil prices, rainfall, quarterly sales, blood pressure etc).\n",
    "\n",
    "Apabila digambarkan secara simplenya (2D) akan seperti berikut.\n",
    "\n",
    "<div>\n",
    "<img src=\"asset/vis-line-cr.png\" width=\"600\"/>\n",
    "</div>"
   ]
  },
  {
   "cell_type": "markdown",
   "id": "de3327e0",
   "metadata": {},
   "source": [
    "## 🧪 Knowledge Check: Classification & Regression"
   ]
  },
  {
   "cell_type": "markdown",
   "id": "d7f43cf7",
   "metadata": {},
   "source": [
    "1. Suatu perusahaan T sedang ingin menentukan berapa perkiraan harga dari suatu mobil baru yang akan dijual. Agar tidak salah penentuan harga, ia ingin menentukannya berdasarkan data historis harga mobil-mobil yang terjual yang dipengaruhi oleh fitur-fiturnya (seperti AC, mesin, kualitas, dll). Masuk manakah kasus ini?"
   ]
  },
  {
   "cell_type": "markdown",
   "id": "8213ef1e",
   "metadata": {},
   "source": [
    "<div>\n",
    "<img src=\"asset/car-price-pred.png\" width=\"300\"/>\n",
    "</div>"
   ]
  },
  {
   "cell_type": "markdown",
   "id": "8d098ffc",
   "metadata": {},
   "source": [
    "> 📝 **Answer:** \n",
    "Regresi\n",
    "Target: Harga mobil (numerik)\n",
    "Prediktor: Spesifikasi/fitur-fitur dari mobil.\n"
   ]
  },
  {
   "cell_type": "markdown",
   "id": "9ea23468",
   "metadata": {},
   "source": [
    "2. Terdapat dataset bunga Iris dan kita ingin memprediksi bunga dengan karakteristik tertentu masuk tipe bunga Iris yang manakah.\n",
    "\n",
    "<div>\n",
    "<img src=\"asset/iris.png\" width=\"600\"/>\n",
    "</div>"
   ]
  },
  {
   "cell_type": "markdown",
   "id": "66dfa0f3",
   "metadata": {},
   "source": [
    "> 📝 **Answer:** \n",
    "\n",
    "- Klasifikasi\n",
    "- Target: Jenis bunga (kategorikal)\n",
    "- Feature/Prediktor: Spesifikasi dari bunga tersebut."
   ]
  },
  {
   "cell_type": "markdown",
   "id": "430d2db5",
   "metadata": {},
   "source": [
    "3. Jika kita memiliki dataset tulisan tangan digit angka dari 0-9, lalu kita ingin memprediksi suatu gambar itu angka berapa, maka kasus ini masuk pada kasus klasifikasi/regresi?\n",
    "\n",
    "<div>\n",
    "<img src=\"asset/mnist.png\" width=\"300\"/>\n",
    "</div>"
   ]
  },
  {
   "cell_type": "markdown",
   "id": "4d9937ff",
   "metadata": {},
   "source": [
    "> 📝 **Answer:** \n",
    "- Klasifikasi\n",
    "- Target: Jenis angka\n",
    "- Prediktor: Gambar"
   ]
  },
  {
   "cell_type": "markdown",
   "id": "37951c38",
   "metadata": {},
   "source": [
    "**Summary**\n",
    "\n",
    "- Machine Learning: Sebuah mesin/tools yang dapat mempalajari pola data tanpa harus diprogram secara eksplisit -> Prediksi.\n",
    "- Data:\n",
    "  - Feature/prediktor: Untuk memprediksi, menebak. Feature dapat berupa kategorik dan juga numerik.\n",
    "  - Target: Yang diprediksi, ditebak\n",
    "- Jenis ML:\n",
    "  - Regresi: Targetnya berupa Numerik (harga rumah, harga mobil, suhu)\n",
    "  - Klasifikasi: Targetnya berupa kategorik (jenis bunga, kelas harga)"
   ]
  },
  {
   "cell_type": "markdown",
   "id": "9e066c86",
   "metadata": {},
   "source": [
    "# Machine Learning Workflow: Classification"
   ]
  },
  {
   "cell_type": "markdown",
   "id": "5ab7be7c",
   "metadata": {},
   "source": [
    "Untuk dapat membuat machine learning kita membutuhkan sebuah program/algoritma. Salah satu library yang akan banyak digunakan untuk kebutuhan machine learning baik algoritma atau dataset di Python adalah `sklearn`. Dokumentasinya ada [di sini](https://scikit-learn.org/stable/)."
   ]
  },
  {
   "cell_type": "code",
   "execution_count": 1,
   "id": "75d6c633",
   "metadata": {},
   "outputs": [],
   "source": [
    "import sklearn"
   ]
  },
  {
   "cell_type": "markdown",
   "id": "71c9727b",
   "metadata": {},
   "source": [
    "🔻 Mari kita mulai dengan mengimpor modul yang diperlukan."
   ]
  },
  {
   "cell_type": "code",
   "execution_count": 2,
   "id": "ac62ff41",
   "metadata": {
    "executionInfo": {
     "elapsed": 571,
     "status": "ok",
     "timestamp": 1671516136031,
     "user": {
      "displayName": "Fiqey Indriati Eka Sari",
      "userId": "04659319313698685491"
     },
     "user_tz": -420
    },
    "id": "Xu_Uo9FEJbQP"
   },
   "outputs": [],
   "source": [
    "import pandas as pd\n",
    "import numpy as np\n",
    "import matplotlib.pyplot as plt"
   ]
  },
  {
   "cell_type": "markdown",
   "id": "bf9d5afd",
   "metadata": {},
   "source": [
    "# Load Data: Bank Marketing Dataset"
   ]
  },
  {
   "cell_type": "markdown",
   "id": "55ccf971",
   "metadata": {},
   "source": [
    "💼 [Bank Marketing Dataset](https://archive.ics.uci.edu/ml/datasets/bank+marketing) adalah data direct marketing campaign dari sebuah institusi Bank di Portugal. Seringkali, lebih dari satu kontak ke seorang klien diperlukan agar klien tersebut *subscribe* produk yang ditawarkan. Produk yang ditawarkan di sini adalah *term deposit* (deposit berjangka), dimana *term deposit* adalah produk investasi yang ditawarkan oleh Bank dimana nasabah menyimpan uangnnya dan tidak dapat ditarik dalam jangka waktu tertentu.\n",
    "\n",
    "Tujuan dari projek ini adalah **meningkatkan efektivitas *marketing campaign* dengan memprediksi nasabah yang kemungkinan besar untuk *subscribe* term deposit yang ditawarkan.** Permasalahan ini dapat diselesaikan dengan membangun model klasifikasi untuk memprediksi apakah seorang nasabah akan *subscribe* ke term  deposit atau tidak, berdasarkan karakteristik atau informasi dari masing-masing nasabah yang dimiliki oleh Bank.\n",
    "\n",
    "Tugas kita sebagai data analis adalah membangun model machine learning untuk klasifikasi apakah seorang nasabah akan *subscribe* term deposit atau tidak."
   ]
  },
  {
   "cell_type": "code",
   "execution_count": 3,
   "id": "7699a397",
   "metadata": {
    "scrolled": true
   },
   "outputs": [
    {
     "data": {
      "text/html": [
       "<div>\n",
       "<style scoped>\n",
       "    .dataframe tbody tr th:only-of-type {\n",
       "        vertical-align: middle;\n",
       "    }\n",
       "\n",
       "    .dataframe tbody tr th {\n",
       "        vertical-align: top;\n",
       "    }\n",
       "\n",
       "    .dataframe thead th {\n",
       "        text-align: right;\n",
       "    }\n",
       "</style>\n",
       "<table border=\"1\" class=\"dataframe\">\n",
       "  <thead>\n",
       "    <tr style=\"text-align: right;\">\n",
       "      <th></th>\n",
       "      <th>age</th>\n",
       "      <th>job</th>\n",
       "      <th>marital</th>\n",
       "      <th>education</th>\n",
       "      <th>balance</th>\n",
       "      <th>housing</th>\n",
       "      <th>loan</th>\n",
       "      <th>previous</th>\n",
       "      <th>poutcome</th>\n",
       "      <th>y</th>\n",
       "    </tr>\n",
       "  </thead>\n",
       "  <tbody>\n",
       "    <tr>\n",
       "      <th>0</th>\n",
       "      <td>30</td>\n",
       "      <td>unemployed</td>\n",
       "      <td>married</td>\n",
       "      <td>primary</td>\n",
       "      <td>1787</td>\n",
       "      <td>no</td>\n",
       "      <td>no</td>\n",
       "      <td>0</td>\n",
       "      <td>nonexistent</td>\n",
       "      <td>no</td>\n",
       "    </tr>\n",
       "    <tr>\n",
       "      <th>1</th>\n",
       "      <td>33</td>\n",
       "      <td>services</td>\n",
       "      <td>married</td>\n",
       "      <td>secondary</td>\n",
       "      <td>4789</td>\n",
       "      <td>yes</td>\n",
       "      <td>yes</td>\n",
       "      <td>4</td>\n",
       "      <td>failure</td>\n",
       "      <td>no</td>\n",
       "    </tr>\n",
       "    <tr>\n",
       "      <th>2</th>\n",
       "      <td>35</td>\n",
       "      <td>management</td>\n",
       "      <td>single</td>\n",
       "      <td>tertiary</td>\n",
       "      <td>1350</td>\n",
       "      <td>yes</td>\n",
       "      <td>no</td>\n",
       "      <td>1</td>\n",
       "      <td>failure</td>\n",
       "      <td>no</td>\n",
       "    </tr>\n",
       "    <tr>\n",
       "      <th>3</th>\n",
       "      <td>30</td>\n",
       "      <td>management</td>\n",
       "      <td>married</td>\n",
       "      <td>tertiary</td>\n",
       "      <td>1476</td>\n",
       "      <td>yes</td>\n",
       "      <td>yes</td>\n",
       "      <td>0</td>\n",
       "      <td>nonexistent</td>\n",
       "      <td>no</td>\n",
       "    </tr>\n",
       "    <tr>\n",
       "      <th>4</th>\n",
       "      <td>59</td>\n",
       "      <td>blue-collar</td>\n",
       "      <td>married</td>\n",
       "      <td>secondary</td>\n",
       "      <td>0</td>\n",
       "      <td>yes</td>\n",
       "      <td>no</td>\n",
       "      <td>0</td>\n",
       "      <td>nonexistent</td>\n",
       "      <td>no</td>\n",
       "    </tr>\n",
       "  </tbody>\n",
       "</table>\n",
       "</div>"
      ],
      "text/plain": [
       "   age          job  marital  education  balance housing loan  previous   \n",
       "0   30   unemployed  married    primary     1787      no   no         0  \\\n",
       "1   33     services  married  secondary     4789     yes  yes         4   \n",
       "2   35   management   single   tertiary     1350     yes   no         1   \n",
       "3   30   management  married   tertiary     1476     yes  yes         0   \n",
       "4   59  blue-collar  married  secondary        0     yes   no         0   \n",
       "\n",
       "      poutcome   y  \n",
       "0  nonexistent  no  \n",
       "1      failure  no  \n",
       "2      failure  no  \n",
       "3  nonexistent  no  \n",
       "4  nonexistent  no  "
      ]
     },
     "execution_count": 3,
     "metadata": {},
     "output_type": "execute_result"
    }
   ],
   "source": [
    "banks = pd.read_csv(\"data_input/bank-cleaner.csv\")\n",
    "\n",
    "banks.head()"
   ]
  },
  {
   "cell_type": "markdown",
   "id": "08f707f5",
   "metadata": {},
   "source": [
    "**Data Description**\n",
    "- `age` : (numeric)\n",
    "- `job` : Jenis pekerjaan (categorical: 'admin.','blue-collar','entrepreneur','housemaid','management','retired','self-employed','services','student','technician','unemployed','unknown')\n",
    "- `marital` : Status hubungan (categorical: 'divorced','married','single','unknown'; note: 'divorced' berarti cerai atau janda)\n",
    "- `education` Tingkat pendidikan (categorical: 'unknown', 'primary', 'secondary', 'tertiary')\n",
    "- `balance`: Jumlah dana rata-rata tahunan (dalam satuan Euro)\n",
    "- `housing`: Apakah mempunyai pinjaman rumah? (categorical: 'no','yes','unknown')\n",
    "- `loan`: Apakah mempuyai pinjaman personal? (categorical: 'no','yes','unknown')\n",
    "\n",
    "_other attributes:_\n",
    "- `previous`: Jumlah dikontak sebelum campaign ini untuk nasabah yang sama (numeric)\n",
    "- `poutcome`: Hasil dari marketing campaign sebelumnya (categorical: 'failure','nonexistent','success')\n",
    "\n",
    "_output variable (desired target):_\n",
    "- `y`: Apakah nasabah *subscribe* pada produk term-deposit? (binary: 'yes','no')"
   ]
  },
  {
   "cell_type": "markdown",
   "id": "c553cd0b",
   "metadata": {},
   "source": [
    "# Exploratory Data Analysis"
   ]
  },
  {
   "cell_type": "markdown",
   "id": "2bfc82b5",
   "metadata": {},
   "source": [
    "Tahapan-tahapan yang dapat dilakukan pada EDA antara lain:\n",
    "\n",
    "- Melihat tipe data, missing value dan data duplikat\n",
    "- Melihat deskripsi statistik data\n",
    "- Eksplorasi Lanjutan"
   ]
  },
  {
   "cell_type": "markdown",
   "id": "c14fe371",
   "metadata": {},
   "source": [
    "## Tipe Data, Missing Value dan Duplikat\n",
    "\n",
    "### Tipe Data\n",
    "\n",
    "Sangat penting untuk memastikan tipe data harus tepat sebelum melakukan pemodelan machine learning. Jika tipe data tidak tepat, maka akan menimbulkan *misinterpretasi* oleh model yang akan mempengaruhi performa dari model. Sebagai contoh, jika sebuah kolom numerik masih dalam bentuk string, maka model tidak dapat melakukan operasi matematika sehingga menyebabkan error dan kesalahan analisis oleh model.\n",
    "\n",
    "Mari kita melihat dan menyesuaikan tipe data dari dataset kita."
   ]
  },
  {
   "cell_type": "code",
   "execution_count": 4,
   "id": "2d0f1439",
   "metadata": {
    "scrolled": false
   },
   "outputs": [
    {
     "data": {
      "text/plain": [
       "age           int64\n",
       "job          object\n",
       "marital      object\n",
       "education    object\n",
       "balance       int64\n",
       "housing      object\n",
       "loan         object\n",
       "previous      int64\n",
       "poutcome     object\n",
       "y            object\n",
       "dtype: object"
      ]
     },
     "execution_count": 4,
     "metadata": {},
     "output_type": "execute_result"
    }
   ],
   "source": [
    "# code here\n",
    "banks.dtypes"
   ]
  },
  {
   "cell_type": "markdown",
   "id": "002a607c",
   "metadata": {},
   "source": [
    "Apakah terdapat tipe data yang tidak tepat? Jika iya, harus diubah menjadi tipe data apa?\n",
    "\n",
    "Kolom yang tidak tepat: Semua yang bertipe objek dirubah menjadi categorical."
   ]
  },
  {
   "cell_type": "code",
   "execution_count": 5,
   "id": "4c27ea97",
   "metadata": {
    "scrolled": true
   },
   "outputs": [
    {
     "data": {
      "text/plain": [
       "age             int64\n",
       "job          category\n",
       "marital      category\n",
       "education    category\n",
       "balance         int64\n",
       "housing      category\n",
       "loan         category\n",
       "previous        int64\n",
       "poutcome     category\n",
       "y            category\n",
       "dtype: object"
      ]
     },
     "execution_count": 5,
     "metadata": {},
     "output_type": "execute_result"
    }
   ],
   "source": [
    "# code here\n",
    "# list nama kolom yang ingin diubah\n",
    "cat_features = ['job', 'marital', 'education', 'housing', 'loan', 'poutcome', 'y']\n",
    "# ubah tipe data\n",
    "banks[cat_features] = banks[cat_features].astype('category')\n",
    "\n",
    "banks.dtypes"
   ]
  },
  {
   "cell_type": "markdown",
   "id": "55d5e56f",
   "metadata": {},
   "source": [
    "### Missing Value\n",
    "\n",
    "Sangat penting untuk mengidentifikasi apakah terdapat missing value di dataset kita sebelum dilakukan pemodelan machine learning karena missing value dapat mempengaruhi performa model secara signifikan. Missing value dapat terjadi karena berbagai alasan seperti kesalahan koleksi data, permasalahan ketika preprocessing, atau sesimpel karena data tidak terkumpul oleh sebagian observasi.\n",
    "\n",
    "Missing value dapat mempengaruhi performa model atau bahkan menggagalkan proses pemodelan. Maka dari itu, sangat penting untuk *handle missing value* sebelum melakukan pemodelan. *Imputasi* dapat dilakukan dengan berbagai teknik atau jika tidak ingin melakukan imputasi observasi yang bernilai missing dapat di-drop.\n",
    "\n",
    "> Remove missing values ketika jumlahnya di bawah 5% dari data kita."
   ]
  },
  {
   "cell_type": "code",
   "execution_count": 6,
   "id": "52a1e483",
   "metadata": {},
   "outputs": [
    {
     "data": {
      "text/plain": [
       "age          0\n",
       "job          0\n",
       "marital      0\n",
       "education    0\n",
       "balance      0\n",
       "housing      0\n",
       "loan         0\n",
       "previous     0\n",
       "poutcome     0\n",
       "y            0\n",
       "dtype: int64"
      ]
     },
     "execution_count": 6,
     "metadata": {},
     "output_type": "execute_result"
    }
   ],
   "source": [
    "banks.isnull().sum()"
   ]
  },
  {
   "cell_type": "markdown",
   "id": "38f18d35",
   "metadata": {},
   "source": [
    "### Duplicate Values\n",
    "\n",
    "Selain missing value, nilai duplikat juga penting untuk ditangani sebelum melakukan pemodelan machine learning. Ketika terdapat nilai duplikat di dataset, hasil pemodelan machine learning akan menjadi bias dan membuat model lebih mementingkan nilai-nilai yang duplikat ini sehingga mengakibatkan ketidakakuratan prediksi model.\n",
    "\n",
    "Maka dari itu, sangat penting untuk mengidentifikasi dan menghilangkan nilai-nilai yang bernilai duplikat sebelum melakukan pemodelan machine learning."
   ]
  },
  {
   "cell_type": "code",
   "execution_count": 7,
   "id": "6685b70a",
   "metadata": {
    "scrolled": true
   },
   "outputs": [
    {
     "data": {
      "text/plain": [
       "20"
      ]
     },
     "execution_count": 7,
     "metadata": {},
     "output_type": "execute_result"
    }
   ],
   "source": [
    "duplikat = banks.duplicated().sum()\n",
    "duplikat"
   ]
  },
  {
   "cell_type": "code",
   "execution_count": 8,
   "id": "770d8d26",
   "metadata": {},
   "outputs": [
    {
     "data": {
      "text/plain": [
       "0.004625346901017576"
      ]
     },
     "execution_count": 8,
     "metadata": {},
     "output_type": "execute_result"
    }
   ],
   "source": [
    "duplikat / banks.shape[0]"
   ]
  },
  {
   "cell_type": "markdown",
   "id": "9429b32a",
   "metadata": {},
   "source": [
    "Dataset yang kita punya dikatakan cukup bersih karena memiliki duplikat yang sangat kecil dibanding total observasi data. Namun, jika terdapat data duplikat yang sangat banyak pada dataset kita, dapat ditangani dengan cara mempertahankan salah satu nilai duplikat dan membuang nilai yang lainnya, seperti mempertahankan kemunculan pertama atau terakhir."
   ]
  },
  {
   "cell_type": "markdown",
   "id": "814d7025",
   "metadata": {},
   "source": [
    "## Melihat Deskripsi Statistik Data "
   ]
  },
  {
   "cell_type": "markdown",
   "id": "296a0b8c",
   "metadata": {},
   "source": [
    "Bagaimana karakteristik dari data kita?"
   ]
  },
  {
   "cell_type": "code",
   "execution_count": 9,
   "id": "7f4aabe9",
   "metadata": {
    "scrolled": false
   },
   "outputs": [
    {
     "data": {
      "text/html": [
       "<div>\n",
       "<style scoped>\n",
       "    .dataframe tbody tr th:only-of-type {\n",
       "        vertical-align: middle;\n",
       "    }\n",
       "\n",
       "    .dataframe tbody tr th {\n",
       "        vertical-align: top;\n",
       "    }\n",
       "\n",
       "    .dataframe thead th {\n",
       "        text-align: right;\n",
       "    }\n",
       "</style>\n",
       "<table border=\"1\" class=\"dataframe\">\n",
       "  <thead>\n",
       "    <tr style=\"text-align: right;\">\n",
       "      <th></th>\n",
       "      <th>age</th>\n",
       "      <th>balance</th>\n",
       "      <th>previous</th>\n",
       "    </tr>\n",
       "  </thead>\n",
       "  <tbody>\n",
       "    <tr>\n",
       "      <th>count</th>\n",
       "      <td>4324.000000</td>\n",
       "      <td>4324.000000</td>\n",
       "      <td>4324.000000</td>\n",
       "    </tr>\n",
       "    <tr>\n",
       "      <th>mean</th>\n",
       "      <td>41.229186</td>\n",
       "      <td>1422.575162</td>\n",
       "      <td>0.413043</td>\n",
       "    </tr>\n",
       "    <tr>\n",
       "      <th>std</th>\n",
       "      <td>10.585124</td>\n",
       "      <td>3035.711379</td>\n",
       "      <td>1.479000</td>\n",
       "    </tr>\n",
       "    <tr>\n",
       "      <th>min</th>\n",
       "      <td>19.000000</td>\n",
       "      <td>-3313.000000</td>\n",
       "      <td>0.000000</td>\n",
       "    </tr>\n",
       "    <tr>\n",
       "      <th>25%</th>\n",
       "      <td>33.000000</td>\n",
       "      <td>66.000000</td>\n",
       "      <td>0.000000</td>\n",
       "    </tr>\n",
       "    <tr>\n",
       "      <th>50%</th>\n",
       "      <td>39.000000</td>\n",
       "      <td>439.000000</td>\n",
       "      <td>0.000000</td>\n",
       "    </tr>\n",
       "    <tr>\n",
       "      <th>75%</th>\n",
       "      <td>49.000000</td>\n",
       "      <td>1477.750000</td>\n",
       "      <td>0.000000</td>\n",
       "    </tr>\n",
       "    <tr>\n",
       "      <th>max</th>\n",
       "      <td>87.000000</td>\n",
       "      <td>71188.000000</td>\n",
       "      <td>25.000000</td>\n",
       "    </tr>\n",
       "  </tbody>\n",
       "</table>\n",
       "</div>"
      ],
      "text/plain": [
       "               age       balance     previous\n",
       "count  4324.000000   4324.000000  4324.000000\n",
       "mean     41.229186   1422.575162     0.413043\n",
       "std      10.585124   3035.711379     1.479000\n",
       "min      19.000000  -3313.000000     0.000000\n",
       "25%      33.000000     66.000000     0.000000\n",
       "50%      39.000000    439.000000     0.000000\n",
       "75%      49.000000   1477.750000     0.000000\n",
       "max      87.000000  71188.000000    25.000000"
      ]
     },
     "execution_count": 9,
     "metadata": {},
     "output_type": "execute_result"
    }
   ],
   "source": [
    "# Code here\n",
    "banks.describe()"
   ]
  },
  {
   "cell_type": "code",
   "execution_count": 10,
   "id": "4bec318c",
   "metadata": {},
   "outputs": [
    {
     "data": {
      "text/html": [
       "<div>\n",
       "<style scoped>\n",
       "    .dataframe tbody tr th:only-of-type {\n",
       "        vertical-align: middle;\n",
       "    }\n",
       "\n",
       "    .dataframe tbody tr th {\n",
       "        vertical-align: top;\n",
       "    }\n",
       "\n",
       "    .dataframe thead th {\n",
       "        text-align: right;\n",
       "    }\n",
       "</style>\n",
       "<table border=\"1\" class=\"dataframe\">\n",
       "  <thead>\n",
       "    <tr style=\"text-align: right;\">\n",
       "      <th></th>\n",
       "      <th>age</th>\n",
       "      <th>job</th>\n",
       "      <th>marital</th>\n",
       "      <th>education</th>\n",
       "      <th>balance</th>\n",
       "      <th>housing</th>\n",
       "      <th>loan</th>\n",
       "      <th>previous</th>\n",
       "      <th>poutcome</th>\n",
       "      <th>y</th>\n",
       "    </tr>\n",
       "  </thead>\n",
       "  <tbody>\n",
       "    <tr>\n",
       "      <th>4206</th>\n",
       "      <td>35</td>\n",
       "      <td>blue-collar</td>\n",
       "      <td>married</td>\n",
       "      <td>secondary</td>\n",
       "      <td>305</td>\n",
       "      <td>yes</td>\n",
       "      <td>no</td>\n",
       "      <td>25</td>\n",
       "      <td>failure</td>\n",
       "      <td>no</td>\n",
       "    </tr>\n",
       "  </tbody>\n",
       "</table>\n",
       "</div>"
      ],
      "text/plain": [
       "      age          job  marital  education  balance housing loan  previous   \n",
       "4206   35  blue-collar  married  secondary      305     yes   no        25  \\\n",
       "\n",
       "     poutcome   y  \n",
       "4206  failure  no  "
      ]
     },
     "execution_count": 10,
     "metadata": {},
     "output_type": "execute_result"
    }
   ],
   "source": [
    "banks[banks['previous'] == 25]"
   ]
  },
  {
   "cell_type": "markdown",
   "id": "1d8fa78d",
   "metadata": {},
   "source": [
    "> **Insight:**\n",
    "- Dari data describe kita bisa mendapatkan nilai min, median, mean dan juga max dari data kita.\n",
    "- pada kolom previous jumlah maksimal yang pernah ditelfon adalah 25x (itupun masih ditolak)\n",
    "- "
   ]
  },
  {
   "cell_type": "markdown",
   "id": "99ec2fb4",
   "metadata": {},
   "source": [
    "## Eksplorasi Lanjutan"
   ]
  },
  {
   "cell_type": "code",
   "execution_count": 11,
   "id": "4c2a6c57",
   "metadata": {},
   "outputs": [
    {
     "data": {
      "image/png": "[encoded data removed]",
      "text/plain": [
       "<Figure size 640x480 with 1 Axes>"
      ]
     },
     "metadata": {},
     "output_type": "display_data"
    }
   ],
   "source": [
    "# code here\n",
    "banks['y'].value_counts().plot(kind='bar');"
   ]
  },
  {
   "cell_type": "code",
   "execution_count": 12,
   "id": "a5cd952d",
   "metadata": {},
   "outputs": [
    {
     "data": {
      "image/png": "[encoded data removed]",
      "text/plain": [
       "<Figure size 640x480 with 1 Axes>"
      ]
     },
     "metadata": {},
     "output_type": "display_data"
    }
   ],
   "source": [
    "# code here\n",
    "banks['y'].value_counts().plot(kind='bar');"
   ]
  },
  {
   "cell_type": "markdown",
   "id": "974d4c07",
   "metadata": {},
   "source": [
    "Bagaimana hubungan antara target dengan `age`?"
   ]
  },
  {
   "cell_type": "code",
   "execution_count": null,
   "id": "61d6af95",
   "metadata": {},
   "outputs": [],
   "source": []
  },
  {
   "cell_type": "markdown",
   "id": "821464fa",
   "metadata": {},
   "source": [
    "Data apa lagi yang dapat kita eksplor?\n",
    "Bagaimana hubungan antara target dengan `balance`?\n",
    "\n",
    "index: diisi dengan kolom kategori\n",
    "values: diisi dengan kolom yang ingin dihitung\n",
    "aggfunc: diisi dengan fungsi yang ingin dihitung"
   ]
  },
  {
   "cell_type": "code",
   "execution_count": 13,
   "id": "dc8e4397",
   "metadata": {
    "scrolled": false
   },
   "outputs": [
    {
     "data": {
      "text/html": [
       "<div>\n",
       "<style scoped>\n",
       "    .dataframe tbody tr th:only-of-type {\n",
       "        vertical-align: middle;\n",
       "    }\n",
       "\n",
       "    .dataframe tbody tr th {\n",
       "        vertical-align: top;\n",
       "    }\n",
       "\n",
       "    .dataframe thead tr th {\n",
       "        text-align: left;\n",
       "    }\n",
       "\n",
       "    .dataframe thead tr:last-of-type th {\n",
       "        text-align: right;\n",
       "    }\n",
       "</style>\n",
       "<table border=\"1\" class=\"dataframe\">\n",
       "  <thead>\n",
       "    <tr>\n",
       "      <th></th>\n",
       "      <th>min</th>\n",
       "      <th>mean</th>\n",
       "      <th>max</th>\n",
       "    </tr>\n",
       "    <tr>\n",
       "      <th></th>\n",
       "      <th>balance</th>\n",
       "      <th>balance</th>\n",
       "      <th>balance</th>\n",
       "    </tr>\n",
       "    <tr>\n",
       "      <th>y</th>\n",
       "      <th></th>\n",
       "      <th></th>\n",
       "      <th></th>\n",
       "    </tr>\n",
       "  </thead>\n",
       "  <tbody>\n",
       "    <tr>\n",
       "      <th>no</th>\n",
       "      <td>-3313</td>\n",
       "      <td>1405.597501</td>\n",
       "      <td>71188</td>\n",
       "    </tr>\n",
       "    <tr>\n",
       "      <th>yes</th>\n",
       "      <td>-1206</td>\n",
       "      <td>1557.587992</td>\n",
       "      <td>26965</td>\n",
       "    </tr>\n",
       "  </tbody>\n",
       "</table>\n",
       "</div>"
      ],
      "text/plain": [
       "        min         mean     max\n",
       "    balance      balance balance\n",
       "y                               \n",
       "no    -3313  1405.597501   71188\n",
       "yes   -1206  1557.587992   26965"
      ]
     },
     "execution_count": 13,
     "metadata": {},
     "output_type": "execute_result"
    }
   ],
   "source": [
    "banks.pivot_table(index = 'y', values = 'balance', aggfunc = ['min','mean','max'])"
   ]
  },
  {
   "cell_type": "markdown",
   "id": "71770434",
   "metadata": {},
   "source": [
    "> **Insight**\n",
    "- Bahwa nasabah yang memiliki balance lebih tinggi cenderung untuk menerima tawaran dari produk kita."
   ]
  },
  {
   "cell_type": "markdown",
   "id": "b3cefb77",
   "metadata": {},
   "source": [
    "# Data Preprocessing"
   ]
  },
  {
   "cell_type": "markdown",
   "id": "0a80ff92",
   "metadata": {},
   "source": [
    "## Handling Numerical Data: Outliers\n",
    "\n",
    "Menangani outlier adalah tahapan penting dalam pemodelan machine learning dimana nilai-nilai outlier (ekstrem) ini dapat mempengaruhi performa model. Outlier adalah observasi yang nilainya sangat jauh dari observasi mayoritas dan dapat disebabkan oleh kesalahan entri data, anomali, dan kesalahan perhitungan.\n",
    "\n",
    "Mari kita identifikasi nilai outlier pada data kita dengan menggunakan boxplot:"
   ]
  },
  {
   "cell_type": "code",
   "execution_count": 14,
   "id": "505352f4",
   "metadata": {
    "scrolled": true
   },
   "outputs": [
    {
     "data": {
      "image/png": "[encoded data removed]",
      "text/plain": [
       "<Figure size 640x480 with 1 Axes>"
      ]
     },
     "metadata": {},
     "output_type": "display_data"
    }
   ],
   "source": [
    "# list kolom numerik\n",
    "num_features = ['age', 'balance', 'previous']\n",
    "# visualisasi boxplot\n",
    "banks.boxplot(column=num_features);"
   ]
  },
  {
   "cell_type": "markdown",
   "id": "b8aae31f",
   "metadata": {},
   "source": [
    "> **Insight:** \n",
    "- Outlier terbanyak terdapat di data balance."
   ]
  },
  {
   "cell_type": "markdown",
   "id": "802865ba",
   "metadata": {},
   "source": [
    "Plot di atas adalah box-plot, atau biasa dikenal dengan box-and-whisker plot. Grafik ini mengambarkan distribusi dari dataset kita. Boxplot memberikan informasi 5 number summary dari dataset kita.\n",
    "\n",
    "<img src=\"asset/boxplot.png\" width=\"600\"/>\n",
    "\n",
    "- Q1: the first quartile (25th percentile of the data)\n",
    "- Median: the second quartile (50th percentile of the data)\n",
    "- Q3: the third quartile (75th percentile of the data)\n",
    "- Lower whisker: the lower fence\n",
    "- Upper whisker: the upper fence\n",
    "- Data outside the fences are considered outliers.\n",
    "\n",
    "**Warning:** Lower whisker bukanlah nilai minimum dari data, begitupun juga upper whisker bukan nilai maksimum dari data kita.\n",
    "\n",
    "Terdapat beberapa teknik untuk mengatasi outlier, diantaranya adalah:\n",
    "1. Remove outlier, dimana menghilangkan dan menghapus keseluruhan outlier.\n",
    "2. *Scaling*, yaitu sebuah teknik untuk mentrasformasi sehingga nilai-nilai outlier ini tidak akan berpengaruh besar terhadap hasil analisis. Teknik scaling bermacam-macam, seperti standarisasi, normalisasi, min-max scaler dan lain sebagainya.\n",
    "\n",
    "Kita coba untuk remove data outlier kita terlebih dahulu."
   ]
  },
  {
   "cell_type": "code",
   "execution_count": 15,
   "id": "b5e46d4f",
   "metadata": {},
   "outputs": [],
   "source": [
    "# Mencari nilai Q1 dan Q3\n",
    "Q1 = banks[num_features].quantile(0.25)\n",
    "Q3 = banks[num_features].quantile(0.75)\n",
    "# Menghitung IQR\n",
    "IQR = Q3 - Q1"
   ]
  },
  {
   "cell_type": "code",
   "execution_count": 16,
   "id": "9c2f5cda",
   "metadata": {},
   "outputs": [
    {
     "data": {
      "text/html": [
       "<div>\n",
       "<style scoped>\n",
       "    .dataframe tbody tr th:only-of-type {\n",
       "        vertical-align: middle;\n",
       "    }\n",
       "\n",
       "    .dataframe tbody tr th {\n",
       "        vertical-align: top;\n",
       "    }\n",
       "\n",
       "    .dataframe thead th {\n",
       "        text-align: right;\n",
       "    }\n",
       "</style>\n",
       "<table border=\"1\" class=\"dataframe\">\n",
       "  <thead>\n",
       "    <tr style=\"text-align: right;\">\n",
       "      <th></th>\n",
       "      <th>age</th>\n",
       "      <th>job</th>\n",
       "      <th>marital</th>\n",
       "      <th>education</th>\n",
       "      <th>balance</th>\n",
       "      <th>housing</th>\n",
       "      <th>loan</th>\n",
       "      <th>previous</th>\n",
       "      <th>poutcome</th>\n",
       "      <th>y</th>\n",
       "    </tr>\n",
       "  </thead>\n",
       "  <tbody>\n",
       "    <tr>\n",
       "      <th>0</th>\n",
       "      <td>30</td>\n",
       "      <td>unemployed</td>\n",
       "      <td>married</td>\n",
       "      <td>primary</td>\n",
       "      <td>1787</td>\n",
       "      <td>no</td>\n",
       "      <td>no</td>\n",
       "      <td>0</td>\n",
       "      <td>nonexistent</td>\n",
       "      <td>no</td>\n",
       "    </tr>\n",
       "    <tr>\n",
       "      <th>3</th>\n",
       "      <td>30</td>\n",
       "      <td>management</td>\n",
       "      <td>married</td>\n",
       "      <td>tertiary</td>\n",
       "      <td>1476</td>\n",
       "      <td>yes</td>\n",
       "      <td>yes</td>\n",
       "      <td>0</td>\n",
       "      <td>nonexistent</td>\n",
       "      <td>no</td>\n",
       "    </tr>\n",
       "    <tr>\n",
       "      <th>4</th>\n",
       "      <td>59</td>\n",
       "      <td>blue-collar</td>\n",
       "      <td>married</td>\n",
       "      <td>secondary</td>\n",
       "      <td>0</td>\n",
       "      <td>yes</td>\n",
       "      <td>no</td>\n",
       "      <td>0</td>\n",
       "      <td>nonexistent</td>\n",
       "      <td>no</td>\n",
       "    </tr>\n",
       "    <tr>\n",
       "      <th>6</th>\n",
       "      <td>39</td>\n",
       "      <td>technician</td>\n",
       "      <td>married</td>\n",
       "      <td>secondary</td>\n",
       "      <td>147</td>\n",
       "      <td>yes</td>\n",
       "      <td>no</td>\n",
       "      <td>0</td>\n",
       "      <td>nonexistent</td>\n",
       "      <td>no</td>\n",
       "    </tr>\n",
       "    <tr>\n",
       "      <th>7</th>\n",
       "      <td>41</td>\n",
       "      <td>entrepreneur</td>\n",
       "      <td>married</td>\n",
       "      <td>tertiary</td>\n",
       "      <td>221</td>\n",
       "      <td>yes</td>\n",
       "      <td>no</td>\n",
       "      <td>0</td>\n",
       "      <td>nonexistent</td>\n",
       "      <td>no</td>\n",
       "    </tr>\n",
       "    <tr>\n",
       "      <th>...</th>\n",
       "      <td>...</td>\n",
       "      <td>...</td>\n",
       "      <td>...</td>\n",
       "      <td>...</td>\n",
       "      <td>...</td>\n",
       "      <td>...</td>\n",
       "      <td>...</td>\n",
       "      <td>...</td>\n",
       "      <td>...</td>\n",
       "      <td>...</td>\n",
       "    </tr>\n",
       "    <tr>\n",
       "      <th>4317</th>\n",
       "      <td>40</td>\n",
       "      <td>blue-collar</td>\n",
       "      <td>married</td>\n",
       "      <td>secondary</td>\n",
       "      <td>1100</td>\n",
       "      <td>yes</td>\n",
       "      <td>no</td>\n",
       "      <td>0</td>\n",
       "      <td>nonexistent</td>\n",
       "      <td>no</td>\n",
       "    </tr>\n",
       "    <tr>\n",
       "      <th>4318</th>\n",
       "      <td>49</td>\n",
       "      <td>blue-collar</td>\n",
       "      <td>married</td>\n",
       "      <td>secondary</td>\n",
       "      <td>322</td>\n",
       "      <td>no</td>\n",
       "      <td>no</td>\n",
       "      <td>0</td>\n",
       "      <td>nonexistent</td>\n",
       "      <td>no</td>\n",
       "    </tr>\n",
       "    <tr>\n",
       "      <th>4320</th>\n",
       "      <td>32</td>\n",
       "      <td>services</td>\n",
       "      <td>single</td>\n",
       "      <td>secondary</td>\n",
       "      <td>473</td>\n",
       "      <td>yes</td>\n",
       "      <td>no</td>\n",
       "      <td>0</td>\n",
       "      <td>nonexistent</td>\n",
       "      <td>no</td>\n",
       "    </tr>\n",
       "    <tr>\n",
       "      <th>4321</th>\n",
       "      <td>33</td>\n",
       "      <td>services</td>\n",
       "      <td>married</td>\n",
       "      <td>secondary</td>\n",
       "      <td>-333</td>\n",
       "      <td>yes</td>\n",
       "      <td>no</td>\n",
       "      <td>0</td>\n",
       "      <td>nonexistent</td>\n",
       "      <td>no</td>\n",
       "    </tr>\n",
       "    <tr>\n",
       "      <th>4323</th>\n",
       "      <td>57</td>\n",
       "      <td>technician</td>\n",
       "      <td>married</td>\n",
       "      <td>secondary</td>\n",
       "      <td>295</td>\n",
       "      <td>no</td>\n",
       "      <td>no</td>\n",
       "      <td>0</td>\n",
       "      <td>nonexistent</td>\n",
       "      <td>no</td>\n",
       "    </tr>\n",
       "  </tbody>\n",
       "</table>\n",
       "<p>3290 rows × 10 columns</p>\n",
       "</div>"
      ],
      "text/plain": [
       "      age           job  marital  education  balance housing loan  previous   \n",
       "0      30    unemployed  married    primary     1787      no   no         0  \\\n",
       "3      30    management  married   tertiary     1476     yes  yes         0   \n",
       "4      59   blue-collar  married  secondary        0     yes   no         0   \n",
       "6      39    technician  married  secondary      147     yes   no         0   \n",
       "7      41  entrepreneur  married   tertiary      221     yes   no         0   \n",
       "...   ...           ...      ...        ...      ...     ...  ...       ...   \n",
       "4317   40   blue-collar  married  secondary     1100     yes   no         0   \n",
       "4318   49   blue-collar  married  secondary      322      no   no         0   \n",
       "4320   32      services   single  secondary      473     yes   no         0   \n",
       "4321   33      services  married  secondary     -333     yes   no         0   \n",
       "4323   57    technician  married  secondary      295      no   no         0   \n",
       "\n",
       "         poutcome   y  \n",
       "0     nonexistent  no  \n",
       "3     nonexistent  no  \n",
       "4     nonexistent  no  \n",
       "6     nonexistent  no  \n",
       "7     nonexistent  no  \n",
       "...           ...  ..  \n",
       "4317  nonexistent  no  \n",
       "4318  nonexistent  no  \n",
       "4320  nonexistent  no  \n",
       "4321  nonexistent  no  \n",
       "4323  nonexistent  no  \n",
       "\n",
       "[3290 rows x 10 columns]"
      ]
     },
     "execution_count": 16,
     "metadata": {},
     "output_type": "execute_result"
    }
   ],
   "source": [
    "condition = (banks[num_features] < (Q1 - 1.5*IQR)) | (banks[num_features] > (Q3 + 1.5*IQR))\n",
    "\n",
    "banks[~condition.any(axis = 1)]"
   ]
  },
  {
   "cell_type": "code",
   "execution_count": 17,
   "id": "b5a146ee",
   "metadata": {},
   "outputs": [],
   "source": [
    "# Membuat kondisi\n",
    "# Kondisi 1: mendapatkan nilai outlier di bawah lower whisker\n",
    "# Kondisi 2: mendapatkan nilai outlier di atas upper whisker\n",
    "condition = (banks[num_features] < (Q1 - 1.5*IQR)) | (banks[num_features] > (Q3 + 1.5*IQR))\n",
    "\n",
    "# Menghilangkan outlier dan assign ke df banks\n",
    "banks = banks[~condition.any(axis=1)]"
   ]
  },
  {
   "cell_type": "markdown",
   "id": "bb2220de",
   "metadata": {},
   "source": [
    "-- END OF DAY 1 --\n",
    "\n",
    "**SUMMARY**\n",
    "\n",
    "# Machine Learning Workflow: Classification\n",
    "\n",
    "## Load Data\n",
    "\n",
    "Import data. Dalam hal ini data kita dalah data marketing dari sebuah bank. Dimana tujuan utama kita adalah memprediksi apakah seorang nasabah itu akan subscribe produk kita atau tidak.\n",
    "\n",
    "## EDA\n",
    "\n",
    "3 Tahapan:\n",
    "- Identifikasi tipe data, missing values, dan juga duplikat\n",
    "    - tipe data: Jika tipe data tidak tepat, akan mempengaruhi performa dari model. Model akan salah paham mengenai data kita.\n",
    "    - missing values: Ketika kita membiarkan missing values, kemungkinan akan menggagalkan proses dari pemodelan machine learning kita. Sehingga kita harus handle: remove, imputasi.\n",
    "    - Duplikat: Model bisa menjadi bias, karena lebih mengutamakan data duplikat dalam melakukan prediksi.\n",
    "- Deskripsi Statistik dari data kita\n",
    "- Eksplorasi lanjutan -> Mendapatkan hipotesis/lebih kenal dengan data kita.\n",
    "\n",
    "## Preprocessing\n",
    "\n",
    "### Numerical Values: Outliers\n",
    "\n",
    "Outlier adalah nilai pencilan/ekstrem yang dapat mempengaruhi analisis pemodelan machine learning. Sehingga harus handle:\n",
    "- Remove\n",
    "- Scaling (scaling akan dibahas di kasus regresi)"
   ]
  },
  {
   "cell_type": "markdown",
   "id": "774e8dba",
   "metadata": {},
   "source": [
    "-- Start of Day 2 --"
   ]
  },
  {
   "cell_type": "markdown",
   "id": "1950e661",
   "metadata": {},
   "source": [
    "## Handling Categorical Data: Encoding"
   ]
  },
  {
   "cell_type": "markdown",
   "id": "9848b247",
   "metadata": {},
   "source": [
    "Di Python, data input dan output untuk model *machine learning* harus berbentuk numeric. Ini berarti, ketika data kita mempunyai nilai kategorikal, harus di-*encode* menjadi numerik sebelum dimasukkan ke dalam pemodelan dan evaluasi machine learning.\n",
    "\n",
    "Data kategorikal adalah data yang mengandung nilai label alih-alih nilai numerik. Tipe data kategorikal terbagi menjadi dua, yaitu:\n",
    "\n",
    "1. Nominal: Tipe kategorikal yang tidak memiliki hubungan antara kategori satu dengan yang lainnya. Contoh: kota (Jakarta, Makassar, Bandung), warna (biru, putih, hitam), hewan (kucing, sapi, \"masbro\").\n",
    "\n",
    "2. Ordinal: Tipe kategorikal yang memiliki hubungan bertingkat. Contoh: tingkat pendidikan (s1, s2, s3), tingkat kepuasan (kecewa, netral, puas), pengalaman kerja (junior, mid, senior).\n",
    "\n",
    "![](asset/categorical-type.png)\n",
    "\n",
    "\n",
    "Kolom:\n",
    "1. Kelurahan, Provinsi, Kecamatan, Kota, Provinsi: Ordinal, karena memiliki tingkat dari segi daerah\n",
    "2. Sepak Bola, Badminton, Catur, Sepak Bola: Nominal, karena tidak memiliki hubungan tingkatan antara satu dengan lainnya.\n",
    "\n",
    "Setelah mengetahui jenis dari data kategori yang kita punyai. Identifikasikanlah kolom-kolom kategorik dataset kita, kolom mana yang termasuk ordinal dan yang termasuk nominal.\n",
    "\n",
    "- Ordinal: Education\n",
    "- Nominal: Job, Marital, Housing, Loan, Poutcome, y."
   ]
  },
  {
   "cell_type": "code",
   "execution_count": 18,
   "id": "0c6f12f8",
   "metadata": {},
   "outputs": [
    {
     "data": {
      "text/html": [
       "<div>\n",
       "<style scoped>\n",
       "    .dataframe tbody tr th:only-of-type {\n",
       "        vertical-align: middle;\n",
       "    }\n",
       "\n",
       "    .dataframe tbody tr th {\n",
       "        vertical-align: top;\n",
       "    }\n",
       "\n",
       "    .dataframe thead th {\n",
       "        text-align: right;\n",
       "    }\n",
       "</style>\n",
       "<table border=\"1\" class=\"dataframe\">\n",
       "  <thead>\n",
       "    <tr style=\"text-align: right;\">\n",
       "      <th></th>\n",
       "      <th>age</th>\n",
       "      <th>job</th>\n",
       "      <th>marital</th>\n",
       "      <th>education</th>\n",
       "      <th>balance</th>\n",
       "      <th>housing</th>\n",
       "      <th>loan</th>\n",
       "      <th>previous</th>\n",
       "      <th>poutcome</th>\n",
       "      <th>y</th>\n",
       "    </tr>\n",
       "  </thead>\n",
       "  <tbody>\n",
       "    <tr>\n",
       "      <th>0</th>\n",
       "      <td>30</td>\n",
       "      <td>unemployed</td>\n",
       "      <td>married</td>\n",
       "      <td>primary</td>\n",
       "      <td>1787</td>\n",
       "      <td>no</td>\n",
       "      <td>no</td>\n",
       "      <td>0</td>\n",
       "      <td>nonexistent</td>\n",
       "      <td>no</td>\n",
       "    </tr>\n",
       "    <tr>\n",
       "      <th>3</th>\n",
       "      <td>30</td>\n",
       "      <td>management</td>\n",
       "      <td>married</td>\n",
       "      <td>tertiary</td>\n",
       "      <td>1476</td>\n",
       "      <td>yes</td>\n",
       "      <td>yes</td>\n",
       "      <td>0</td>\n",
       "      <td>nonexistent</td>\n",
       "      <td>no</td>\n",
       "    </tr>\n",
       "    <tr>\n",
       "      <th>4</th>\n",
       "      <td>59</td>\n",
       "      <td>blue-collar</td>\n",
       "      <td>married</td>\n",
       "      <td>secondary</td>\n",
       "      <td>0</td>\n",
       "      <td>yes</td>\n",
       "      <td>no</td>\n",
       "      <td>0</td>\n",
       "      <td>nonexistent</td>\n",
       "      <td>no</td>\n",
       "    </tr>\n",
       "  </tbody>\n",
       "</table>\n",
       "</div>"
      ],
      "text/plain": [
       "   age          job  marital  education  balance housing loan  previous   \n",
       "0   30   unemployed  married    primary     1787      no   no         0  \\\n",
       "3   30   management  married   tertiary     1476     yes  yes         0   \n",
       "4   59  blue-collar  married  secondary        0     yes   no         0   \n",
       "\n",
       "      poutcome   y  \n",
       "0  nonexistent  no  \n",
       "3  nonexistent  no  \n",
       "4  nonexistent  no  "
      ]
     },
     "execution_count": 18,
     "metadata": {},
     "output_type": "execute_result"
    }
   ],
   "source": [
    "banks.head(3)"
   ]
  },
  {
   "cell_type": "markdown",
   "id": "3113dd6a",
   "metadata": {},
   "source": [
    "### Ordinal Encoding\n",
    "\n",
    "Digunakan untuk kategori bertipe ordinal. Pada ordinal encoding, setiap kategori diubah menjadi sebuah nilai numerik. Contoh: kecewa -> 0, netral -> 1, puas -> 2. Nilai numerik diurut berdasarkan tingkat dari kategori tersebut.\n",
    "\n",
    "<div>\n",
    "<img src=\"asset/ordinal_encoding.png\" width=\"600\"/>\n",
    "</div>\n",
    "\n",
    "\n",
    "Untuk melakukan ordinal encoding, terdapat 3 step yang harus dilakukan:\n",
    "\n",
    "1. Membuat list yang berisi urutan kategori berdasarkan tingkatannya.\n",
    "2. Membuat objek encoding\n",
    "3. Melakukan encoding terhadap data kita.\n",
    "\n",
    "Mari kita melihat kolom ordinal pada dataset kita."
   ]
  },
  {
   "cell_type": "code",
   "execution_count": 19,
   "id": "3db8ff19",
   "metadata": {},
   "outputs": [
    {
     "data": {
      "text/plain": [
       "['primary', 'tertiary', 'secondary', 'unknown']\n",
       "Categories (4, object): ['primary', 'secondary', 'tertiary', 'unknown']"
      ]
     },
     "execution_count": 19,
     "metadata": {},
     "output_type": "execute_result"
    }
   ],
   "source": [
    "banks['education'].unique()"
   ]
  },
  {
   "cell_type": "markdown",
   "id": "b5deae13",
   "metadata": {},
   "source": [
    "Mari kita terapkan langkah-langkah untuk membuat Ordinal Encoding.\n",
    "\n",
    "A. Membuat list yang berisi urutan kategori berdasarkan tingkatannya.\n",
    "\n",
    "> Jika ada tingkatan yang membuat kita tidak yakin 'unknown', kita masukkkan saja dia di tingkatan paling rendah"
   ]
  },
  {
   "cell_type": "code",
   "execution_count": 20,
   "id": "e2c30e01",
   "metadata": {},
   "outputs": [],
   "source": [
    "# urutan\n",
    "urutan = ['unknown','primary', 'secondary', 'tertiary']"
   ]
  },
  {
   "cell_type": "markdown",
   "id": "337fc9aa",
   "metadata": {},
   "source": [
    "B. Membuat objek Encoding"
   ]
  },
  {
   "cell_type": "markdown",
   "id": "112a449c",
   "metadata": {},
   "source": [
    "Pada python, kita dapat menerapkan ordinal encoding menggunakan fungsi `OrdinalEncoder()` dari `sklearn.preprocessing`.\n",
    "`OrdinalEncoder()` mengubah nilai kategorikal menjadi numerikal berdasarkan urutan yang dimasukkan. Berikut adalah parameter yang penting:\n",
    "\n",
    "- categories: Parameter ini digunakan untuk menentukan urutan/tingkatan kategori yang kita miliki. Diisi oleh list yang dibalut oleh list. Dimana list terdalam mengandung urutan kategori untuk sebuah kolom kategori. Jika paramater ini tidak digunakan, maka encoder akan mengurutkan berdasarkan abjad.\n",
    "\n",
    "Dokumentasi OrdinalEncoder dapat dilihat di [sini](https://scikit-learn.org/stable/modules/generated/sklearn.preprocessing.OrdinalEncoder.html)."
   ]
  },
  {
   "cell_type": "code",
   "execution_count": 21,
   "id": "cd6b9fd0",
   "metadata": {},
   "outputs": [],
   "source": [
    "# create encoding object\n",
    "from sklearn.preprocessing import OrdinalEncoder\n",
    "\n",
    "ordinal_enc = OrdinalEncoder(categories = [urutan])"
   ]
  },
  {
   "cell_type": "markdown",
   "id": "80ede315",
   "metadata": {},
   "source": [
    "C. Melakukan encoding terhadap data kita"
   ]
  },
  {
   "cell_type": "code",
   "execution_count": 22,
   "id": "9d62bbce",
   "metadata": {},
   "outputs": [
    {
     "data": {
      "text/html": [
       "<div>\n",
       "<style scoped>\n",
       "    .dataframe tbody tr th:only-of-type {\n",
       "        vertical-align: middle;\n",
       "    }\n",
       "\n",
       "    .dataframe tbody tr th {\n",
       "        vertical-align: top;\n",
       "    }\n",
       "\n",
       "    .dataframe thead th {\n",
       "        text-align: right;\n",
       "    }\n",
       "</style>\n",
       "<table border=\"1\" class=\"dataframe\">\n",
       "  <thead>\n",
       "    <tr style=\"text-align: right;\">\n",
       "      <th></th>\n",
       "      <th>age</th>\n",
       "      <th>job</th>\n",
       "      <th>marital</th>\n",
       "      <th>education</th>\n",
       "      <th>balance</th>\n",
       "      <th>housing</th>\n",
       "      <th>loan</th>\n",
       "      <th>previous</th>\n",
       "      <th>poutcome</th>\n",
       "      <th>y</th>\n",
       "    </tr>\n",
       "  </thead>\n",
       "  <tbody>\n",
       "    <tr>\n",
       "      <th>0</th>\n",
       "      <td>30</td>\n",
       "      <td>unemployed</td>\n",
       "      <td>married</td>\n",
       "      <td>1.0</td>\n",
       "      <td>1787</td>\n",
       "      <td>no</td>\n",
       "      <td>no</td>\n",
       "      <td>0</td>\n",
       "      <td>nonexistent</td>\n",
       "      <td>no</td>\n",
       "    </tr>\n",
       "    <tr>\n",
       "      <th>3</th>\n",
       "      <td>30</td>\n",
       "      <td>management</td>\n",
       "      <td>married</td>\n",
       "      <td>3.0</td>\n",
       "      <td>1476</td>\n",
       "      <td>yes</td>\n",
       "      <td>yes</td>\n",
       "      <td>0</td>\n",
       "      <td>nonexistent</td>\n",
       "      <td>no</td>\n",
       "    </tr>\n",
       "    <tr>\n",
       "      <th>4</th>\n",
       "      <td>59</td>\n",
       "      <td>blue-collar</td>\n",
       "      <td>married</td>\n",
       "      <td>2.0</td>\n",
       "      <td>0</td>\n",
       "      <td>yes</td>\n",
       "      <td>no</td>\n",
       "      <td>0</td>\n",
       "      <td>nonexistent</td>\n",
       "      <td>no</td>\n",
       "    </tr>\n",
       "  </tbody>\n",
       "</table>\n",
       "</div>"
      ],
      "text/plain": [
       "   age          job  marital  education  balance housing loan  previous   \n",
       "0   30   unemployed  married        1.0     1787      no   no         0  \\\n",
       "3   30   management  married        3.0     1476     yes  yes         0   \n",
       "4   59  blue-collar  married        2.0        0     yes   no         0   \n",
       "\n",
       "      poutcome   y  \n",
       "0  nonexistent  no  \n",
       "3  nonexistent  no  \n",
       "4  nonexistent  no  "
      ]
     },
     "execution_count": 22,
     "metadata": {},
     "output_type": "execute_result"
    }
   ],
   "source": [
    "# code here\n",
    "banks[['education']] = ordinal_enc.fit_transform(banks[['education']])\n",
    "\n",
    "banks.head(3)"
   ]
  },
  {
   "cell_type": "code",
   "execution_count": 23,
   "id": "b3fb07e5",
   "metadata": {},
   "outputs": [
    {
     "data": {
      "text/plain": [
       "age             int64\n",
       "job          category\n",
       "marital      category\n",
       "education     float64\n",
       "balance         int64\n",
       "housing      category\n",
       "loan         category\n",
       "previous        int64\n",
       "poutcome     category\n",
       "y            category\n",
       "dtype: object"
      ]
     },
     "execution_count": 23,
     "metadata": {},
     "output_type": "execute_result"
    }
   ],
   "source": [
    "banks.dtypes"
   ]
  },
  {
   "cell_type": "markdown",
   "id": "b7fe924b",
   "metadata": {},
   "source": [
    "- Ordinal -> Ordinal Encoding\n",
    "- Nominal -> Dummy Variable Encoding"
   ]
  },
  {
   "cell_type": "markdown",
   "id": "6e217e19",
   "metadata": {},
   "source": [
    "#### Dummy Variable Encoding\n",
    "\n",
    "Digunakan untuk kategori bertipe nominal yang tidak memiliki hubungan bertingkat antar kategorinya. *Dummy variable encoding* membuat kolom baru bertipe biner untuk masing-masing kategorinya.\n",
    "\n",
    "![](asset/dummy-variable.png)\n",
    "\n",
    "> **💡 NOTES**: Salah satu kolom di-*drop* karena bersifat redundan (berulang). Untuk kolom yang hanya memiliki 2 kategori, tidak ada perbedaan hasil/efek baik ketika memilih ordinal ataupun dummy, best practicenya menggunakan dummy variabel."
   ]
  },
  {
   "cell_type": "markdown",
   "id": "b59a88a3",
   "metadata": {},
   "source": [
    "Untuk melakukan **Dummy Variable Encoding** kita menggunakan `pd.get_dummies()` dengan memasukkan kolom yang ingin kita ubah. Adapun parameter antara lain:\n",
    "\n",
    "- `data`: data yang ingin diubah menjadi numerikal\n",
    "\n",
    "- `columns`: list kolom yang akan dilakukan dummy variable encoding\n",
    "\n",
    "- `drop_first`: apakah ingin drop kolom pertama. Default False. Namun akan kita atur sebagai True agar kolom hasil dummies tidak redundan\n",
    "\n",
    "Dokumentasi `pd.get_dummies()` dapat diakses [di sini](https://pandas.pydata.org/docs/reference/api/pandas.get_dummies.html)\n",
    "\n",
    "Mari kita coba menerapkan **Dummy Variable Encoding** untuk kolom yang telah kita sepakati: Job, Marital, Housing, Loan, Poutcome, y."
   ]
  },
  {
   "cell_type": "code",
   "execution_count": 24,
   "id": "e57eb3a3",
   "metadata": {},
   "outputs": [
    {
     "data": {
      "text/html": [
       "<div>\n",
       "<style scoped>\n",
       "    .dataframe tbody tr th:only-of-type {\n",
       "        vertical-align: middle;\n",
       "    }\n",
       "\n",
       "    .dataframe tbody tr th {\n",
       "        vertical-align: top;\n",
       "    }\n",
       "\n",
       "    .dataframe thead th {\n",
       "        text-align: right;\n",
       "    }\n",
       "</style>\n",
       "<table border=\"1\" class=\"dataframe\">\n",
       "  <thead>\n",
       "    <tr style=\"text-align: right;\">\n",
       "      <th></th>\n",
       "      <th>age</th>\n",
       "      <th>job</th>\n",
       "      <th>education</th>\n",
       "      <th>balance</th>\n",
       "      <th>previous</th>\n",
       "      <th>y</th>\n",
       "      <th>marital_married</th>\n",
       "      <th>marital_single</th>\n",
       "      <th>housing_yes</th>\n",
       "      <th>poutcome_nonexistent</th>\n",
       "      <th>poutcome_success</th>\n",
       "      <th>loan_yes</th>\n",
       "    </tr>\n",
       "  </thead>\n",
       "  <tbody>\n",
       "    <tr>\n",
       "      <th>0</th>\n",
       "      <td>30</td>\n",
       "      <td>unemployed</td>\n",
       "      <td>1.0</td>\n",
       "      <td>1787</td>\n",
       "      <td>0</td>\n",
       "      <td>no</td>\n",
       "      <td>1</td>\n",
       "      <td>0</td>\n",
       "      <td>0</td>\n",
       "      <td>1</td>\n",
       "      <td>0</td>\n",
       "      <td>0</td>\n",
       "    </tr>\n",
       "    <tr>\n",
       "      <th>3</th>\n",
       "      <td>30</td>\n",
       "      <td>management</td>\n",
       "      <td>3.0</td>\n",
       "      <td>1476</td>\n",
       "      <td>0</td>\n",
       "      <td>no</td>\n",
       "      <td>1</td>\n",
       "      <td>0</td>\n",
       "      <td>1</td>\n",
       "      <td>1</td>\n",
       "      <td>0</td>\n",
       "      <td>1</td>\n",
       "    </tr>\n",
       "    <tr>\n",
       "      <th>4</th>\n",
       "      <td>59</td>\n",
       "      <td>blue-collar</td>\n",
       "      <td>2.0</td>\n",
       "      <td>0</td>\n",
       "      <td>0</td>\n",
       "      <td>no</td>\n",
       "      <td>1</td>\n",
       "      <td>0</td>\n",
       "      <td>1</td>\n",
       "      <td>1</td>\n",
       "      <td>0</td>\n",
       "      <td>0</td>\n",
       "    </tr>\n",
       "    <tr>\n",
       "      <th>6</th>\n",
       "      <td>39</td>\n",
       "      <td>technician</td>\n",
       "      <td>2.0</td>\n",
       "      <td>147</td>\n",
       "      <td>0</td>\n",
       "      <td>no</td>\n",
       "      <td>1</td>\n",
       "      <td>0</td>\n",
       "      <td>1</td>\n",
       "      <td>1</td>\n",
       "      <td>0</td>\n",
       "      <td>0</td>\n",
       "    </tr>\n",
       "    <tr>\n",
       "      <th>7</th>\n",
       "      <td>41</td>\n",
       "      <td>entrepreneur</td>\n",
       "      <td>3.0</td>\n",
       "      <td>221</td>\n",
       "      <td>0</td>\n",
       "      <td>no</td>\n",
       "      <td>1</td>\n",
       "      <td>0</td>\n",
       "      <td>1</td>\n",
       "      <td>1</td>\n",
       "      <td>0</td>\n",
       "      <td>0</td>\n",
       "    </tr>\n",
       "  </tbody>\n",
       "</table>\n",
       "</div>"
      ],
      "text/plain": [
       "   age           job  education  balance  previous   y  marital_married   \n",
       "0   30    unemployed        1.0     1787         0  no                1  \\\n",
       "3   30    management        3.0     1476         0  no                1   \n",
       "4   59   blue-collar        2.0        0         0  no                1   \n",
       "6   39    technician        2.0      147         0  no                1   \n",
       "7   41  entrepreneur        3.0      221         0  no                1   \n",
       "\n",
       "   marital_single  housing_yes  poutcome_nonexistent  poutcome_success   \n",
       "0               0            0                     1                 0  \\\n",
       "3               0            1                     1                 0   \n",
       "4               0            1                     1                 0   \n",
       "6               0            1                     1                 0   \n",
       "7               0            1                     1                 0   \n",
       "\n",
       "   loan_yes  \n",
       "0         0  \n",
       "3         1  \n",
       "4         0  \n",
       "6         0  \n",
       "7         0  "
      ]
     },
     "execution_count": 24,
     "metadata": {},
     "output_type": "execute_result"
    }
   ],
   "source": [
    "# Melihat pd.get_dummies diterapkan\n",
    "pd.get_dummies(banks, columns = ['marital', 'housing', 'poutcome', 'loan'], drop_first=True, dtype = int).head()"
   ]
  },
  {
   "cell_type": "code",
   "execution_count": 25,
   "id": "3d62ea56",
   "metadata": {},
   "outputs": [
    {
     "data": {
      "text/html": [
       "<div>\n",
       "<style scoped>\n",
       "    .dataframe tbody tr th:only-of-type {\n",
       "        vertical-align: middle;\n",
       "    }\n",
       "\n",
       "    .dataframe tbody tr th {\n",
       "        vertical-align: top;\n",
       "    }\n",
       "\n",
       "    .dataframe thead th {\n",
       "        text-align: right;\n",
       "    }\n",
       "</style>\n",
       "<table border=\"1\" class=\"dataframe\">\n",
       "  <thead>\n",
       "    <tr style=\"text-align: right;\">\n",
       "      <th></th>\n",
       "      <th>age</th>\n",
       "      <th>job</th>\n",
       "      <th>education</th>\n",
       "      <th>balance</th>\n",
       "      <th>previous</th>\n",
       "      <th>y</th>\n",
       "      <th>marital_married</th>\n",
       "      <th>marital_single</th>\n",
       "      <th>housing_yes</th>\n",
       "      <th>poutcome_nonexistent</th>\n",
       "      <th>poutcome_success</th>\n",
       "      <th>loan_yes</th>\n",
       "    </tr>\n",
       "  </thead>\n",
       "  <tbody>\n",
       "    <tr>\n",
       "      <th>0</th>\n",
       "      <td>30</td>\n",
       "      <td>unemployed</td>\n",
       "      <td>1.0</td>\n",
       "      <td>1787</td>\n",
       "      <td>0</td>\n",
       "      <td>no</td>\n",
       "      <td>1</td>\n",
       "      <td>0</td>\n",
       "      <td>0</td>\n",
       "      <td>1</td>\n",
       "      <td>0</td>\n",
       "      <td>0</td>\n",
       "    </tr>\n",
       "    <tr>\n",
       "      <th>3</th>\n",
       "      <td>30</td>\n",
       "      <td>management</td>\n",
       "      <td>3.0</td>\n",
       "      <td>1476</td>\n",
       "      <td>0</td>\n",
       "      <td>no</td>\n",
       "      <td>1</td>\n",
       "      <td>0</td>\n",
       "      <td>1</td>\n",
       "      <td>1</td>\n",
       "      <td>0</td>\n",
       "      <td>1</td>\n",
       "    </tr>\n",
       "    <tr>\n",
       "      <th>4</th>\n",
       "      <td>59</td>\n",
       "      <td>blue-collar</td>\n",
       "      <td>2.0</td>\n",
       "      <td>0</td>\n",
       "      <td>0</td>\n",
       "      <td>no</td>\n",
       "      <td>1</td>\n",
       "      <td>0</td>\n",
       "      <td>1</td>\n",
       "      <td>1</td>\n",
       "      <td>0</td>\n",
       "      <td>0</td>\n",
       "    </tr>\n",
       "    <tr>\n",
       "      <th>6</th>\n",
       "      <td>39</td>\n",
       "      <td>technician</td>\n",
       "      <td>2.0</td>\n",
       "      <td>147</td>\n",
       "      <td>0</td>\n",
       "      <td>no</td>\n",
       "      <td>1</td>\n",
       "      <td>0</td>\n",
       "      <td>1</td>\n",
       "      <td>1</td>\n",
       "      <td>0</td>\n",
       "      <td>0</td>\n",
       "    </tr>\n",
       "    <tr>\n",
       "      <th>7</th>\n",
       "      <td>41</td>\n",
       "      <td>entrepreneur</td>\n",
       "      <td>3.0</td>\n",
       "      <td>221</td>\n",
       "      <td>0</td>\n",
       "      <td>no</td>\n",
       "      <td>1</td>\n",
       "      <td>0</td>\n",
       "      <td>1</td>\n",
       "      <td>1</td>\n",
       "      <td>0</td>\n",
       "      <td>0</td>\n",
       "    </tr>\n",
       "  </tbody>\n",
       "</table>\n",
       "</div>"
      ],
      "text/plain": [
       "   age           job  education  balance  previous   y  marital_married   \n",
       "0   30    unemployed        1.0     1787         0  no                1  \\\n",
       "3   30    management        3.0     1476         0  no                1   \n",
       "4   59   blue-collar        2.0        0         0  no                1   \n",
       "6   39    technician        2.0      147         0  no                1   \n",
       "7   41  entrepreneur        3.0      221         0  no                1   \n",
       "\n",
       "   marital_single  housing_yes  poutcome_nonexistent  poutcome_success   \n",
       "0               0            0                     1                 0  \\\n",
       "3               0            1                     1                 0   \n",
       "4               0            1                     1                 0   \n",
       "6               0            1                     1                 0   \n",
       "7               0            1                     1                 0   \n",
       "\n",
       "   loan_yes  \n",
       "0         0  \n",
       "3         1  \n",
       "4         0  \n",
       "6         0  \n",
       "7         0  "
      ]
     },
     "execution_count": 25,
     "metadata": {},
     "output_type": "execute_result"
    }
   ],
   "source": [
    "banks_enc = pd.get_dummies(banks, columns = ['marital', 'housing', 'poutcome', 'loan'], drop_first=True, dtype = int)\n",
    "\n",
    "banks_enc.head()"
   ]
  },
  {
   "cell_type": "markdown",
   "id": "5155e58c",
   "metadata": {},
   "source": [
    "Silahkan lakukan dummy variable encoding untuk kolom yang belum dilakukan encoding.\n",
    "\n",
    "Kolom `job`, dan `y` belum dilakukan encoding"
   ]
  },
  {
   "cell_type": "code",
   "execution_count": 26,
   "id": "ad4e6358",
   "metadata": {},
   "outputs": [
    {
     "data": {
      "text/html": [
       "<div>\n",
       "<style scoped>\n",
       "    .dataframe tbody tr th:only-of-type {\n",
       "        vertical-align: middle;\n",
       "    }\n",
       "\n",
       "    .dataframe tbody tr th {\n",
       "        vertical-align: top;\n",
       "    }\n",
       "\n",
       "    .dataframe thead th {\n",
       "        text-align: right;\n",
       "    }\n",
       "</style>\n",
       "<table border=\"1\" class=\"dataframe\">\n",
       "  <thead>\n",
       "    <tr style=\"text-align: right;\">\n",
       "      <th></th>\n",
       "      <th>age</th>\n",
       "      <th>education</th>\n",
       "      <th>balance</th>\n",
       "      <th>previous</th>\n",
       "      <th>marital_married</th>\n",
       "      <th>marital_single</th>\n",
       "      <th>housing_yes</th>\n",
       "      <th>poutcome_nonexistent</th>\n",
       "      <th>poutcome_success</th>\n",
       "      <th>loan_yes</th>\n",
       "      <th>...</th>\n",
       "      <th>job_housemaid</th>\n",
       "      <th>job_management</th>\n",
       "      <th>job_retired</th>\n",
       "      <th>job_self-employed</th>\n",
       "      <th>job_services</th>\n",
       "      <th>job_student</th>\n",
       "      <th>job_technician</th>\n",
       "      <th>job_unemployed</th>\n",
       "      <th>job_unknown</th>\n",
       "      <th>y_yes</th>\n",
       "    </tr>\n",
       "  </thead>\n",
       "  <tbody>\n",
       "    <tr>\n",
       "      <th>0</th>\n",
       "      <td>30</td>\n",
       "      <td>1.0</td>\n",
       "      <td>1787</td>\n",
       "      <td>0</td>\n",
       "      <td>1</td>\n",
       "      <td>0</td>\n",
       "      <td>0</td>\n",
       "      <td>1</td>\n",
       "      <td>0</td>\n",
       "      <td>0</td>\n",
       "      <td>...</td>\n",
       "      <td>0</td>\n",
       "      <td>0</td>\n",
       "      <td>0</td>\n",
       "      <td>0</td>\n",
       "      <td>0</td>\n",
       "      <td>0</td>\n",
       "      <td>0</td>\n",
       "      <td>1</td>\n",
       "      <td>0</td>\n",
       "      <td>0</td>\n",
       "    </tr>\n",
       "    <tr>\n",
       "      <th>3</th>\n",
       "      <td>30</td>\n",
       "      <td>3.0</td>\n",
       "      <td>1476</td>\n",
       "      <td>0</td>\n",
       "      <td>1</td>\n",
       "      <td>0</td>\n",
       "      <td>1</td>\n",
       "      <td>1</td>\n",
       "      <td>0</td>\n",
       "      <td>1</td>\n",
       "      <td>...</td>\n",
       "      <td>0</td>\n",
       "      <td>1</td>\n",
       "      <td>0</td>\n",
       "      <td>0</td>\n",
       "      <td>0</td>\n",
       "      <td>0</td>\n",
       "      <td>0</td>\n",
       "      <td>0</td>\n",
       "      <td>0</td>\n",
       "      <td>0</td>\n",
       "    </tr>\n",
       "    <tr>\n",
       "      <th>4</th>\n",
       "      <td>59</td>\n",
       "      <td>2.0</td>\n",
       "      <td>0</td>\n",
       "      <td>0</td>\n",
       "      <td>1</td>\n",
       "      <td>0</td>\n",
       "      <td>1</td>\n",
       "      <td>1</td>\n",
       "      <td>0</td>\n",
       "      <td>0</td>\n",
       "      <td>...</td>\n",
       "      <td>0</td>\n",
       "      <td>0</td>\n",
       "      <td>0</td>\n",
       "      <td>0</td>\n",
       "      <td>0</td>\n",
       "      <td>0</td>\n",
       "      <td>0</td>\n",
       "      <td>0</td>\n",
       "      <td>0</td>\n",
       "      <td>0</td>\n",
       "    </tr>\n",
       "    <tr>\n",
       "      <th>6</th>\n",
       "      <td>39</td>\n",
       "      <td>2.0</td>\n",
       "      <td>147</td>\n",
       "      <td>0</td>\n",
       "      <td>1</td>\n",
       "      <td>0</td>\n",
       "      <td>1</td>\n",
       "      <td>1</td>\n",
       "      <td>0</td>\n",
       "      <td>0</td>\n",
       "      <td>...</td>\n",
       "      <td>0</td>\n",
       "      <td>0</td>\n",
       "      <td>0</td>\n",
       "      <td>0</td>\n",
       "      <td>0</td>\n",
       "      <td>0</td>\n",
       "      <td>1</td>\n",
       "      <td>0</td>\n",
       "      <td>0</td>\n",
       "      <td>0</td>\n",
       "    </tr>\n",
       "    <tr>\n",
       "      <th>7</th>\n",
       "      <td>41</td>\n",
       "      <td>3.0</td>\n",
       "      <td>221</td>\n",
       "      <td>0</td>\n",
       "      <td>1</td>\n",
       "      <td>0</td>\n",
       "      <td>1</td>\n",
       "      <td>1</td>\n",
       "      <td>0</td>\n",
       "      <td>0</td>\n",
       "      <td>...</td>\n",
       "      <td>0</td>\n",
       "      <td>0</td>\n",
       "      <td>0</td>\n",
       "      <td>0</td>\n",
       "      <td>0</td>\n",
       "      <td>0</td>\n",
       "      <td>0</td>\n",
       "      <td>0</td>\n",
       "      <td>0</td>\n",
       "      <td>0</td>\n",
       "    </tr>\n",
       "  </tbody>\n",
       "</table>\n",
       "<p>5 rows × 22 columns</p>\n",
       "</div>"
      ],
      "text/plain": [
       "   age  education  balance  previous  marital_married  marital_single   \n",
       "0   30        1.0     1787         0                1               0  \\\n",
       "3   30        3.0     1476         0                1               0   \n",
       "4   59        2.0        0         0                1               0   \n",
       "6   39        2.0      147         0                1               0   \n",
       "7   41        3.0      221         0                1               0   \n",
       "\n",
       "   housing_yes  poutcome_nonexistent  poutcome_success  loan_yes  ...   \n",
       "0            0                     1                 0         0  ...  \\\n",
       "3            1                     1                 0         1  ...   \n",
       "4            1                     1                 0         0  ...   \n",
       "6            1                     1                 0         0  ...   \n",
       "7            1                     1                 0         0  ...   \n",
       "\n",
       "   job_housemaid  job_management  job_retired  job_self-employed   \n",
       "0              0               0            0                  0  \\\n",
       "3              0               1            0                  0   \n",
       "4              0               0            0                  0   \n",
       "6              0               0            0                  0   \n",
       "7              0               0            0                  0   \n",
       "\n",
       "   job_services  job_student  job_technician  job_unemployed  job_unknown   \n",
       "0             0            0               0               1            0  \\\n",
       "3             0            0               0               0            0   \n",
       "4             0            0               0               0            0   \n",
       "6             0            0               1               0            0   \n",
       "7             0            0               0               0            0   \n",
       "\n",
       "   y_yes  \n",
       "0      0  \n",
       "3      0  \n",
       "4      0  \n",
       "6      0  \n",
       "7      0  \n",
       "\n",
       "[5 rows x 22 columns]"
      ]
     },
     "execution_count": 26,
     "metadata": {},
     "output_type": "execute_result"
    }
   ],
   "source": [
    "# code here \n",
    "banks_enc = pd.get_dummies(banks_enc, columns = ['job', 'y'], drop_first=True, dtype = int)\n",
    "\n",
    "banks_enc.head()"
   ]
  },
  {
   "cell_type": "markdown",
   "id": "6731defd",
   "metadata": {},
   "source": [
    "# Train-Test Splitting (*Cross Validation*)\n",
    "\n",
    "*Cross Validation* adalah metode yang kita gunakan untuk mengetahui seberapa baik performa model kita memprediksi terhadap data baru.\n",
    "\n",
    "Lantas, bagaimana cara mengetahui apakah model yang kita buat telah baik dalam memprediksi data baru? Di sinilah mengapa kita melakukan Train-test splitting. Kita membagi data kita menjadi 2 kelompok, yaitu data `train` dan `test`.\n",
    "\n",
    "<div>\n",
    "<img src=\"asset/test-trainn.png\" width=\"600\"/>\n",
    "</div>\n",
    "\n",
    "- Data `train`: Data yang model gunakan untuk training.\n",
    "\n",
    "- Data `test`: Data untuk evaluasi model (Untuk melihat seberapa baik model memprediksi terhadap data yang tidak digunakan untuk training)\n",
    "\n",
    "Jika diibaratkan, seorang siswa dapat dikatakan pintar ketika dapat menjawab benar soal-soal ujian yang tidak pernah dikerjakannya pada soal-soal latihan untuk persiapan ujian.\n",
    "\n",
    "Data `train` diibaratkan soal latihan, dan data `test` diibaratkan soal ujian. Adapun `model` kita diibaratkan sebagai siswa."
   ]
  },
  {
   "cell_type": "markdown",
   "id": "ee4aedfb",
   "metadata": {},
   "source": [
    "Untuk memahami performa model, membagi dataset menjadi training data dan testing data adalah strategi yang baik dengan menggunakan fungsi `train_test_split()`\n",
    "\n",
    "Pisahkan dataset dengan menggunakan fungsi `train_test_split()`. Anda harus melewati 3 parameter `features`, `target`, dan `test_size`. Selain itu, Anda dapat menggunakan `random_state` untuk memilih record secara acak."
   ]
  },
  {
   "cell_type": "code",
   "execution_count": 27,
   "id": "9bdd7184",
   "metadata": {},
   "outputs": [],
   "source": [
    "# import train_test_split function dengan memanfaatkan `from`\n",
    "from sklearn.model_selection import train_test_split"
   ]
  },
  {
   "cell_type": "markdown",
   "id": "2015ae78",
   "metadata": {},
   "source": [
    "Kita dapat menggunakan `train_test_split` dengan beberapa parameter sebagai berikut.\n",
    "- `*arrays`: dataframe yang kita gunakan (dipisah , untuk yang prediktor dan target variable)\n",
    "- `test_size`: jumlah persentase dari data yang akan digunakan sebagai data test\n",
    "- `train_size`: jumlah persentase dari data yang akan digunakan sebagai data test (akan otomatis terisi jika `test_size` diberi nilai)\n",
    "- `random_state`: nilai random number generator (RNG). Jika kita memasukkan suatu nilai integer untuk parameter ini maka akan menghasilkan hasil yang sama untuk nilai yang sama. Jika kita mengubah nilainya, maka hasilnya akan berbeda."
   ]
  },
  {
   "cell_type": "markdown",
   "id": "1e2d7765",
   "metadata": {},
   "source": [
    "> **💡 NOTES**: Biasanya data dibagi menjadi 80:20 atau 70:30 (train size:test size). Porsi yang besar selalu digunakan untuk training"
   ]
  },
  {
   "cell_type": "code",
   "execution_count": 28,
   "id": "ac334698",
   "metadata": {},
   "outputs": [
    {
     "data": {
      "text/html": [
       "<div>\n",
       "<style scoped>\n",
       "    .dataframe tbody tr th:only-of-type {\n",
       "        vertical-align: middle;\n",
       "    }\n",
       "\n",
       "    .dataframe tbody tr th {\n",
       "        vertical-align: top;\n",
       "    }\n",
       "\n",
       "    .dataframe thead th {\n",
       "        text-align: right;\n",
       "    }\n",
       "</style>\n",
       "<table border=\"1\" class=\"dataframe\">\n",
       "  <thead>\n",
       "    <tr style=\"text-align: right;\">\n",
       "      <th></th>\n",
       "      <th>age</th>\n",
       "      <th>education</th>\n",
       "      <th>balance</th>\n",
       "      <th>previous</th>\n",
       "      <th>marital_married</th>\n",
       "      <th>marital_single</th>\n",
       "      <th>housing_yes</th>\n",
       "      <th>poutcome_nonexistent</th>\n",
       "      <th>poutcome_success</th>\n",
       "      <th>loan_yes</th>\n",
       "      <th>...</th>\n",
       "      <th>job_housemaid</th>\n",
       "      <th>job_management</th>\n",
       "      <th>job_retired</th>\n",
       "      <th>job_self-employed</th>\n",
       "      <th>job_services</th>\n",
       "      <th>job_student</th>\n",
       "      <th>job_technician</th>\n",
       "      <th>job_unemployed</th>\n",
       "      <th>job_unknown</th>\n",
       "      <th>y_yes</th>\n",
       "    </tr>\n",
       "  </thead>\n",
       "  <tbody>\n",
       "    <tr>\n",
       "      <th>0</th>\n",
       "      <td>30</td>\n",
       "      <td>1.0</td>\n",
       "      <td>1787</td>\n",
       "      <td>0</td>\n",
       "      <td>1</td>\n",
       "      <td>0</td>\n",
       "      <td>0</td>\n",
       "      <td>1</td>\n",
       "      <td>0</td>\n",
       "      <td>0</td>\n",
       "      <td>...</td>\n",
       "      <td>0</td>\n",
       "      <td>0</td>\n",
       "      <td>0</td>\n",
       "      <td>0</td>\n",
       "      <td>0</td>\n",
       "      <td>0</td>\n",
       "      <td>0</td>\n",
       "      <td>1</td>\n",
       "      <td>0</td>\n",
       "      <td>0</td>\n",
       "    </tr>\n",
       "    <tr>\n",
       "      <th>3</th>\n",
       "      <td>30</td>\n",
       "      <td>3.0</td>\n",
       "      <td>1476</td>\n",
       "      <td>0</td>\n",
       "      <td>1</td>\n",
       "      <td>0</td>\n",
       "      <td>1</td>\n",
       "      <td>1</td>\n",
       "      <td>0</td>\n",
       "      <td>1</td>\n",
       "      <td>...</td>\n",
       "      <td>0</td>\n",
       "      <td>1</td>\n",
       "      <td>0</td>\n",
       "      <td>0</td>\n",
       "      <td>0</td>\n",
       "      <td>0</td>\n",
       "      <td>0</td>\n",
       "      <td>0</td>\n",
       "      <td>0</td>\n",
       "      <td>0</td>\n",
       "    </tr>\n",
       "  </tbody>\n",
       "</table>\n",
       "<p>2 rows × 22 columns</p>\n",
       "</div>"
      ],
      "text/plain": [
       "   age  education  balance  previous  marital_married  marital_single   \n",
       "0   30        1.0     1787         0                1               0  \\\n",
       "3   30        3.0     1476         0                1               0   \n",
       "\n",
       "   housing_yes  poutcome_nonexistent  poutcome_success  loan_yes  ...   \n",
       "0            0                     1                 0         0  ...  \\\n",
       "3            1                     1                 0         1  ...   \n",
       "\n",
       "   job_housemaid  job_management  job_retired  job_self-employed   \n",
       "0              0               0            0                  0  \\\n",
       "3              0               1            0                  0   \n",
       "\n",
       "   job_services  job_student  job_technician  job_unemployed  job_unknown   \n",
       "0             0            0               0               1            0  \\\n",
       "3             0            0               0               0            0   \n",
       "\n",
       "   y_yes  \n",
       "0      0  \n",
       "3      0  \n",
       "\n",
       "[2 rows x 22 columns]"
      ]
     },
     "execution_count": 28,
     "metadata": {},
     "output_type": "execute_result"
    }
   ],
   "source": [
    "banks_enc.head(2)"
   ]
  },
  {
   "cell_type": "code",
   "execution_count": 29,
   "id": "4aaf68ba",
   "metadata": {},
   "outputs": [],
   "source": [
    "# Memisahkan prediktor dengan target\n",
    "y = banks_enc['y_yes']\n",
    "X = banks_enc.drop(['y_yes'], axis = 1)"
   ]
  },
  {
   "cell_type": "code",
   "execution_count": 30,
   "id": "d2fbf75a",
   "metadata": {},
   "outputs": [
    {
     "data": {
      "text/html": [
       "<div>\n",
       "<style scoped>\n",
       "    .dataframe tbody tr th:only-of-type {\n",
       "        vertical-align: middle;\n",
       "    }\n",
       "\n",
       "    .dataframe tbody tr th {\n",
       "        vertical-align: top;\n",
       "    }\n",
       "\n",
       "    .dataframe thead th {\n",
       "        text-align: right;\n",
       "    }\n",
       "</style>\n",
       "<table border=\"1\" class=\"dataframe\">\n",
       "  <thead>\n",
       "    <tr style=\"text-align: right;\">\n",
       "      <th></th>\n",
       "      <th>age</th>\n",
       "      <th>education</th>\n",
       "      <th>balance</th>\n",
       "      <th>previous</th>\n",
       "      <th>marital_married</th>\n",
       "      <th>marital_single</th>\n",
       "      <th>housing_yes</th>\n",
       "      <th>poutcome_nonexistent</th>\n",
       "      <th>poutcome_success</th>\n",
       "      <th>loan_yes</th>\n",
       "      <th>...</th>\n",
       "      <th>job_entrepreneur</th>\n",
       "      <th>job_housemaid</th>\n",
       "      <th>job_management</th>\n",
       "      <th>job_retired</th>\n",
       "      <th>job_self-employed</th>\n",
       "      <th>job_services</th>\n",
       "      <th>job_student</th>\n",
       "      <th>job_technician</th>\n",
       "      <th>job_unemployed</th>\n",
       "      <th>job_unknown</th>\n",
       "    </tr>\n",
       "  </thead>\n",
       "  <tbody>\n",
       "    <tr>\n",
       "      <th>0</th>\n",
       "      <td>30</td>\n",
       "      <td>1.0</td>\n",
       "      <td>1787</td>\n",
       "      <td>0</td>\n",
       "      <td>1</td>\n",
       "      <td>0</td>\n",
       "      <td>0</td>\n",
       "      <td>1</td>\n",
       "      <td>0</td>\n",
       "      <td>0</td>\n",
       "      <td>...</td>\n",
       "      <td>0</td>\n",
       "      <td>0</td>\n",
       "      <td>0</td>\n",
       "      <td>0</td>\n",
       "      <td>0</td>\n",
       "      <td>0</td>\n",
       "      <td>0</td>\n",
       "      <td>0</td>\n",
       "      <td>1</td>\n",
       "      <td>0</td>\n",
       "    </tr>\n",
       "    <tr>\n",
       "      <th>3</th>\n",
       "      <td>30</td>\n",
       "      <td>3.0</td>\n",
       "      <td>1476</td>\n",
       "      <td>0</td>\n",
       "      <td>1</td>\n",
       "      <td>0</td>\n",
       "      <td>1</td>\n",
       "      <td>1</td>\n",
       "      <td>0</td>\n",
       "      <td>1</td>\n",
       "      <td>...</td>\n",
       "      <td>0</td>\n",
       "      <td>0</td>\n",
       "      <td>1</td>\n",
       "      <td>0</td>\n",
       "      <td>0</td>\n",
       "      <td>0</td>\n",
       "      <td>0</td>\n",
       "      <td>0</td>\n",
       "      <td>0</td>\n",
       "      <td>0</td>\n",
       "    </tr>\n",
       "  </tbody>\n",
       "</table>\n",
       "<p>2 rows × 21 columns</p>\n",
       "</div>"
      ],
      "text/plain": [
       "   age  education  balance  previous  marital_married  marital_single   \n",
       "0   30        1.0     1787         0                1               0  \\\n",
       "3   30        3.0     1476         0                1               0   \n",
       "\n",
       "   housing_yes  poutcome_nonexistent  poutcome_success  loan_yes  ...   \n",
       "0            0                     1                 0         0  ...  \\\n",
       "3            1                     1                 0         1  ...   \n",
       "\n",
       "   job_entrepreneur  job_housemaid  job_management  job_retired   \n",
       "0                 0              0               0            0  \\\n",
       "3                 0              0               1            0   \n",
       "\n",
       "   job_self-employed  job_services  job_student  job_technician   \n",
       "0                  0             0            0               0  \\\n",
       "3                  0             0            0               0   \n",
       "\n",
       "   job_unemployed  job_unknown  \n",
       "0               1            0  \n",
       "3               0            0  \n",
       "\n",
       "[2 rows x 21 columns]"
      ]
     },
     "execution_count": 30,
     "metadata": {},
     "output_type": "execute_result"
    }
   ],
   "source": [
    "X.head(2)"
   ]
  },
  {
   "cell_type": "code",
   "execution_count": 31,
   "id": "79d3f636",
   "metadata": {},
   "outputs": [],
   "source": [
    "# split dataset into training set and test set\n",
    "X_train, X_test, y_train, y_test = train_test_split(X,\n",
    "                                                    y,\n",
    "                                                    test_size = 0.3, # 70% training and 30% test\n",
    "                                                    random_state = 109)"
   ]
  },
  {
   "cell_type": "code",
   "execution_count": 32,
   "id": "457906d0",
   "metadata": {},
   "outputs": [
    {
     "data": {
      "text/plain": [
       "(2303, 21)"
      ]
     },
     "execution_count": 32,
     "metadata": {},
     "output_type": "execute_result"
    }
   ],
   "source": [
    "X_train.shape"
   ]
  },
  {
   "cell_type": "code",
   "execution_count": 33,
   "id": "08862dc3",
   "metadata": {},
   "outputs": [
    {
     "data": {
      "text/plain": [
       "(987, 21)"
      ]
     },
     "execution_count": 33,
     "metadata": {},
     "output_type": "execute_result"
    }
   ],
   "source": [
    "X_test.shape"
   ]
  },
  {
   "cell_type": "markdown",
   "id": "bb184b3f",
   "metadata": {},
   "source": [
    "# Model Building: Support Vector Machine (SVM)"
   ]
  },
  {
   "cell_type": "markdown",
   "id": "de6e198a",
   "metadata": {},
   "source": [
    "Untuk menyesuaikan model dengan kebutuhan kita, kita memerlukan algoritma. Ada banyak jenis algoritma *machine learning** dan salah satu contohnya adalah Support Vector Machine.\n",
    "\n",
    "**Support Vector Machine (SVM)** adalah rangkaian **model yang sangat andal (extremely powerful)** yang dapat digunakan **dalam masalah klasifikasi dan regresi**. Ini sangat disukai oleh banyak orang **karena mampu menghasilkan akurasi yang signifikan tanpa memerlukan daya komputasi yang besar**.\n",
    "\n",
    "SVM dapat memecahkan masalah klasifikasi (\"Support Vector Classifier\") dan regresi (\"Support Vector Regressor\") dan dapat diperluas untuk memodelkan non-linearitas dalam data."
   ]
  },
  {
   "cell_type": "markdown",
   "id": "44620bab",
   "metadata": {},
   "source": [
    "## SVM in Classification: Support Vector Classifier (SVC)"
   ]
  },
  {
   "cell_type": "markdown",
   "id": "83fb815c",
   "metadata": {},
   "source": [
    "SVC bertujuan untuk menemukan rules batasan yang memisahkan pengamatan dengan keanggotaan kelas yang berbeda. _In other words, SVC is a discriminative classifier formally defined by a separating **hyperplane**._"
   ]
  },
  {
   "cell_type": "markdown",
   "id": "73a7f84a",
   "metadata": {},
   "source": [
    "#### How SVC Works\n",
    "\n",
    "Mari kita mulai dengan contoh sederhana. Misalkan untuk dataset tertentu, kita harus mengklasifikasikan segitiga hitam dari lingkaran merah seperti yang ditunjukkan pada gambar di bawah ini.\n",
    "\n",
    "🔍 [SVM Visualization Explanation](https://jamboard.google.com/d/18E9ig_53eW9QQTmH1KS8O2EQsd3E2rGHKEayyY1O-ug/edit?usp=sharing)"
   ]
  },
  {
   "cell_type": "markdown",
   "id": "1dd57d7e",
   "metadata": {},
   "source": [
    "##### 📌 Key Points\n",
    "\n",
    "**Ide dasar SVC:** memaksimalkan jarak (margin) antara hyperplane dan titik sampel terdekat dari masing-masing kelas. Garis yang terbaik adalah garis yang sedapat mungkin memberikan margin yang sangat besar antara kedua kelas.\n",
    "\n",
    "Ini diilustrasikan dalam gambar berikut:"
   ]
  },
  {
   "cell_type": "markdown",
   "id": "b69425f3",
   "metadata": {},
   "source": [
    "![image.png](data:image/png;base64,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)"
   ]
  },
  {
   "cell_type": "markdown",
   "id": "7128122b",
   "metadata": {},
   "source": [
    "- **Optimal hyper-plane:** Sebuah hyperplane yang paling baik memisahkan data. Hyperplane ini seperti batas keputusan antar kelas, seperti terlihat pada gambar di atas. ✨ Dalam kasus distribusi data tiga dimensi, hyperplane akan berupa permukaan dua dimensi dan bukan garis.\n",
    "\n",
    "- **Support Vector:** Titik terdekat dari kedua kelas ke hyperplane. Menggunakan support vector, algoritma dapat memaksimalkan margin antar kelas. Dengan cara apapun, jika support vector diubah, posisi hyperplane juga akan berubah. ✨ Oleh karena itu, algoritma ini disebut 'Support Vector Machine'\n",
    "\n",
    "- **Margin:** Jarak antara support vector dan hyperplane.\n",
    "\n",
    "**Contoh:**"
   ]
  },
  {
   "cell_type": "markdown",
   "id": "b4d58efd",
   "metadata": {},
   "source": [
    "![image.png](data:image/png;base64,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)"
   ]
  },
  {
   "cell_type": "markdown",
   "id": "5e5c754c",
   "metadata": {},
   "source": [
    "Saat kita mencoba memisahkan kelas-kelas ini melalui hyperplane dalam ruang multidimensi, akan ada banyak baris kandidat yang mencapai tugas ini, seperti yang diilustrasikan di bawah ini. Garis hitam, garis biru, dan garis hijau adalah kandidat yang layak."
   ]
  },
  {
   "cell_type": "markdown",
   "id": "1bcc95e6",
   "metadata": {},
   "source": [
    "![image.png](data:image/png;base64,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)"
   ]
  },
  {
   "cell_type": "markdown",
   "id": "15042607",
   "metadata": {},
   "source": [
    "**Mana dari 3 baris yang membedakan data menjadi dua kelas dengan lebih baik?**\n",
    "1. Di sini, garis hitam atau garis biru lebih dekat ke segitiga hitam dibandingkan dengan lingkaran merah.\n",
    "2. Garis hijau tampak membedakan kedua kelas dengan lebih baik."
   ]
  },
  {
   "cell_type": "markdown",
   "id": "443247fd",
   "metadata": {},
   "source": [
    "> **💡 NOTES** Konsep SVM dia akan coba membuat berbagai kemungkinan hyperplane, dan hyperplane yang paling memisahkan kedua kelas dan paling sedikit salah klasifikasi-lah yang paling optimal "
   ]
  },
  {
   "cell_type": "markdown",
   "id": "477837e1",
   "metadata": {},
   "source": [
    "## SVC Implementation"
   ]
  },
  {
   "cell_type": "markdown",
   "id": "ab1d229f",
   "metadata": {},
   "source": [
    "🔻Setelah semua proses persiapan data selesai, kini adalah saatnya untuk 'mesin' belajar dan diuji oleh data kita.\n",
    "\n",
    "Langkah-langkah membangun model SVM. \n",
    "1. Pertama, impor library SVM\n",
    "2. Buat variabel `model_svc` untuk menyimpan hasil model `SVC()`."
   ]
  },
  {
   "cell_type": "code",
   "execution_count": 34,
   "id": "368a1251",
   "metadata": {},
   "outputs": [],
   "source": [
    "# import svm model\n",
    "from sklearn import svm # untuk mengakses algoritma svm / svc (support vector classifier)"
   ]
  },
  {
   "cell_type": "code",
   "execution_count": 35,
   "id": "2eb5cb78",
   "metadata": {},
   "outputs": [],
   "source": [
    "# create a svm Classifier\n",
    "model_svc = svm.SVC()"
   ]
  },
  {
   "cell_type": "markdown",
   "id": "c7480743",
   "metadata": {},
   "source": [
    "**💡NOTES**: Tahapan ini adalah masih pada pembuatan objek algoritma/metode/mesin yang masih kosong belum belajar"
   ]
  },
  {
   "cell_type": "markdown",
   "id": "216f4a7d",
   "metadata": {},
   "source": [
    "🔻 Metode `.fit()` menggunakan data train sebagai argumen, yang dapat berupa fitur dan target untuk learning dalam kasus klasifikasi dan regresi."
   ]
  },
  {
   "cell_type": "code",
   "execution_count": 36,
   "id": "c7490fa5",
   "metadata": {},
   "outputs": [
    {
     "data": {
      "text/html": [
       "<style>#sk-container-id-1 {color: black;background-color: white;}#sk-container-id-1 pre{padding: 0;}#sk-container-id-1 div.sk-toggleable {background-color: white;}#sk-container-id-1 label.sk-toggleable__label {cursor: pointer;display: block;width: 100%;margin-bottom: 0;padding: 0.3em;box-sizing: border-box;text-align: center;}#sk-container-id-1 label.sk-toggleable__label-arrow:before {content: \"▸\";float: left;margin-right: 0.25em;color: #696969;}#sk-container-id-1 label.sk-toggleable__label-arrow:hover:before {color: black;}#sk-container-id-1 div.sk-estimator:hover label.sk-toggleable__label-arrow:before {color: black;}#sk-container-id-1 div.sk-toggleable__content {max-height: 0;max-width: 0;overflow: hidden;text-align: left;background-color: #f0f8ff;}#sk-container-id-1 div.sk-toggleable__content pre {margin: 0.2em;color: black;border-radius: 0.25em;background-color: #f0f8ff;}#sk-container-id-1 input.sk-toggleable__control:checked~div.sk-toggleable__content {max-height: 200px;max-width: 100%;overflow: auto;}#sk-container-id-1 input.sk-toggleable__control:checked~label.sk-toggleable__label-arrow:before {content: \"▾\";}#sk-container-id-1 div.sk-estimator input.sk-toggleable__control:checked~label.sk-toggleable__label {background-color: #d4ebff;}#sk-container-id-1 div.sk-label input.sk-toggleable__control:checked~label.sk-toggleable__label {background-color: #d4ebff;}#sk-container-id-1 input.sk-hidden--visually {border: 0;clip: rect(1px 1px 1px 1px);clip: rect(1px, 1px, 1px, 1px);height: 1px;margin: -1px;overflow: hidden;padding: 0;position: absolute;width: 1px;}#sk-container-id-1 div.sk-estimator {font-family: monospace;background-color: #f0f8ff;border: 1px dotted black;border-radius: 0.25em;box-sizing: border-box;margin-bottom: 0.5em;}#sk-container-id-1 div.sk-estimator:hover {background-color: #d4ebff;}#sk-container-id-1 div.sk-parallel-item::after {content: \"\";width: 100%;border-bottom: 1px solid gray;flex-grow: 1;}#sk-container-id-1 div.sk-label:hover label.sk-toggleable__label {background-color: #d4ebff;}#sk-container-id-1 div.sk-serial::before {content: \"\";position: absolute;border-left: 1px solid gray;box-sizing: border-box;top: 0;bottom: 0;left: 50%;z-index: 0;}#sk-container-id-1 div.sk-serial {display: flex;flex-direction: column;align-items: center;background-color: white;padding-right: 0.2em;padding-left: 0.2em;position: relative;}#sk-container-id-1 div.sk-item {position: relative;z-index: 1;}#sk-container-id-1 div.sk-parallel {display: flex;align-items: stretch;justify-content: center;background-color: white;position: relative;}#sk-container-id-1 div.sk-item::before, #sk-container-id-1 div.sk-parallel-item::before {content: \"\";position: absolute;border-left: 1px solid gray;box-sizing: border-box;top: 0;bottom: 0;left: 50%;z-index: -1;}#sk-container-id-1 div.sk-parallel-item {display: flex;flex-direction: column;z-index: 1;position: relative;background-color: white;}#sk-container-id-1 div.sk-parallel-item:first-child::after {align-self: flex-end;width: 50%;}#sk-container-id-1 div.sk-parallel-item:last-child::after {align-self: flex-start;width: 50%;}#sk-container-id-1 div.sk-parallel-item:only-child::after {width: 0;}#sk-container-id-1 div.sk-dashed-wrapped {border: 1px dashed gray;margin: 0 0.4em 0.5em 0.4em;box-sizing: border-box;padding-bottom: 0.4em;background-color: white;}#sk-container-id-1 div.sk-label label {font-family: monospace;font-weight: bold;display: inline-block;line-height: 1.2em;}#sk-container-id-1 div.sk-label-container {text-align: center;}#sk-container-id-1 div.sk-container {/* jupyter's `normalize.less` sets `[hidden] { display: none; }` but bootstrap.min.css set `[hidden] { display: none !important; }` so we also need the `!important` here to be able to override the default hidden behavior on the sphinx rendered scikit-learn.org. See: https://github.com/scikit-learn/scikit-learn/issues/21755 */display: inline-block !important;position: relative;}#sk-container-id-1 div.sk-text-repr-fallback {display: none;}</style><div id=\"sk-container-id-1\" class=\"sk-top-container\"><div class=\"sk-text-repr-fallback\"><pre>SVC()</pre><b>In a Jupyter environment, please rerun this cell to show the HTML representation or trust the notebook. <br />On GitHub, the HTML representation is unable to render, please try loading this page with nbviewer.org.</b></div><div class=\"sk-container\" hidden><div class=\"sk-item\"><div class=\"sk-estimator sk-toggleable\"><input class=\"sk-toggleable__control sk-hidden--visually\" id=\"sk-estimator-id-1\" type=\"checkbox\" checked><label for=\"sk-estimator-id-1\" class=\"sk-toggleable__label sk-toggleable__label-arrow\">SVC</label><div class=\"sk-toggleable__content\"><pre>SVC()</pre></div></div></div></div></div>"
      ],
      "text/plain": [
       "SVC()"
      ]
     },
     "execution_count": 36,
     "metadata": {},
     "output_type": "execute_result"
    }
   ],
   "source": [
    "# code here\n",
    "# .fit(prediktor, target)\n",
    "# .fit(soal, kunci jawaban)\n",
    "model_svc.fit(X_train, y_train)"
   ]
  },
  {
   "cell_type": "markdown",
   "id": "7f34b4c9",
   "metadata": {},
   "source": [
    "**💡NOTES**: Perhatikan bahwa model dilatih hanya pada training data. Karena model akan diuji pada data test yang belum pernah dilihat model sebelumnya."
   ]
  },
  {
   "cell_type": "markdown",
   "id": "ea15b0ca",
   "metadata": {},
   "source": [
    "# Model Prediction"
   ]
  },
  {
   "cell_type": "markdown",
   "id": "36e63b8a",
   "metadata": {},
   "source": [
    "🔻 Metode `.predict()` memungkinkan kita untuk memprediksi label dari kumpulan data baru, dengan model yang di-train. Metode ini hanya menerima satu argumen (data baru) dan mengembalikan nilai (label untuk klasifikasi) yang dipelajari untuk setiap objeknya. Parameter yang dimasukkan adalah;\n",
    "* `X`: data yang akan di prediksi, misal pada umumnya adalah `X_test`"
   ]
  },
  {
   "cell_type": "code",
   "execution_count": 37,
   "id": "733b1ef7",
   "metadata": {},
   "outputs": [
    {
     "data": {
      "text/plain": [
       "array([0, 0, 0, 0, 0])"
      ]
     },
     "execution_count": 37,
     "metadata": {},
     "output_type": "execute_result"
    }
   ],
   "source": [
    "# predict the response \n",
    "y_predict = model_svc.predict(X_test)\n",
    "\n",
    "y_predict[:5]"
   ]
  },
  {
   "cell_type": "code",
   "execution_count": 38,
   "id": "78f6fdb4",
   "metadata": {},
   "outputs": [
    {
     "data": {
      "text/plain": [
       "2349    0\n",
       "582     1\n",
       "3954    0\n",
       "1585    0\n",
       "3985    0\n",
       "Name: y_yes, dtype: int64"
      ]
     },
     "execution_count": 38,
     "metadata": {},
     "output_type": "execute_result"
    }
   ],
   "source": [
    "y_test[:5]"
   ]
  },
  {
   "cell_type": "markdown",
   "id": "7e72f0b9",
   "metadata": {},
   "source": [
    "**💡NOTES**: Walaupun kita sudah berhasil memprediksi, kita tetap perlu memastikan bahwa hasil prediksinya banyak yang benar / sudah sesuai dengan melakukan model evaluation"
   ]
  },
  {
   "cell_type": "markdown",
   "id": "2e8dba0f",
   "metadata": {},
   "source": [
    "# Model Evaluation: Accuracy"
   ]
  },
  {
   "cell_type": "markdown",
   "id": "ef92f18f",
   "metadata": {},
   "source": [
    "🔻Semua estimator yang dipasang di `sklearn` mengimplementasikan metode `.score()`. Skor ini berkisar antara 0 dan 1, dengan skor yang lebih besar menunjukkan kecocokan yang lebih baik. \n",
    "\n",
    "**Dalam kasus klasifikasi, ini setara dengan skor akurasi/accuracy.** Accuracy adalah proporsi kasus yang diidentifikasi dengan benar dari semua kasus. Ini adalah praktik umum untuk membandingkan kinerja model pada data train dan test."
   ]
  },
  {
   "cell_type": "markdown",
   "id": "4163fb7e",
   "metadata": {},
   "source": [
    "$$Accuracy = {\\text{Number of correct predictions} \\over \\text{Total number of predictions}}.$$"
   ]
  },
  {
   "cell_type": "markdown",
   "id": "713a423c",
   "metadata": {},
   "source": [
    "> Misal, saya punya data 100, kemudian berhasil memprediksi dengan benar 90 data, maka akurasinya adalah\n",
    "> 90/100 = 90%"
   ]
  },
  {
   "cell_type": "code",
   "execution_count": 39,
   "id": "3c510c54",
   "metadata": {},
   "outputs": [
    {
     "data": {
      "text/plain": [
       "0.9118541033434651"
      ]
     },
     "execution_count": 39,
     "metadata": {},
     "output_type": "execute_result"
    }
   ],
   "source": [
    "# train accuracy\n",
    "model_svc.score(X_train, y_train)"
   ]
  },
  {
   "cell_type": "code",
   "execution_count": 40,
   "id": "b89b57b5",
   "metadata": {},
   "outputs": [
    {
     "data": {
      "text/plain": [
       "0.9159067882472138"
      ]
     },
     "execution_count": 40,
     "metadata": {},
     "output_type": "execute_result"
    }
   ],
   "source": [
    "# test accuracy\n",
    "model_svc.score(X_test, y_test)"
   ]
  },
  {
   "cell_type": "markdown",
   "id": "ed2299c8",
   "metadata": {},
   "source": [
    "Apakah ada kemungkinan akurasi data train jauh lebih tinggi dari data test?\n",
    "\n",
    "> Ada\n",
    "> Overfitting: Akurasi data train jauh lebih tinggi dari data test. Dia cuman jago di soal latihan, tp di soal ujian tidak jago.\n",
    "\n",
    "> Underfit: Akurasi data trainnya itu tidak baik, dan data test juga tidak baik.\n",
    "\n",
    "> Goodfit: Akurasi di data train dengan data test.\n",
    "  Jika perbedaannya di bawah 10%, dikatakan goodfit."
   ]
  },
  {
   "cell_type": "markdown",
   "id": "20e3fb21",
   "metadata": {},
   "source": [
    "Cara Alternatif:"
   ]
  },
  {
   "cell_type": "code",
   "execution_count": 41,
   "id": "f316d33f",
   "metadata": {},
   "outputs": [
    {
     "name": "stdout",
     "output_type": "stream",
     "text": [
      "Accuracy: 0.9159067882472138\n"
     ]
    }
   ],
   "source": [
    "# import scikit-learn metrics module\n",
    "from sklearn import metrics\n",
    "\n",
    "# model accuracy\n",
    "print(\"Accuracy:\", metrics.accuracy_score(y_test, y_predict))"
   ]
  },
  {
   "cell_type": "markdown",
   "id": "fa0e83c2",
   "metadata": {},
   "source": [
    "> Akurasi dari model kita adalah: 91%."
   ]
  },
  {
   "cell_type": "markdown",
   "id": "9c2f992b",
   "metadata": {},
   "source": [
    "**✨ Opsional:** Memang dalam kasus kali ini kita hanya membutuhkan nilai pengukuran akurasi, namun dalam praktiknya masih terdapat banyak jenis metriks untuk penilaian performa model bergnatung pada kasusnya. Alternatifnya, kita bisa menggunakan [modul `metrics`](https://scikit-learn.org/stable/modules/model_evaluation.html) dari library `sklearn`"
   ]
  },
  {
   "cell_type": "markdown",
   "id": "e154573d",
   "metadata": {},
   "source": [
    "# Model Improvement: Tuning Hyperparameter SVC"
   ]
  },
  {
   "cell_type": "markdown",
   "id": "82185049",
   "metadata": {},
   "source": [
    "Setiap data analis dan data saintis menginginkan model dengan performa terbaik.\n",
    "\n",
    "Maka dari itu terdapat *hyperparameter* di dalam sebuah model machine learning, *hyperparameter* adalah parameter-parameter yang dapat diatur oleh pembuat model untuk mempengaruhi cara belajar dari sebuah model. Dengan mengatur *hyperparameter* yang tepat, kita dapat meningkatkan performa model kita.\n",
    "\n",
    "Analogi sederhana dari mengatur *hyperparameter* ini adalah adalah seperti instruksi seorang koki ketika membuat resep, ada beberapa hal yang dapat diatur yang dapat mempengaruhi cita rasa makanan, seperti jumlah garam, waktu memasak, atau suhu over. Hal-hal tersebut adalah *hyperparameter* dalam membuat sebuah hidangan.\n",
    "\n",
    "Adapun *hyperparameter* yang sering digunakan dalam model SVC antara lain:\n",
    "- `C (regularization) [default = 1, range = 0.0 - inf]`: Regularisasi mengontrol margin dan jumlah kesalahan klasifikasi, semakin besar nilai C maka semakin kecil jumlah kesalahan, semakin kecil nilai C, semakin besar nilai kesalahan yang ditoleransi.\n",
    "- `kernel [default = 'rbf', option = ['rbf', 'poly', 'linear', 'sigmoid']`: Mempengaruhi bagaimana pemisah (*hyperplane*) terbentuk, untuk data yang dapat dipisahkan secara garis linear (garis lurus) dapat menggunakan 'linear'. Untuk data-data non-linear dapat menggunakan kernel `rbf`.\n",
    "*Note: Kebanyakan data berbentuk non-linear, sehingga sebaiknya selalu memilih kernel `rbf`*\n",
    "- `gamma [default = 'scale', option = ['scale', 'auto', positive float number]`: Semakin besar nilai gamma, garis pemisah semakin mengikuti bentuk data (semakin kompleks), semakin kecil, maka semakin garis pemisah lebih general (lebih sederhana).\n",
    "\n",
    "Untuk hyperparameter dan penjelasan lebih detail dapat dilihat pada [dokumentasi SVC](https://scikit-learn.org/stable/modules/generated/sklearn.svm.SVC.html#sklearn.svm.SVC)"
   ]
  },
  {
   "cell_type": "markdown",
   "id": "cc2efa27",
   "metadata": {},
   "source": [
    "Mari kita coba untuk tuning model Klasifikasi kita dengan nama `model_svc_tuning`"
   ]
  },
  {
   "cell_type": "code",
   "execution_count": 42,
   "id": "47b55a22",
   "metadata": {},
   "outputs": [
    {
     "data": {
      "text/plain": [
       "0.9982631350412505"
      ]
     },
     "execution_count": 42,
     "metadata": {},
     "output_type": "execute_result"
    }
   ],
   "source": [
    "# membuat model svc tuning\n",
    "model_svc_tuning = svm.SVC(C = 10, kernel = 'rbf', gamma = 1)\n",
    "# melakukan pelatihan\n",
    "model_svc_tuning.fit(X_train, y_train)\n",
    "# melihat performa\n",
    "model_svc_tuning.score(X_train, y_train)"
   ]
  },
  {
   "cell_type": "code",
   "execution_count": 43,
   "id": "e6146362",
   "metadata": {},
   "outputs": [
    {
     "data": {
      "text/plain": [
       "0.9118541033434651"
      ]
     },
     "execution_count": 43,
     "metadata": {},
     "output_type": "execute_result"
    }
   ],
   "source": [
    "model_svc.score(X_train, y_train)"
   ]
  },
  {
   "cell_type": "markdown",
   "id": "2822f24b",
   "metadata": {},
   "source": [
    "Untuk data test"
   ]
  },
  {
   "cell_type": "code",
   "execution_count": 44,
   "id": "e06197d0",
   "metadata": {},
   "outputs": [
    {
     "data": {
      "text/plain": [
       "0.9159067882472138"
      ]
     },
     "execution_count": 44,
     "metadata": {},
     "output_type": "execute_result"
    }
   ],
   "source": [
    "# code here\n",
    "model_svc_tuning.score(X_test, y_test)"
   ]
  },
  {
   "cell_type": "code",
   "execution_count": 45,
   "id": "173fd102",
   "metadata": {},
   "outputs": [
    {
     "data": {
      "text/plain": [
       "0.9159067882472138"
      ]
     },
     "execution_count": 45,
     "metadata": {},
     "output_type": "execute_result"
    }
   ],
   "source": [
    "model_svc.score(X_test, y_test)"
   ]
  },
  {
   "cell_type": "markdown",
   "id": "053da859",
   "metadata": {},
   "source": [
    "Model machine learning dibagi 2 jenis:\n",
    "- Model interpretable: modelnya bisa kita interpretasi, kita bisa tau bagaimana cara kerja model untuk mendapatkan prediksi. Contoh: linear regression RM), decision tree (C2)\n",
    "- Model robust: modelnya sulit untuk diinterprtasi, kita tidak mengerti bagaimana cara kerja model mendapatkan hasil prediksi, model ini mementingkan performa. Contoh: model random forest, neural network, support vector machine (SVM)"
   ]
  },
  {
   "cell_type": "markdown",
   "id": "39591006",
   "metadata": {},
   "source": [
    "**❓ Discussion**: Apakah setiap merubah nilai hyperparameter akan menghasilan nilai yang lebih baik daripada model default?\n",
    "\n",
    "> "
   ]
  },
  {
   "cell_type": "markdown",
   "id": "51c6292a",
   "metadata": {},
   "source": [
    "-- End of Day 2 --\n",
    "\n",
    "## Train-Test Splitting\n",
    "\n",
    "- Train -> Untuk pelatihan bagi model \n",
    "- Test -> Untuk melakukan evaluasi, adalah data yang tidak pernah dilihat oleh model ketika dilakukan pelatihan.\n",
    "\n",
    "Proporsi pembagian data train dan test: data train harus lebih besar, bisa 80:20, 70:30\n",
    "\n",
    "## Modelling\n",
    "\n",
    "**Support Vector Classifier**\n",
    "\n",
    "**Ide dasar SVM:** memaksimalkan jarak (margin) antara hyperplane dan titik sampel terdekat dari masing-masing kelas. Garis yang terbaik adalah garis yang sedapat mungkin memberikan margin yang sangat besar antara kedua kelas.\n",
    "- Optimal hyper-plane: Sebuah hyperplane yang paling baik memisahkan data. Hyperplane ini seperti batas keputusan antar kelas, seperti terlihat pada gambar di atas. Dalam kasus distribusi data tiga dimensi, hyperplane akan berupa permukaan dua dimensi dan bukan garis.\n",
    "\n",
    "- Support Vector: Titik terdekat dari kedua kelas ke hyperplane. Menggunakan support vector, algoritma dapat memaksimalkan margin antar kelas. Dengan cara apapun, jika support vector diubah, posisi hyperplane juga akan berubah. Oleh karena itu, algoritma ini disebut 'Support Vector Machine'\n",
    "\n",
    "- Margin: Jarak antara support vector dan hyperplane.\n",
    "\n",
    "### Model Building\n",
    "\n",
    "- **Model Fitting:** Tahapan pembuatan model kosong `svm.SVC()` kemudian dilanjutkan dengan melatih model tersebut dengan data yang digunakan untuk belajar (train data) `.fit(X, y)`.\n",
    "\n",
    "> Perhatikan bahwa model dilatih hanya pada training data. Karena model akan diuji pada data test yang belum pernah dilihat model sebelumnya.\n",
    "\n",
    "- **Model Prediction:** Tahapan model yang telah di-train akan mampu memprediksi data baru dengan metode .predict(X)\n",
    "> `predict()` ini hanya menerima satu argumen (data baru) dan mengembalikan nilai (label untuk klasifikasi) yang dipelajari untuk setiap objeknya. Parameter yang dimasukkan adalah;\n",
    "\n",
    "- **Model Evaluation (Accuracy u/ Classification)**: Tahapan menguji dan memastikan perfoma model apakah sudah dapat memprediksi dengan benar. ✨ Dalam kasus klasifikasi, ini setara dengan skor akurasi/accuracy. Accuracy adalah proporsi kasus yang diidentifikasi dengan benar dari semua kasus. Bisa dengan .score(X, y_asli) atau metrics.accuracy_score(y_pred, y_asli)\n",
    "> Misal, saya punya data 100, kemudian berhasil memprediksi dengan benar 90 data, maka akurasinya adalah 90/100 = 90%\n",
    "\n",
    "\n",
    "## Model Improvement: Tuning Hyperparameters\n",
    "\n",
    "**Hyperparameter Tuning pada SVM (Classification):**\n",
    "\n",
    "- C (Regularisasi):\n",
    "\n",
    "    - Semakin besar C, maka margin mencoba sebisa mungkin memisahkan kelas.\n",
    "    - Semakin kecil C, maka margin memberikan toleransi yang lebih longgar dalam memisahkan kelas.\n",
    "\n",
    "- Kernel:\n",
    "\n",
    "    - linear: sesuai pada data yang linear\n",
    "    - rbf(default): baik di banyak kondisi data\n",
    "\n",
    "- Gamma: (khusus untuk RBF/non-linear kernel)\n",
    "\n",
    "    - Semakin besar gamma, maka garis pemisah semakin mengikuti pola data, sehingga model semakin kompleks\n",
    "    - Semakin kecil gamma, maka garis pemisah dibuat lebih general, sehingga model lebih sederhana"
   ]
  },
  {
   "cell_type": "markdown",
   "id": "70b7bea4",
   "metadata": {},
   "source": [
    "-- START OF DAY 3 --"
   ]
  },
  {
   "cell_type": "markdown",
   "id": "5914d758",
   "metadata": {},
   "source": [
    "# Machine Learning Workflow: Regression"
   ]
  },
  {
   "cell_type": "markdown",
   "id": "5ae35855",
   "metadata": {},
   "source": [
    "❓ Support Vector Machines (SVMs) terkenal dalam masalah klasifikasi. Jadi, dapatkah svm digunakan untuk memprediksi nilai atau regresi?"
   ]
  },
  {
   "cell_type": "markdown",
   "id": "32ac612a",
   "metadata": {},
   "source": [
    "Jawabannya adalah ya -- dengan menggunakan prinsip SVM yang sama, kita dapat menggunakan SVM untuk masalah regresi. Satu-satunya perbedaan adalah bahwa alih-alih menggunakan hyperplane untuk memisahkan kelas, kita menggunakan hyperplane untuk memprediksi nilai variabel target, sebuah metode yang menggunakan nama Support Vector Regression (SVR)."
   ]
  },
  {
   "cell_type": "markdown",
   "id": "31315763",
   "metadata": {},
   "source": [
    "# Load Data: Diamonds Dataset"
   ]
  },
  {
   "cell_type": "markdown",
   "id": "c60283ca",
   "metadata": {},
   "source": [
    "\"Berapa harga berlian jika diketahui carat, berat, jenis potongan, warna, dan juga tingkat kemurniannya?\"\n",
    "\n",
    "Pada latihan berikut, kita akan menggunakan diamonds dataset. Dimana dataset ini berisi kolom dari berbagai karakteristik yang dimiliki oleh berlian. Dataset ini mempunyai 9 kolom (carat, cut, color, clarity, x, y, z, depth, table) dan target (harga)."
   ]
  },
  {
   "cell_type": "code",
   "execution_count": 46,
   "id": "8df70081",
   "metadata": {},
   "outputs": [
    {
     "data": {
      "text/html": [
       "<div>\n",
       "<style scoped>\n",
       "    .dataframe tbody tr th:only-of-type {\n",
       "        vertical-align: middle;\n",
       "    }\n",
       "\n",
       "    .dataframe tbody tr th {\n",
       "        vertical-align: top;\n",
       "    }\n",
       "\n",
       "    .dataframe thead th {\n",
       "        text-align: right;\n",
       "    }\n",
       "</style>\n",
       "<table border=\"1\" class=\"dataframe\">\n",
       "  <thead>\n",
       "    <tr style=\"text-align: right;\">\n",
       "      <th></th>\n",
       "      <th>carat</th>\n",
       "      <th>cut</th>\n",
       "      <th>color</th>\n",
       "      <th>clarity</th>\n",
       "      <th>depth</th>\n",
       "      <th>table</th>\n",
       "      <th>price</th>\n",
       "      <th>x</th>\n",
       "      <th>y</th>\n",
       "      <th>z</th>\n",
       "    </tr>\n",
       "  </thead>\n",
       "  <tbody>\n",
       "    <tr>\n",
       "      <th>0</th>\n",
       "      <td>0.63</td>\n",
       "      <td>Fair</td>\n",
       "      <td>5</td>\n",
       "      <td>VS</td>\n",
       "      <td>65.7</td>\n",
       "      <td>60.0</td>\n",
       "      <td>2011</td>\n",
       "      <td>5.41</td>\n",
       "      <td>5.31</td>\n",
       "      <td>3.52</td>\n",
       "    </tr>\n",
       "    <tr>\n",
       "      <th>1</th>\n",
       "      <td>2.00</td>\n",
       "      <td>Fair</td>\n",
       "      <td>0</td>\n",
       "      <td>SI</td>\n",
       "      <td>66.4</td>\n",
       "      <td>55.0</td>\n",
       "      <td>11189</td>\n",
       "      <td>7.82</td>\n",
       "      <td>7.67</td>\n",
       "      <td>5.15</td>\n",
       "    </tr>\n",
       "    <tr>\n",
       "      <th>2</th>\n",
       "      <td>0.48</td>\n",
       "      <td>Fair</td>\n",
       "      <td>4</td>\n",
       "      <td>SI</td>\n",
       "      <td>56.4</td>\n",
       "      <td>59.0</td>\n",
       "      <td>994</td>\n",
       "      <td>5.28</td>\n",
       "      <td>5.26</td>\n",
       "      <td>2.97</td>\n",
       "    </tr>\n",
       "    <tr>\n",
       "      <th>3</th>\n",
       "      <td>2.04</td>\n",
       "      <td>Fair</td>\n",
       "      <td>1</td>\n",
       "      <td>SI</td>\n",
       "      <td>66.6</td>\n",
       "      <td>56.0</td>\n",
       "      <td>9802</td>\n",
       "      <td>7.80</td>\n",
       "      <td>7.77</td>\n",
       "      <td>5.19</td>\n",
       "    </tr>\n",
       "    <tr>\n",
       "      <th>4</th>\n",
       "      <td>0.71</td>\n",
       "      <td>Fair</td>\n",
       "      <td>0</td>\n",
       "      <td>SI</td>\n",
       "      <td>65.5</td>\n",
       "      <td>61.0</td>\n",
       "      <td>1409</td>\n",
       "      <td>5.54</td>\n",
       "      <td>5.49</td>\n",
       "      <td>3.61</td>\n",
       "    </tr>\n",
       "  </tbody>\n",
       "</table>\n",
       "</div>"
      ],
      "text/plain": [
       "   carat   cut  color clarity  depth  table  price     x     y     z\n",
       "0   0.63  Fair      5      VS   65.7   60.0   2011  5.41  5.31  3.52\n",
       "1   2.00  Fair      0      SI   66.4   55.0  11189  7.82  7.67  5.15\n",
       "2   0.48  Fair      4      SI   56.4   59.0    994  5.28  5.26  2.97\n",
       "3   2.04  Fair      1      SI   66.6   56.0   9802  7.80  7.77  5.19\n",
       "4   0.71  Fair      0      SI   65.5   61.0   1409  5.54  5.49  3.61"
      ]
     },
     "execution_count": 46,
     "metadata": {},
     "output_type": "execute_result"
    }
   ],
   "source": [
    "diamonds = pd.read_csv(\"data_input/diamonds-clean.csv\")\n",
    "\n",
    "diamonds.head()"
   ]
  },
  {
   "cell_type": "markdown",
   "id": "ecebaa79",
   "metadata": {},
   "source": [
    "**Data Description**\n",
    "\n",
    "- `price`: price in US dollars\n",
    "\n",
    "- `carat`: weight of the diamond\n",
    "\n",
    "- `cut`: quality of the cut (Fair, Good, Very Good, Premium, Ideal)\n",
    "\n",
    "- `color`: diamond colour, from 0 (worst) to 6 (best)\n",
    "\n",
    "- `clarity`: a measurement of how clear the diamond is (I1 (worst), SI, VS, VVS, IF (best))\n",
    "\n",
    "- `x`: length in mm \n",
    "\n",
    "- `y`: width in mm\n",
    "\n",
    "- `z`: depth in mm\n",
    "\n",
    "- `depth`: total depth percentage = z / mean(x, y) = 2 * z / (x + y) (43--79)\n",
    "\n",
    "- `table`: width of top of diamond relative to widest point (43-95)\n"
   ]
  },
  {
   "cell_type": "markdown",
   "id": "70a0da30",
   "metadata": {},
   "source": [
    "# Exploratory Data Analysis"
   ]
  },
  {
   "cell_type": "markdown",
   "id": "684b31d4",
   "metadata": {},
   "source": [
    "Tahapan-tahapan yang dapat dilakukan pada EDA antara lain:\n",
    "\n",
    "- Melihat tipe data, missing value dan data duplikat\n",
    "- Melihat deskripsi statistik data\n",
    "- Eksplorasi Lanjutan"
   ]
  },
  {
   "cell_type": "markdown",
   "id": "972ac3d2",
   "metadata": {},
   "source": [
    "## Tipe Data, Missing Value dan Duplikat\n",
    "\n",
    "### Tipe Data\n",
    "\n",
    "Seperti tahapan pada kasus klasifikasi sebelumnya, kita harus memeriksa tipe data dari dataset kita dan mengubahnya ke tipe data yang benar.\n",
    "\n",
    "Mari kita melihat dan menyesuaikan tipe data dari dataset kita."
   ]
  },
  {
   "cell_type": "code",
   "execution_count": 47,
   "id": "2bc8d70a",
   "metadata": {
    "scrolled": true
   },
   "outputs": [
    {
     "data": {
      "text/plain": [
       "carat      float64\n",
       "cut         object\n",
       "color        int64\n",
       "clarity     object\n",
       "depth      float64\n",
       "table      float64\n",
       "price        int64\n",
       "x          float64\n",
       "y          float64\n",
       "z          float64\n",
       "dtype: object"
      ]
     },
     "execution_count": 47,
     "metadata": {},
     "output_type": "execute_result"
    }
   ],
   "source": [
    "# code here\n",
    "diamonds.dtypes"
   ]
  },
  {
   "cell_type": "markdown",
   "id": "2fcbbd92",
   "metadata": {},
   "source": [
    "Apakah terdapat tipe data yang tidak tepat? Jika iya, harus diubah menjadi tipe data apa?"
   ]
  },
  {
   "cell_type": "code",
   "execution_count": 48,
   "id": "4fa30012",
   "metadata": {},
   "outputs": [],
   "source": [
    "# code here\n",
    "cat_categories = ['cut', 'clarity']\n",
    "# ubah tipe data\n",
    "diamonds[cat_categories] = diamonds[cat_categories].astype('category')"
   ]
  },
  {
   "cell_type": "code",
   "execution_count": 49,
   "id": "a8237673",
   "metadata": {},
   "outputs": [
    {
     "data": {
      "text/plain": [
       "carat       float64\n",
       "cut        category\n",
       "color         int64\n",
       "clarity    category\n",
       "depth       float64\n",
       "table       float64\n",
       "price         int64\n",
       "x           float64\n",
       "y           float64\n",
       "z           float64\n",
       "dtype: object"
      ]
     },
     "execution_count": 49,
     "metadata": {},
     "output_type": "execute_result"
    }
   ],
   "source": [
    "diamonds.dtypes"
   ]
  },
  {
   "cell_type": "markdown",
   "id": "47dab3da",
   "metadata": {},
   "source": [
    "### Missing Value\n",
    "\n",
    "Mari kita melihat apakah terdapat missing value terhadap data kita berhubung missing value dapat menggagalkan proses pemodelan machine learning."
   ]
  },
  {
   "cell_type": "code",
   "execution_count": 50,
   "id": "4e4157e5",
   "metadata": {},
   "outputs": [
    {
     "data": {
      "text/plain": [
       "carat      0\n",
       "cut        0\n",
       "color      0\n",
       "clarity    0\n",
       "depth      0\n",
       "table      0\n",
       "price      0\n",
       "x          0\n",
       "y          0\n",
       "z          0\n",
       "dtype: int64"
      ]
     },
     "execution_count": 50,
     "metadata": {},
     "output_type": "execute_result"
    }
   ],
   "source": [
    "diamonds.isnull().sum()"
   ]
  },
  {
   "cell_type": "markdown",
   "id": "422e1f1a",
   "metadata": {},
   "source": [
    "### Duplikat\n",
    "\n",
    "Setelah missing value, kita melihat apakah terdapat observasi yang duplikat. Observasi duplikat dapat menyebabkan bias dan ketidakakuratan terhadap hasil prediksi pemodelan machine learning kita."
   ]
  },
  {
   "cell_type": "code",
   "execution_count": 51,
   "id": "cd2d31a3",
   "metadata": {},
   "outputs": [
    {
     "data": {
      "text/plain": [
       "0"
      ]
     },
     "execution_count": 51,
     "metadata": {},
     "output_type": "execute_result"
    }
   ],
   "source": [
    "diamonds.duplicated().sum()"
   ]
  },
  {
   "cell_type": "code",
   "execution_count": 52,
   "id": "3ac9050c",
   "metadata": {},
   "outputs": [
    {
     "data": {
      "text/html": [
       "<div>\n",
       "<style scoped>\n",
       "    .dataframe tbody tr th:only-of-type {\n",
       "        vertical-align: middle;\n",
       "    }\n",
       "\n",
       "    .dataframe tbody tr th {\n",
       "        vertical-align: top;\n",
       "    }\n",
       "\n",
       "    .dataframe thead th {\n",
       "        text-align: right;\n",
       "    }\n",
       "</style>\n",
       "<table border=\"1\" class=\"dataframe\">\n",
       "  <thead>\n",
       "    <tr style=\"text-align: right;\">\n",
       "      <th></th>\n",
       "      <th>carat</th>\n",
       "      <th>cut</th>\n",
       "      <th>color</th>\n",
       "      <th>clarity</th>\n",
       "      <th>depth</th>\n",
       "      <th>table</th>\n",
       "      <th>price</th>\n",
       "      <th>x</th>\n",
       "      <th>y</th>\n",
       "      <th>z</th>\n",
       "    </tr>\n",
       "  </thead>\n",
       "  <tbody>\n",
       "    <tr>\n",
       "      <th>0</th>\n",
       "      <td>0.63</td>\n",
       "      <td>Fair</td>\n",
       "      <td>5</td>\n",
       "      <td>VS</td>\n",
       "      <td>65.7</td>\n",
       "      <td>60.0</td>\n",
       "      <td>2011</td>\n",
       "      <td>5.41</td>\n",
       "      <td>5.31</td>\n",
       "      <td>3.52</td>\n",
       "    </tr>\n",
       "    <tr>\n",
       "      <th>1</th>\n",
       "      <td>2.00</td>\n",
       "      <td>Fair</td>\n",
       "      <td>0</td>\n",
       "      <td>SI</td>\n",
       "      <td>66.4</td>\n",
       "      <td>55.0</td>\n",
       "      <td>11189</td>\n",
       "      <td>7.82</td>\n",
       "      <td>7.67</td>\n",
       "      <td>5.15</td>\n",
       "    </tr>\n",
       "    <tr>\n",
       "      <th>2</th>\n",
       "      <td>0.48</td>\n",
       "      <td>Fair</td>\n",
       "      <td>4</td>\n",
       "      <td>SI</td>\n",
       "      <td>56.4</td>\n",
       "      <td>59.0</td>\n",
       "      <td>994</td>\n",
       "      <td>5.28</td>\n",
       "      <td>5.26</td>\n",
       "      <td>2.97</td>\n",
       "    </tr>\n",
       "    <tr>\n",
       "      <th>3</th>\n",
       "      <td>2.04</td>\n",
       "      <td>Fair</td>\n",
       "      <td>1</td>\n",
       "      <td>SI</td>\n",
       "      <td>66.6</td>\n",
       "      <td>56.0</td>\n",
       "      <td>9802</td>\n",
       "      <td>7.80</td>\n",
       "      <td>7.77</td>\n",
       "      <td>5.19</td>\n",
       "    </tr>\n",
       "    <tr>\n",
       "      <th>4</th>\n",
       "      <td>0.71</td>\n",
       "      <td>Fair</td>\n",
       "      <td>0</td>\n",
       "      <td>SI</td>\n",
       "      <td>65.5</td>\n",
       "      <td>61.0</td>\n",
       "      <td>1409</td>\n",
       "      <td>5.54</td>\n",
       "      <td>5.49</td>\n",
       "      <td>3.61</td>\n",
       "    </tr>\n",
       "    <tr>\n",
       "      <th>...</th>\n",
       "      <td>...</td>\n",
       "      <td>...</td>\n",
       "      <td>...</td>\n",
       "      <td>...</td>\n",
       "      <td>...</td>\n",
       "      <td>...</td>\n",
       "      <td>...</td>\n",
       "      <td>...</td>\n",
       "      <td>...</td>\n",
       "      <td>...</td>\n",
       "    </tr>\n",
       "    <tr>\n",
       "      <th>2692</th>\n",
       "      <td>0.38</td>\n",
       "      <td>Very Good</td>\n",
       "      <td>4</td>\n",
       "      <td>VS</td>\n",
       "      <td>60.9</td>\n",
       "      <td>56.0</td>\n",
       "      <td>800</td>\n",
       "      <td>4.67</td>\n",
       "      <td>4.72</td>\n",
       "      <td>2.86</td>\n",
       "    </tr>\n",
       "    <tr>\n",
       "      <th>2693</th>\n",
       "      <td>0.58</td>\n",
       "      <td>Very Good</td>\n",
       "      <td>3</td>\n",
       "      <td>VVS</td>\n",
       "      <td>62.1</td>\n",
       "      <td>58.0</td>\n",
       "      <td>1872</td>\n",
       "      <td>5.35</td>\n",
       "      <td>5.40</td>\n",
       "      <td>3.34</td>\n",
       "    </tr>\n",
       "    <tr>\n",
       "      <th>2694</th>\n",
       "      <td>1.51</td>\n",
       "      <td>Very Good</td>\n",
       "      <td>2</td>\n",
       "      <td>VVS</td>\n",
       "      <td>61.5</td>\n",
       "      <td>58.0</td>\n",
       "      <td>12981</td>\n",
       "      <td>7.30</td>\n",
       "      <td>7.39</td>\n",
       "      <td>4.52</td>\n",
       "    </tr>\n",
       "    <tr>\n",
       "      <th>2695</th>\n",
       "      <td>0.30</td>\n",
       "      <td>Very Good</td>\n",
       "      <td>4</td>\n",
       "      <td>SI</td>\n",
       "      <td>62.1</td>\n",
       "      <td>61.0</td>\n",
       "      <td>500</td>\n",
       "      <td>4.25</td>\n",
       "      <td>4.29</td>\n",
       "      <td>2.65</td>\n",
       "    </tr>\n",
       "    <tr>\n",
       "      <th>2696</th>\n",
       "      <td>1.01</td>\n",
       "      <td>Very Good</td>\n",
       "      <td>1</td>\n",
       "      <td>SI</td>\n",
       "      <td>63.5</td>\n",
       "      <td>57.0</td>\n",
       "      <td>4244</td>\n",
       "      <td>6.35</td>\n",
       "      <td>6.37</td>\n",
       "      <td>4.04</td>\n",
       "    </tr>\n",
       "  </tbody>\n",
       "</table>\n",
       "<p>2697 rows × 10 columns</p>\n",
       "</div>"
      ],
      "text/plain": [
       "      carat        cut  color clarity  depth  table  price     x     y     z\n",
       "0      0.63       Fair      5      VS   65.7   60.0   2011  5.41  5.31  3.52\n",
       "1      2.00       Fair      0      SI   66.4   55.0  11189  7.82  7.67  5.15\n",
       "2      0.48       Fair      4      SI   56.4   59.0    994  5.28  5.26  2.97\n",
       "3      2.04       Fair      1      SI   66.6   56.0   9802  7.80  7.77  5.19\n",
       "4      0.71       Fair      0      SI   65.5   61.0   1409  5.54  5.49  3.61\n",
       "...     ...        ...    ...     ...    ...    ...    ...   ...   ...   ...\n",
       "2692   0.38  Very Good      4      VS   60.9   56.0    800  4.67  4.72  2.86\n",
       "2693   0.58  Very Good      3     VVS   62.1   58.0   1872  5.35  5.40  3.34\n",
       "2694   1.51  Very Good      2     VVS   61.5   58.0  12981  7.30  7.39  4.52\n",
       "2695   0.30  Very Good      4      SI   62.1   61.0    500  4.25  4.29  2.65\n",
       "2696   1.01  Very Good      1      SI   63.5   57.0   4244  6.35  6.37  4.04\n",
       "\n",
       "[2697 rows x 10 columns]"
      ]
     },
     "execution_count": 52,
     "metadata": {},
     "output_type": "execute_result"
    }
   ],
   "source": [
    "diamonds"
   ]
  },
  {
   "cell_type": "markdown",
   "id": "08026971",
   "metadata": {},
   "source": [
    "> "
   ]
  },
  {
   "cell_type": "markdown",
   "id": "df47ff62",
   "metadata": {},
   "source": [
    "## Melihat Deskripsi Statistik Data"
   ]
  },
  {
   "cell_type": "markdown",
   "id": "2a8bb9d5",
   "metadata": {},
   "source": [
    "Bagaimana deskripsi dari data kita?"
   ]
  },
  {
   "cell_type": "code",
   "execution_count": 53,
   "id": "c4b132f3",
   "metadata": {},
   "outputs": [
    {
     "data": {
      "text/html": [
       "<div>\n",
       "<style scoped>\n",
       "    .dataframe tbody tr th:only-of-type {\n",
       "        vertical-align: middle;\n",
       "    }\n",
       "\n",
       "    .dataframe tbody tr th {\n",
       "        vertical-align: top;\n",
       "    }\n",
       "\n",
       "    .dataframe thead th {\n",
       "        text-align: right;\n",
       "    }\n",
       "</style>\n",
       "<table border=\"1\" class=\"dataframe\">\n",
       "  <thead>\n",
       "    <tr style=\"text-align: right;\">\n",
       "      <th></th>\n",
       "      <th>carat</th>\n",
       "      <th>color</th>\n",
       "      <th>depth</th>\n",
       "      <th>table</th>\n",
       "      <th>price</th>\n",
       "      <th>x</th>\n",
       "      <th>y</th>\n",
       "      <th>z</th>\n",
       "    </tr>\n",
       "  </thead>\n",
       "  <tbody>\n",
       "    <tr>\n",
       "      <th>count</th>\n",
       "      <td>2697.000000</td>\n",
       "      <td>2697.000000</td>\n",
       "      <td>2697.000000</td>\n",
       "      <td>2697.000000</td>\n",
       "      <td>2697.000000</td>\n",
       "      <td>2697.000000</td>\n",
       "      <td>2697.000000</td>\n",
       "      <td>2697.000000</td>\n",
       "    </tr>\n",
       "    <tr>\n",
       "      <th>mean</th>\n",
       "      <td>0.813745</td>\n",
       "      <td>3.411568</td>\n",
       "      <td>61.793437</td>\n",
       "      <td>57.449462</td>\n",
       "      <td>4068.796440</td>\n",
       "      <td>5.762896</td>\n",
       "      <td>5.765143</td>\n",
       "      <td>3.559132</td>\n",
       "    </tr>\n",
       "    <tr>\n",
       "      <th>std</th>\n",
       "      <td>0.480712</td>\n",
       "      <td>1.711278</td>\n",
       "      <td>1.440168</td>\n",
       "      <td>2.173359</td>\n",
       "      <td>4117.797273</td>\n",
       "      <td>1.132582</td>\n",
       "      <td>1.124426</td>\n",
       "      <td>0.709357</td>\n",
       "    </tr>\n",
       "    <tr>\n",
       "      <th>min</th>\n",
       "      <td>0.230000</td>\n",
       "      <td>0.000000</td>\n",
       "      <td>55.800000</td>\n",
       "      <td>49.000000</td>\n",
       "      <td>355.000000</td>\n",
       "      <td>0.000000</td>\n",
       "      <td>0.000000</td>\n",
       "      <td>0.000000</td>\n",
       "    </tr>\n",
       "    <tr>\n",
       "      <th>25%</th>\n",
       "      <td>0.400000</td>\n",
       "      <td>2.000000</td>\n",
       "      <td>61.100000</td>\n",
       "      <td>56.000000</td>\n",
       "      <td>957.000000</td>\n",
       "      <td>4.730000</td>\n",
       "      <td>4.740000</td>\n",
       "      <td>2.920000</td>\n",
       "    </tr>\n",
       "    <tr>\n",
       "      <th>50%</th>\n",
       "      <td>0.710000</td>\n",
       "      <td>3.000000</td>\n",
       "      <td>61.900000</td>\n",
       "      <td>57.000000</td>\n",
       "      <td>2488.000000</td>\n",
       "      <td>5.710000</td>\n",
       "      <td>5.730000</td>\n",
       "      <td>3.550000</td>\n",
       "    </tr>\n",
       "    <tr>\n",
       "      <th>75%</th>\n",
       "      <td>1.060000</td>\n",
       "      <td>5.000000</td>\n",
       "      <td>62.500000</td>\n",
       "      <td>59.000000</td>\n",
       "      <td>5443.000000</td>\n",
       "      <td>6.560000</td>\n",
       "      <td>6.560000</td>\n",
       "      <td>4.050000</td>\n",
       "    </tr>\n",
       "    <tr>\n",
       "      <th>max</th>\n",
       "      <td>3.240000</td>\n",
       "      <td>6.000000</td>\n",
       "      <td>70.000000</td>\n",
       "      <td>68.000000</td>\n",
       "      <td>18741.000000</td>\n",
       "      <td>9.440000</td>\n",
       "      <td>9.400000</td>\n",
       "      <td>5.850000</td>\n",
       "    </tr>\n",
       "  </tbody>\n",
       "</table>\n",
       "</div>"
      ],
      "text/plain": [
       "             carat        color        depth        table         price   \n",
       "count  2697.000000  2697.000000  2697.000000  2697.000000   2697.000000  \\\n",
       "mean      0.813745     3.411568    61.793437    57.449462   4068.796440   \n",
       "std       0.480712     1.711278     1.440168     2.173359   4117.797273   \n",
       "min       0.230000     0.000000    55.800000    49.000000    355.000000   \n",
       "25%       0.400000     2.000000    61.100000    56.000000    957.000000   \n",
       "50%       0.710000     3.000000    61.900000    57.000000   2488.000000   \n",
       "75%       1.060000     5.000000    62.500000    59.000000   5443.000000   \n",
       "max       3.240000     6.000000    70.000000    68.000000  18741.000000   \n",
       "\n",
       "                 x            y            z  \n",
       "count  2697.000000  2697.000000  2697.000000  \n",
       "mean      5.762896     5.765143     3.559132  \n",
       "std       1.132582     1.124426     0.709357  \n",
       "min       0.000000     0.000000     0.000000  \n",
       "25%       4.730000     4.740000     2.920000  \n",
       "50%       5.710000     5.730000     3.550000  \n",
       "75%       6.560000     6.560000     4.050000  \n",
       "max       9.440000     9.400000     5.850000  "
      ]
     },
     "execution_count": 53,
     "metadata": {},
     "output_type": "execute_result"
    }
   ],
   "source": [
    "# code here\n",
    "diamonds.describe()"
   ]
  },
  {
   "cell_type": "markdown",
   "id": "eee406fd",
   "metadata": {},
   "source": [
    "> **Insight:**"
   ]
  },
  {
   "cell_type": "code",
   "execution_count": 54,
   "id": "8072e83a",
   "metadata": {},
   "outputs": [
    {
     "name": "stdout",
     "output_type": "stream",
     "text": [
      "freq 0 values at x: 1 , y : 1 , z: 3\n"
     ]
    }
   ],
   "source": [
    "# terdapat nilai 0 untuk dimensi, dimana tidak mungkin dimensi bernilai 0\n",
    "x = (diamonds.x == 0).sum()\n",
    "y = (diamonds.y == 0).sum()\n",
    "z = (diamonds.z == 0).sum()\n",
    " \n",
    "print(\"freq 0 values at x:\", x, \", y :\", y, \", z:\", z)"
   ]
  },
  {
   "cell_type": "code",
   "execution_count": 55,
   "id": "076c1114",
   "metadata": {},
   "outputs": [
    {
     "data": {
      "text/html": [
       "<div>\n",
       "<style scoped>\n",
       "    .dataframe tbody tr th:only-of-type {\n",
       "        vertical-align: middle;\n",
       "    }\n",
       "\n",
       "    .dataframe tbody tr th {\n",
       "        vertical-align: top;\n",
       "    }\n",
       "\n",
       "    .dataframe thead th {\n",
       "        text-align: right;\n",
       "    }\n",
       "</style>\n",
       "<table border=\"1\" class=\"dataframe\">\n",
       "  <thead>\n",
       "    <tr style=\"text-align: right;\">\n",
       "      <th></th>\n",
       "      <th>carat</th>\n",
       "      <th>color</th>\n",
       "      <th>depth</th>\n",
       "      <th>table</th>\n",
       "      <th>price</th>\n",
       "      <th>x</th>\n",
       "      <th>y</th>\n",
       "      <th>z</th>\n",
       "    </tr>\n",
       "  </thead>\n",
       "  <tbody>\n",
       "    <tr>\n",
       "      <th>count</th>\n",
       "      <td>2694.000000</td>\n",
       "      <td>2694.000000</td>\n",
       "      <td>2694.000000</td>\n",
       "      <td>2694.000000</td>\n",
       "      <td>2694.000000</td>\n",
       "      <td>2694.000000</td>\n",
       "      <td>2694.000000</td>\n",
       "      <td>2694.000000</td>\n",
       "    </tr>\n",
       "    <tr>\n",
       "      <th>mean</th>\n",
       "      <td>0.813081</td>\n",
       "      <td>3.412027</td>\n",
       "      <td>61.791425</td>\n",
       "      <td>57.448849</td>\n",
       "      <td>4064.022272</td>\n",
       "      <td>5.763682</td>\n",
       "      <td>5.765999</td>\n",
       "      <td>3.563096</td>\n",
       "    </tr>\n",
       "    <tr>\n",
       "      <th>std</th>\n",
       "      <td>0.480231</td>\n",
       "      <td>1.711959</td>\n",
       "      <td>1.439550</td>\n",
       "      <td>2.171244</td>\n",
       "      <td>4110.880302</td>\n",
       "      <td>1.126602</td>\n",
       "      <td>1.118492</td>\n",
       "      <td>0.699729</td>\n",
       "    </tr>\n",
       "    <tr>\n",
       "      <th>min</th>\n",
       "      <td>0.230000</td>\n",
       "      <td>0.000000</td>\n",
       "      <td>55.800000</td>\n",
       "      <td>49.000000</td>\n",
       "      <td>355.000000</td>\n",
       "      <td>3.830000</td>\n",
       "      <td>3.840000</td>\n",
       "      <td>2.360000</td>\n",
       "    </tr>\n",
       "    <tr>\n",
       "      <th>25%</th>\n",
       "      <td>0.400000</td>\n",
       "      <td>2.000000</td>\n",
       "      <td>61.100000</td>\n",
       "      <td>56.000000</td>\n",
       "      <td>956.250000</td>\n",
       "      <td>4.730000</td>\n",
       "      <td>4.740000</td>\n",
       "      <td>2.920000</td>\n",
       "    </tr>\n",
       "    <tr>\n",
       "      <th>50%</th>\n",
       "      <td>0.710000</td>\n",
       "      <td>3.000000</td>\n",
       "      <td>61.900000</td>\n",
       "      <td>57.000000</td>\n",
       "      <td>2486.500000</td>\n",
       "      <td>5.710000</td>\n",
       "      <td>5.730000</td>\n",
       "      <td>3.550000</td>\n",
       "    </tr>\n",
       "    <tr>\n",
       "      <th>75%</th>\n",
       "      <td>1.060000</td>\n",
       "      <td>5.000000</td>\n",
       "      <td>62.500000</td>\n",
       "      <td>59.000000</td>\n",
       "      <td>5442.000000</td>\n",
       "      <td>6.560000</td>\n",
       "      <td>6.560000</td>\n",
       "      <td>4.050000</td>\n",
       "    </tr>\n",
       "    <tr>\n",
       "      <th>max</th>\n",
       "      <td>3.240000</td>\n",
       "      <td>6.000000</td>\n",
       "      <td>70.000000</td>\n",
       "      <td>68.000000</td>\n",
       "      <td>18741.000000</td>\n",
       "      <td>9.440000</td>\n",
       "      <td>9.400000</td>\n",
       "      <td>5.850000</td>\n",
       "    </tr>\n",
       "  </tbody>\n",
       "</table>\n",
       "</div>"
      ],
      "text/plain": [
       "             carat        color        depth        table         price   \n",
       "count  2694.000000  2694.000000  2694.000000  2694.000000   2694.000000  \\\n",
       "mean      0.813081     3.412027    61.791425    57.448849   4064.022272   \n",
       "std       0.480231     1.711959     1.439550     2.171244   4110.880302   \n",
       "min       0.230000     0.000000    55.800000    49.000000    355.000000   \n",
       "25%       0.400000     2.000000    61.100000    56.000000    956.250000   \n",
       "50%       0.710000     3.000000    61.900000    57.000000   2486.500000   \n",
       "75%       1.060000     5.000000    62.500000    59.000000   5442.000000   \n",
       "max       3.240000     6.000000    70.000000    68.000000  18741.000000   \n",
       "\n",
       "                 x            y            z  \n",
       "count  2694.000000  2694.000000  2694.000000  \n",
       "mean      5.763682     5.765999     3.563096  \n",
       "std       1.126602     1.118492     0.699729  \n",
       "min       3.830000     3.840000     2.360000  \n",
       "25%       4.730000     4.740000     2.920000  \n",
       "50%       5.710000     5.730000     3.550000  \n",
       "75%       6.560000     6.560000     4.050000  \n",
       "max       9.440000     9.400000     5.850000  "
      ]
     },
     "execution_count": 55,
     "metadata": {},
     "output_type": "execute_result"
    }
   ],
   "source": [
    "diamonds = diamonds[diamonds['z']!=0]\n",
    "\n",
    "diamonds.describe()"
   ]
  },
  {
   "cell_type": "markdown",
   "id": "e0b92af7",
   "metadata": {},
   "source": [
    "Pada kasus ini, kita akan menghapus data yang bernilai 0, dikarenakan:\n",
    "1. Kita mempunyai banyak data yang lainnya, sehingga tidak ada masalah jika kita menghapus beberapa.\n",
    "2. Sangat sulit untuk menebak nilai yang seharusnya untuk x, y, z."
   ]
  },
  {
   "cell_type": "markdown",
   "id": "9eb810ad",
   "metadata": {},
   "source": [
    "## Eksplorasi Lanjutan"
   ]
  },
  {
   "cell_type": "markdown",
   "id": "0b48ac94",
   "metadata": {},
   "source": [
    "Kita ingin melihat hubungan antara `carat` dengan `price`"
   ]
  },
  {
   "cell_type": "code",
   "execution_count": 56,
   "id": "46851109",
   "metadata": {},
   "outputs": [
    {
     "data": {
      "image/png": "[encoded data removed]",
      "text/plain": [
       "<Figure size 640x480 with 1 Axes>"
      ]
     },
     "metadata": {},
     "output_type": "display_data"
    }
   ],
   "source": [
    "diamonds.plot(x='carat', y='price',kind = 'scatter');"
   ]
  },
  {
   "cell_type": "markdown",
   "id": "37467f4c",
   "metadata": {},
   "source": [
    "> Insight:\n",
    "\n",
    "Mari kita eksplorasi lagi dataset kita"
   ]
  },
  {
   "cell_type": "code",
   "execution_count": 57,
   "id": "04d09b49",
   "metadata": {
    "scrolled": true
   },
   "outputs": [
    {
     "data": {
      "text/html": [
       "<div>\n",
       "<style scoped>\n",
       "    .dataframe tbody tr th:only-of-type {\n",
       "        vertical-align: middle;\n",
       "    }\n",
       "\n",
       "    .dataframe tbody tr th {\n",
       "        vertical-align: top;\n",
       "    }\n",
       "\n",
       "    .dataframe thead th {\n",
       "        text-align: right;\n",
       "    }\n",
       "</style>\n",
       "<table border=\"1\" class=\"dataframe\">\n",
       "  <thead>\n",
       "    <tr style=\"text-align: right;\">\n",
       "      <th></th>\n",
       "      <th>carat</th>\n",
       "      <th>cut</th>\n",
       "      <th>color</th>\n",
       "      <th>clarity</th>\n",
       "      <th>depth</th>\n",
       "      <th>table</th>\n",
       "      <th>price</th>\n",
       "      <th>x</th>\n",
       "      <th>y</th>\n",
       "      <th>z</th>\n",
       "    </tr>\n",
       "  </thead>\n",
       "  <tbody>\n",
       "    <tr>\n",
       "      <th>0</th>\n",
       "      <td>0.63</td>\n",
       "      <td>Fair</td>\n",
       "      <td>5</td>\n",
       "      <td>VS</td>\n",
       "      <td>65.7</td>\n",
       "      <td>60.0</td>\n",
       "      <td>2011</td>\n",
       "      <td>5.41</td>\n",
       "      <td>5.31</td>\n",
       "      <td>3.52</td>\n",
       "    </tr>\n",
       "    <tr>\n",
       "      <th>1</th>\n",
       "      <td>2.00</td>\n",
       "      <td>Fair</td>\n",
       "      <td>0</td>\n",
       "      <td>SI</td>\n",
       "      <td>66.4</td>\n",
       "      <td>55.0</td>\n",
       "      <td>11189</td>\n",
       "      <td>7.82</td>\n",
       "      <td>7.67</td>\n",
       "      <td>5.15</td>\n",
       "    </tr>\n",
       "  </tbody>\n",
       "</table>\n",
       "</div>"
      ],
      "text/plain": [
       "   carat   cut  color clarity  depth  table  price     x     y     z\n",
       "0   0.63  Fair      5      VS   65.7   60.0   2011  5.41  5.31  3.52\n",
       "1   2.00  Fair      0      SI   66.4   55.0  11189  7.82  7.67  5.15"
      ]
     },
     "execution_count": 57,
     "metadata": {},
     "output_type": "execute_result"
    }
   ],
   "source": [
    "# code here\n",
    "diamonds.head(2)"
   ]
  },
  {
   "cell_type": "code",
   "execution_count": 58,
   "id": "fa45eee3",
   "metadata": {},
   "outputs": [
    {
     "name": "stdout",
     "output_type": "stream",
     "text": [
      "Object `ratanya` not found.\n"
     ]
    }
   ],
   "source": [
    "Kita ingin melihat hubungan antara kolom 'cut' dengan 'price'. kita ingin melihat harga rata-ratanya?"
   ]
  },
  {
   "cell_type": "code",
   "execution_count": 59,
   "id": "4e7620f4",
   "metadata": {
    "scrolled": true
   },
   "outputs": [
    {
     "data": {
      "text/html": [
       "<div>\n",
       "<style scoped>\n",
       "    .dataframe tbody tr th:only-of-type {\n",
       "        vertical-align: middle;\n",
       "    }\n",
       "\n",
       "    .dataframe tbody tr th {\n",
       "        vertical-align: top;\n",
       "    }\n",
       "\n",
       "    .dataframe thead th {\n",
       "        text-align: right;\n",
       "    }\n",
       "</style>\n",
       "<table border=\"1\" class=\"dataframe\">\n",
       "  <thead>\n",
       "    <tr style=\"text-align: right;\">\n",
       "      <th></th>\n",
       "      <th>price</th>\n",
       "    </tr>\n",
       "    <tr>\n",
       "      <th>cut</th>\n",
       "      <th></th>\n",
       "    </tr>\n",
       "  </thead>\n",
       "  <tbody>\n",
       "    <tr>\n",
       "      <th>Fair</th>\n",
       "      <td>4613.675000</td>\n",
       "    </tr>\n",
       "    <tr>\n",
       "      <th>Good</th>\n",
       "      <td>3683.905350</td>\n",
       "    </tr>\n",
       "    <tr>\n",
       "      <th>Ideal</th>\n",
       "      <td>3559.201299</td>\n",
       "    </tr>\n",
       "    <tr>\n",
       "      <th>Premium</th>\n",
       "      <td>4909.181422</td>\n",
       "    </tr>\n",
       "    <tr>\n",
       "      <th>Very Good</th>\n",
       "      <td>4081.039735</td>\n",
       "    </tr>\n",
       "  </tbody>\n",
       "</table>\n",
       "</div>"
      ],
      "text/plain": [
       "                 price\n",
       "cut                   \n",
       "Fair       4613.675000\n",
       "Good       3683.905350\n",
       "Ideal      3559.201299\n",
       "Premium    4909.181422\n",
       "Very Good  4081.039735"
      ]
     },
     "execution_count": 59,
     "metadata": {},
     "output_type": "execute_result"
    }
   ],
   "source": [
    "# code here\n",
    "diamonds.pivot_table(index = 'cut', values = 'price', aggfunc = 'mean')"
   ]
  },
  {
   "cell_type": "code",
   "execution_count": 60,
   "id": "f4084434",
   "metadata": {},
   "outputs": [],
   "source": [
    "#cut tidak mempengaruhi harga"
   ]
  },
  {
   "cell_type": "code",
   "execution_count": null,
   "id": "56fc9ce8",
   "metadata": {},
   "outputs": [],
   "source": []
  },
  {
   "cell_type": "markdown",
   "id": "e663c79b",
   "metadata": {},
   "source": [
    "> "
   ]
  },
  {
   "cell_type": "markdown",
   "id": "326ee656",
   "metadata": {},
   "source": [
    "# Data Preprocessing"
   ]
  },
  {
   "cell_type": "markdown",
   "id": "9b96508e",
   "metadata": {},
   "source": [
    "## Handling Categorical Data: Encoding\n",
    "\n",
    "Ingat kembali bahwa terdapat 2 tipe data kategorikal, yaitu Nominal dan Ordinal, dimana:\n",
    "\n",
    "1. Nominal: Tipe kategorikal yang tidak memiliki hubungan antara kategori satu dengan yang lainnya. Contoh: kota (Jakarta, Makassar, Bandung), warna (biru, putih, hitam). Tipe kategorikal nominal ditangani dengan dummy variable encoding.\n",
    "\n",
    "2. Ordinal: Tipe kategorikal yang memiliki hubungan bertingkat. Contoh: tingkat pendidikan (s1, s2, s3), tingkat kepuasan (kecewa, netral, puas). Tipe ordinal ditangani dengan ordinal encoding\n",
    "\n",
    "Kita harus mengidentifikasi tipe kategorikal pada dataset kita, berhubung tipe tersebut berpengaruh ke bagaimana cara kita melakukan encoding.\n",
    "\n",
    "- Nominal:\n",
    "- Ordinal: cut, clarity -> ordinal encoding\n",
    "\n",
    "Setelah kita mengetahui tipe data kategorikal kita, mari kita lakukan encoding terhadap data kita."
   ]
  },
  {
   "cell_type": "code",
   "execution_count": 61,
   "id": "1b622e08",
   "metadata": {
    "scrolled": true
   },
   "outputs": [
    {
     "data": {
      "text/html": [
       "<div>\n",
       "<style scoped>\n",
       "    .dataframe tbody tr th:only-of-type {\n",
       "        vertical-align: middle;\n",
       "    }\n",
       "\n",
       "    .dataframe tbody tr th {\n",
       "        vertical-align: top;\n",
       "    }\n",
       "\n",
       "    .dataframe thead th {\n",
       "        text-align: right;\n",
       "    }\n",
       "</style>\n",
       "<table border=\"1\" class=\"dataframe\">\n",
       "  <thead>\n",
       "    <tr style=\"text-align: right;\">\n",
       "      <th></th>\n",
       "      <th>carat</th>\n",
       "      <th>cut</th>\n",
       "      <th>color</th>\n",
       "      <th>clarity</th>\n",
       "      <th>depth</th>\n",
       "      <th>table</th>\n",
       "      <th>price</th>\n",
       "      <th>x</th>\n",
       "      <th>y</th>\n",
       "      <th>z</th>\n",
       "    </tr>\n",
       "  </thead>\n",
       "  <tbody>\n",
       "    <tr>\n",
       "      <th>0</th>\n",
       "      <td>0.63</td>\n",
       "      <td>Fair</td>\n",
       "      <td>5</td>\n",
       "      <td>VS</td>\n",
       "      <td>65.7</td>\n",
       "      <td>60.0</td>\n",
       "      <td>2011</td>\n",
       "      <td>5.41</td>\n",
       "      <td>5.31</td>\n",
       "      <td>3.52</td>\n",
       "    </tr>\n",
       "    <tr>\n",
       "      <th>1</th>\n",
       "      <td>2.00</td>\n",
       "      <td>Fair</td>\n",
       "      <td>0</td>\n",
       "      <td>SI</td>\n",
       "      <td>66.4</td>\n",
       "      <td>55.0</td>\n",
       "      <td>11189</td>\n",
       "      <td>7.82</td>\n",
       "      <td>7.67</td>\n",
       "      <td>5.15</td>\n",
       "    </tr>\n",
       "  </tbody>\n",
       "</table>\n",
       "</div>"
      ],
      "text/plain": [
       "   carat   cut  color clarity  depth  table  price     x     y     z\n",
       "0   0.63  Fair      5      VS   65.7   60.0   2011  5.41  5.31  3.52\n",
       "1   2.00  Fair      0      SI   66.4   55.0  11189  7.82  7.67  5.15"
      ]
     },
     "execution_count": 61,
     "metadata": {},
     "output_type": "execute_result"
    }
   ],
   "source": [
    "diamonds.head(2)"
   ]
  },
  {
   "cell_type": "code",
   "execution_count": 62,
   "id": "9c75a31d",
   "metadata": {},
   "outputs": [],
   "source": [
    "#step untuk melakukan melakukan ordinal encoding :\n",
    "    #1. Membuat urutan kategori kita "
   ]
  },
  {
   "cell_type": "code",
   "execution_count": 63,
   "id": "9dd302c1",
   "metadata": {},
   "outputs": [],
   "source": [
    "#diamonds['clarity'].unique() #melihat apakah isi claritynya ada semua dikolom clarity"
   ]
  },
  {
   "cell_type": "code",
   "execution_count": 64,
   "id": "9d6a0e90",
   "metadata": {},
   "outputs": [
    {
     "data": {
      "text/plain": [
       "['VS', 'SI', 'VVS', 'I1', 'IF']\n",
       "Categories (5, object): ['I1', 'IF', 'SI', 'VS', 'VVS']"
      ]
     },
     "execution_count": 64,
     "metadata": {},
     "output_type": "execute_result"
    }
   ],
   "source": [
    "diamonds['clarity'].unique()"
   ]
  },
  {
   "cell_type": "code",
   "execution_count": 65,
   "id": "692ec543",
   "metadata": {},
   "outputs": [],
   "source": [
    "# order cut, fair (worst), ideal (best)\n",
    "order_cut = ['Fair', 'Good', 'Very Good', 'Premium', 'Ideal']\n",
    "# order clarity I1 (worst) until IF (best)\n",
    "order_clarity = ['I1','SI', 'VS', 'VVS', 'IF']"
   ]
  },
  {
   "cell_type": "code",
   "execution_count": 66,
   "id": "a17e350b",
   "metadata": {},
   "outputs": [],
   "source": [
    "#2. Membuat objek encoder"
   ]
  },
  {
   "cell_type": "code",
   "execution_count": 67,
   "id": "bdcac948",
   "metadata": {},
   "outputs": [],
   "source": [
    "# create encoding object\n",
    "diamonds_ord_enc = OrdinalEncoder(categories = [order_cut, order_clarity])"
   ]
  },
  {
   "cell_type": "code",
   "execution_count": 68,
   "id": "d3b4306f",
   "metadata": {},
   "outputs": [
    {
     "name": "stderr",
     "output_type": "stream",
     "text": [
      "/var/folders/6p/6s85nm1n61vgln52l08zqh240000gn/T/ipykernel_38037/607951079.py:2: SettingWithCopyWarning: \n",
      "A value is trying to be set on a copy of a slice from a DataFrame.\n",
      "Try using .loc[row_indexer,col_indexer] = value instead\n",
      "\n",
      "See the caveats in the documentation: https://pandas.pydata.org/pandas-docs/stable/user_guide/indexing.html#returning-a-view-versus-a-copy\n",
      "  diamonds[['cut', 'clarity']] = diamonds_ord_enc.fit_transform(diamonds[['cut', 'clarity']])\n"
     ]
    },
    {
     "data": {
      "text/html": [
       "<div>\n",
       "<style scoped>\n",
       "    .dataframe tbody tr th:only-of-type {\n",
       "        vertical-align: middle;\n",
       "    }\n",
       "\n",
       "    .dataframe tbody tr th {\n",
       "        vertical-align: top;\n",
       "    }\n",
       "\n",
       "    .dataframe thead th {\n",
       "        text-align: right;\n",
       "    }\n",
       "</style>\n",
       "<table border=\"1\" class=\"dataframe\">\n",
       "  <thead>\n",
       "    <tr style=\"text-align: right;\">\n",
       "      <th></th>\n",
       "      <th>carat</th>\n",
       "      <th>cut</th>\n",
       "      <th>color</th>\n",
       "      <th>clarity</th>\n",
       "      <th>depth</th>\n",
       "      <th>table</th>\n",
       "      <th>price</th>\n",
       "      <th>x</th>\n",
       "      <th>y</th>\n",
       "      <th>z</th>\n",
       "    </tr>\n",
       "  </thead>\n",
       "  <tbody>\n",
       "    <tr>\n",
       "      <th>0</th>\n",
       "      <td>0.63</td>\n",
       "      <td>0.0</td>\n",
       "      <td>5</td>\n",
       "      <td>2.0</td>\n",
       "      <td>65.7</td>\n",
       "      <td>60.0</td>\n",
       "      <td>2011</td>\n",
       "      <td>5.41</td>\n",
       "      <td>5.31</td>\n",
       "      <td>3.52</td>\n",
       "    </tr>\n",
       "    <tr>\n",
       "      <th>1</th>\n",
       "      <td>2.00</td>\n",
       "      <td>0.0</td>\n",
       "      <td>0</td>\n",
       "      <td>1.0</td>\n",
       "      <td>66.4</td>\n",
       "      <td>55.0</td>\n",
       "      <td>11189</td>\n",
       "      <td>7.82</td>\n",
       "      <td>7.67</td>\n",
       "      <td>5.15</td>\n",
       "    </tr>\n",
       "    <tr>\n",
       "      <th>2</th>\n",
       "      <td>0.48</td>\n",
       "      <td>0.0</td>\n",
       "      <td>4</td>\n",
       "      <td>1.0</td>\n",
       "      <td>56.4</td>\n",
       "      <td>59.0</td>\n",
       "      <td>994</td>\n",
       "      <td>5.28</td>\n",
       "      <td>5.26</td>\n",
       "      <td>2.97</td>\n",
       "    </tr>\n",
       "    <tr>\n",
       "      <th>3</th>\n",
       "      <td>2.04</td>\n",
       "      <td>0.0</td>\n",
       "      <td>1</td>\n",
       "      <td>1.0</td>\n",
       "      <td>66.6</td>\n",
       "      <td>56.0</td>\n",
       "      <td>9802</td>\n",
       "      <td>7.80</td>\n",
       "      <td>7.77</td>\n",
       "      <td>5.19</td>\n",
       "    </tr>\n",
       "    <tr>\n",
       "      <th>4</th>\n",
       "      <td>0.71</td>\n",
       "      <td>0.0</td>\n",
       "      <td>0</td>\n",
       "      <td>1.0</td>\n",
       "      <td>65.5</td>\n",
       "      <td>61.0</td>\n",
       "      <td>1409</td>\n",
       "      <td>5.54</td>\n",
       "      <td>5.49</td>\n",
       "      <td>3.61</td>\n",
       "    </tr>\n",
       "  </tbody>\n",
       "</table>\n",
       "</div>"
      ],
      "text/plain": [
       "   carat  cut  color  clarity  depth  table  price     x     y     z\n",
       "0   0.63  0.0      5      2.0   65.7   60.0   2011  5.41  5.31  3.52\n",
       "1   2.00  0.0      0      1.0   66.4   55.0  11189  7.82  7.67  5.15\n",
       "2   0.48  0.0      4      1.0   56.4   59.0    994  5.28  5.26  2.97\n",
       "3   2.04  0.0      1      1.0   66.6   56.0   9802  7.80  7.77  5.19\n",
       "4   0.71  0.0      0      1.0   65.5   61.0   1409  5.54  5.49  3.61"
      ]
     },
     "execution_count": 68,
     "metadata": {},
     "output_type": "execute_result"
    }
   ],
   "source": [
    "# encoding the categorical columns\n",
    "diamonds[['cut', 'clarity']] = diamonds_ord_enc.fit_transform(diamonds[['cut', 'clarity']])\n",
    "\n",
    "diamonds.head()"
   ]
  },
  {
   "cell_type": "markdown",
   "id": "13cafbf9",
   "metadata": {},
   "source": [
    "## Handling Numerical Data: Outliers\n",
    "\n",
    "Menangani outlier adalah tahapan penting dalam pemodelan machine learning dimana nilai-nilai outlier (ekstrem) ini dapat mempengaruhi performa model. Outlier adalah observasi yang nilainya sangat jauh dari observasi mayoritas dan dapat disebabkan oleh kesalahan entri data, anomali, dan kesalahan perhitungan.\n",
    "\n",
    "Terdapat beberapa teknik untuk mencegah outlier, diantaranya adalah:\n",
    "1. Remove outlier, dimana menghilangkan dan menghapus keseluruhan outlier.\n",
    "3. *Scaling*, yaitu sebuah teknik untuk mentrasformasi sehingga nilai-nilai outlier ini tidak akan berpengaruh besar terhadap hasil analisis. Teknik scaling bermacam-macam, seperti standarisasi, normalisasi, min-max scaler dan lain sebagainya.\n",
    "\n",
    "Mari kita identifikasi nilai outlier pada data kita dengan menggunakan boxplot:"
   ]
  },
  {
   "cell_type": "code",
   "execution_count": 69,
   "id": "d142c211",
   "metadata": {
    "scrolled": true
   },
   "outputs": [
    {
     "data": {
      "image/png": "[encoded data removed]",
      "text/plain": [
       "<Figure size 640x480 with 1 Axes>"
      ]
     },
     "metadata": {},
     "output_type": "display_data"
    }
   ],
   "source": [
    "num_diamonds = ['carat', 'color', 'table', 'depth','x', 'y', 'z']\n",
    "\n",
    "diamonds.boxplot(column = num_diamonds);"
   ]
  },
  {
   "cell_type": "markdown",
   "id": "03040970",
   "metadata": {},
   "source": [
    "> **Insight:** caret, table dan juga depth terdapat banyak outlier\n",
    "\n",
    "- sebenarnya terdapat outlier yang dikatakan uatentik, sehingga outlier seperti ini kita biarkan saja, tidak kita drop\n",
    "\n",
    "-> Jika kita membiarkan outlie, kita dapat melakukan scaling terhadap data kita"
   ]
  },
  {
   "cell_type": "markdown",
   "id": "2c49294d",
   "metadata": {},
   "source": [
    "Ada baiknya juga untuk mencari tahu penyebab outlier pada data kita, misal penyebab outlier adalah kesalahan entri data, atau perhitungan. Dengan mengetahui alasan terdapat outlier, kita dapat menangani outlier dengan tepat."
   ]
  },
  {
   "cell_type": "markdown",
   "id": "f55e074b",
   "metadata": {},
   "source": [
    "# Train-Test Splitting (*Cross-Validation*)"
   ]
  },
  {
   "cell_type": "markdown",
   "id": "fc6ee2c3",
   "metadata": {},
   "source": [
    "Untuk melakukan evaluasi, kita perlu melakukan *cross-validation* dengan membagi data kita menjadi data train dan data test, dimana:\n",
    "\n",
    "- Data `train`: Data yang model gunakan untuk training.\n",
    "\n",
    "- Data `test`: Data untuk evaluasi model (Untuk melihat seberapa baik model memprediksi terhadap data yang tidak digunakan untuk training)"
   ]
  },
  {
   "cell_type": "code",
   "execution_count": 70,
   "id": "052306bc",
   "metadata": {},
   "outputs": [],
   "source": [
    "#target\n",
    "y = diamonds['price']\n",
    "X = diamonds.drop('price', axis =1)"
   ]
  },
  {
   "cell_type": "code",
   "execution_count": 71,
   "id": "9b55f2ed",
   "metadata": {},
   "outputs": [],
   "source": [
    "# split dataset into training set and test set\n",
    "X_train, X_test, y_train, y_test = train_test_split(X, \n",
    "                                                    y,\n",
    "                                                    test_size = 0.2, # 80% training and 30% test\n",
    "                                                    random_state = 412)"
   ]
  },
  {
   "cell_type": "markdown",
   "id": "408fdc47",
   "metadata": {},
   "source": [
    "Mari kita lihat jumlah dari dataset kita"
   ]
  },
  {
   "cell_type": "code",
   "execution_count": 72,
   "id": "e4978997",
   "metadata": {},
   "outputs": [
    {
     "data": {
      "text/plain": [
       "(2155, 9)"
      ]
     },
     "execution_count": 72,
     "metadata": {},
     "output_type": "execute_result"
    }
   ],
   "source": [
    "X_train.shape"
   ]
  },
  {
   "cell_type": "code",
   "execution_count": 73,
   "id": "00589151",
   "metadata": {},
   "outputs": [
    {
     "data": {
      "text/plain": [
       "(539, 9)"
      ]
     },
     "execution_count": 73,
     "metadata": {},
     "output_type": "execute_result"
    }
   ],
   "source": [
    "X_test.shape"
   ]
  },
  {
   "cell_type": "markdown",
   "id": "0d349024",
   "metadata": {},
   "source": [
    "## Standardization"
   ]
  },
  {
   "cell_type": "markdown",
   "id": "30c07bac",
   "metadata": {},
   "source": [
    "*Standardization* adalah teknik untuk menstandarisasi skala dari data numerik yang kita miliki. *Standardization* mengubah data sehingga memiliki rata-rata 0 dan standar deviasi menjadi 1. Formula untuk melakukan transformasi dapat dilakukan dengan cara mengurangi nilai observasi dengan mean kemudian dibagi dengan standard deviasinya.\n",
    "\n",
    "$$\n",
    "Z = \\frac{x - mean}{std}\n",
    "$$\n",
    "\n",
    "Deskripsi:\n",
    "- Z = Nilai hasil standarisasi\n",
    "- x = Nilai sebelum standarisasi\n",
    "\n",
    "\n",
    "\n",
    "**Tujuan dari dilakukannya *standardization* ini adalah untuk menyamakan (standarisasi) semua kolom feature menjadi skala yang sama**. Teknik ini penting dilakukan berhubung banyak model machine learning performanya dipengaruhi oleh skala dari prediktornya. Sebagai contoh, prediktor dengan skala yang besar dapat mendominasi pengukuran/cara belajar model, sehingga menimbulkan bias ataupun ketidakakuratan dari hasil prediksi. Permasalahan inilah yang dapat diatasi dengan melakukan *standardization*\n",
    "\n",
    "Selain itu, *standarization* juga dapat digunakan untuk menangani data outlier karena nilai hasil transformasi menjadikan data outlier tidak memiliki impact yang begitu berarti. Seperti yang kita ingat pada tahapan sebelumnya terdapat outlier terhadap data kita. Mari kita lakukan *standarization* dengan cara menerapkan fungsi `StandardScaler` dari `sklearn.preprocessing`. `StandardScaler` mempunyai method sebagai berikut:\n",
    "\n",
    "- `fit(X)`: Method ini menerima input X, dimana menghitung mean dan standard deviasi pada kolom prediktor, informasi ini digunakan sebagai masukan dari rumus standard deviasi.\n",
    "\n",
    "- `transform(X)`: Method ini menerima input X dan melakukan transformasi/scaling terhadap setiap prediktornya menggunakan nilai mean dan std yang didapatkan dari method `fit()`.\n",
    "\n",
    "> Notes: `fit()` hanya dilakukan untuk data train saja, karena mean dan std hanya ingin didapatkan dari data yang dilakukan pelatihan. Informasi mean dan std tersebut digunakan untuk melakukan transformasi menggunakan `transform()` baik untuk data trian dan data test."
   ]
  },
  {
   "cell_type": "markdown",
   "id": "d887961c",
   "metadata": {},
   "source": [
    "**Notes:** Best practicenya, untuk melakukan standarisasi, mean dan std harus berasal dari data train."
   ]
  },
  {
   "cell_type": "code",
   "execution_count": 74,
   "id": "2b5112c7",
   "metadata": {},
   "outputs": [],
   "source": [
    "from sklearn.preprocessing import StandardScaler"
   ]
  },
  {
   "cell_type": "code",
   "execution_count": 75,
   "id": "2db35745",
   "metadata": {
    "scrolled": false
   },
   "outputs": [
    {
     "data": {
      "text/html": [
       "<div>\n",
       "<style scoped>\n",
       "    .dataframe tbody tr th:only-of-type {\n",
       "        vertical-align: middle;\n",
       "    }\n",
       "\n",
       "    .dataframe tbody tr th {\n",
       "        vertical-align: top;\n",
       "    }\n",
       "\n",
       "    .dataframe thead th {\n",
       "        text-align: right;\n",
       "    }\n",
       "</style>\n",
       "<table border=\"1\" class=\"dataframe\">\n",
       "  <thead>\n",
       "    <tr style=\"text-align: right;\">\n",
       "      <th></th>\n",
       "      <th>carat</th>\n",
       "      <th>cut</th>\n",
       "      <th>color</th>\n",
       "      <th>clarity</th>\n",
       "      <th>depth</th>\n",
       "      <th>table</th>\n",
       "      <th>x</th>\n",
       "      <th>y</th>\n",
       "      <th>z</th>\n",
       "    </tr>\n",
       "  </thead>\n",
       "  <tbody>\n",
       "    <tr>\n",
       "      <th>1871</th>\n",
       "      <td>-1.064379</td>\n",
       "      <td>3.0</td>\n",
       "      <td>0.934425</td>\n",
       "      <td>2.0</td>\n",
       "      <td>0.489880</td>\n",
       "      <td>0.254436</td>\n",
       "      <td>-1.333636</td>\n",
       "      <td>-1.300172</td>\n",
       "      <td>-1.259316</td>\n",
       "    </tr>\n",
       "    <tr>\n",
       "      <th>2635</th>\n",
       "      <td>-0.419106</td>\n",
       "      <td>2.0</td>\n",
       "      <td>0.347173</td>\n",
       "      <td>2.0</td>\n",
       "      <td>0.558516</td>\n",
       "      <td>1.165928</td>\n",
       "      <td>-0.373222</td>\n",
       "      <td>-0.332793</td>\n",
       "      <td>-0.286777</td>\n",
       "    </tr>\n",
       "    <tr>\n",
       "      <th>1691</th>\n",
       "      <td>0.559211</td>\n",
       "      <td>3.0</td>\n",
       "      <td>-1.414581</td>\n",
       "      <td>1.0</td>\n",
       "      <td>0.627152</td>\n",
       "      <td>-0.201311</td>\n",
       "      <td>0.720583</td>\n",
       "      <td>0.688330</td>\n",
       "      <td>0.785875</td>\n",
       "    </tr>\n",
       "    <tr>\n",
       "      <th>497</th>\n",
       "      <td>0.580026</td>\n",
       "      <td>4.0</td>\n",
       "      <td>0.347173</td>\n",
       "      <td>1.0</td>\n",
       "      <td>0.146700</td>\n",
       "      <td>-0.657057</td>\n",
       "      <td>0.756154</td>\n",
       "      <td>0.742073</td>\n",
       "      <td>0.757271</td>\n",
       "    </tr>\n",
       "    <tr>\n",
       "      <th>1532</th>\n",
       "      <td>0.059645</td>\n",
       "      <td>3.0</td>\n",
       "      <td>0.934425</td>\n",
       "      <td>2.0</td>\n",
       "      <td>-1.431929</td>\n",
       "      <td>0.710182</td>\n",
       "      <td>0.355981</td>\n",
       "      <td>0.330041</td>\n",
       "      <td>0.156586</td>\n",
       "    </tr>\n",
       "  </tbody>\n",
       "</table>\n",
       "</div>"
      ],
      "text/plain": [
       "         carat  cut     color  clarity     depth     table         x   \n",
       "1871 -1.064379  3.0  0.934425      2.0  0.489880  0.254436 -1.333636  \\\n",
       "2635 -0.419106  2.0  0.347173      2.0  0.558516  1.165928 -0.373222   \n",
       "1691  0.559211  3.0 -1.414581      1.0  0.627152 -0.201311  0.720583   \n",
       "497   0.580026  4.0  0.347173      1.0  0.146700 -0.657057  0.756154   \n",
       "1532  0.059645  3.0  0.934425      2.0 -1.431929  0.710182  0.355981   \n",
       "\n",
       "             y         z  \n",
       "1871 -1.300172 -1.259316  \n",
       "2635 -0.332793 -0.286777  \n",
       "1691  0.688330  0.785875  \n",
       "497   0.742073  0.757271  \n",
       "1532  0.330041  0.156586  "
      ]
     },
     "execution_count": 75,
     "metadata": {},
     "output_type": "execute_result"
    }
   ],
   "source": [
    "# membuat objek scaling\n",
    "diamonds_ss = StandardScaler()\n",
    "\n",
    "# mencari nilai mean, dan std dari data train\n",
    "diamonds_ss.fit(X_train[num_diamonds])\n",
    "\n",
    "# melakukan scaling terhadap data train\n",
    "X_train[num_diamonds] = diamonds_ss.transform(X_train[num_diamonds])\n",
    "# melakukan scaling terhadap data test\n",
    "X_test[num_diamonds] = diamonds_ss.transform(X_test[num_diamonds])\n",
    "\n",
    "# melihat hasil scaling\n",
    "X_train.head()"
   ]
  },
  {
   "cell_type": "code",
   "execution_count": 76,
   "id": "fb6b58e5",
   "metadata": {},
   "outputs": [
    {
     "data": {
      "image/png": "[encoded data removed]",
      "text/plain": [
       "<Figure size 640x480 with 1 Axes>"
      ]
     },
     "metadata": {},
     "output_type": "display_data"
    }
   ],
   "source": [
    "X_train.boxplot(column = num_diamonds);"
   ]
  },
  {
   "cell_type": "markdown",
   "id": "91544b07",
   "metadata": {},
   "source": [
    "# Model Building"
   ]
  },
  {
   "cell_type": "markdown",
   "id": "fccb38e9",
   "metadata": {},
   "source": [
    "## SVM In Regression: Support Vector Regressor (SVR)\n",
    "\n",
    "SVM walaupun lebih terkenal pada penggunaan case klasifikasi, namun sebenarnya SVM juga mampu diterapkan untuk kasus regresi dengan sangat baik. (memprediksi nilai yang target variabelnya numerik). \n",
    "\n",
    "Secara simpel SVR akan menghasilkan *hyperplane* yang dapat mengikuti pola data dari target terhadap prediktor. *Hyperplane* ini yang digunakan untuk memprediksi nilai target pada data baru.\n",
    "\n",
    "**Opsional:**\n",
    "\n",
    "Bagimana perbedaan antara simple linear regression dengan SVR? Pada simple linear regression, model mencoba mendapatkan error sekecil mungkin. Sedangkan pada SVR, model mencoba untuk mentoleransi kesalahan dalam batas yang telah ditentukan, sehingga memiliki kemampuan generalisasi yang baik. \n",
    "\n",
    "<div>\n",
    "<img src=\"asset/lr-svr.png\" width=\"700\"/>\n",
    "</div>\n",
    "\n",
    "SVR memiliki kelebihan sebagai berikut:\n",
    "- SVR melakukan pemrosesan lebih ringan dibandingkan dengan teknik regresi lainnya.\n",
    "- Memiliki kemampuan generalisasi yang sangat baik, dengan akurasi prediksi yang tinggi."
   ]
  },
  {
   "cell_type": "markdown",
   "id": "7573632c",
   "metadata": {},
   "source": [
    "## SVR Implementation"
   ]
  },
  {
   "cell_type": "markdown",
   "id": "063df1d5",
   "metadata": {},
   "source": [
    "🔻Setelah semua proses persiapan data selesai, kini adalah saatnya untuk 'mesin' belajar dan diuji oleh data kita.\n",
    "\n",
    "Langkah-langkah membangun model SVM. \n",
    "1. Pertama, impor library SVM\n",
    "2. Buat variabel `model_svr` untuk menyimpan hasil model `SVR()`."
   ]
  },
  {
   "cell_type": "code",
   "execution_count": 77,
   "id": "5163c4ae",
   "metadata": {},
   "outputs": [],
   "source": [
    "# import svm model\n",
    "from sklearn import svm # untuk mengakses algoritma svm / svr (support vector regressor)"
   ]
  },
  {
   "cell_type": "code",
   "execution_count": 78,
   "id": "91a3d0cc",
   "metadata": {},
   "outputs": [
    {
     "data": {
      "text/html": [
       "<style>#sk-container-id-2 {color: black;background-color: white;}#sk-container-id-2 pre{padding: 0;}#sk-container-id-2 div.sk-toggleable {background-color: white;}#sk-container-id-2 label.sk-toggleable__label {cursor: pointer;display: block;width: 100%;margin-bottom: 0;padding: 0.3em;box-sizing: border-box;text-align: center;}#sk-container-id-2 label.sk-toggleable__label-arrow:before {content: \"▸\";float: left;margin-right: 0.25em;color: #696969;}#sk-container-id-2 label.sk-toggleable__label-arrow:hover:before {color: black;}#sk-container-id-2 div.sk-estimator:hover label.sk-toggleable__label-arrow:before {color: black;}#sk-container-id-2 div.sk-toggleable__content {max-height: 0;max-width: 0;overflow: hidden;text-align: left;background-color: #f0f8ff;}#sk-container-id-2 div.sk-toggleable__content pre {margin: 0.2em;color: black;border-radius: 0.25em;background-color: #f0f8ff;}#sk-container-id-2 input.sk-toggleable__control:checked~div.sk-toggleable__content {max-height: 200px;max-width: 100%;overflow: auto;}#sk-container-id-2 input.sk-toggleable__control:checked~label.sk-toggleable__label-arrow:before {content: \"▾\";}#sk-container-id-2 div.sk-estimator input.sk-toggleable__control:checked~label.sk-toggleable__label {background-color: #d4ebff;}#sk-container-id-2 div.sk-label input.sk-toggleable__control:checked~label.sk-toggleable__label {background-color: #d4ebff;}#sk-container-id-2 input.sk-hidden--visually {border: 0;clip: rect(1px 1px 1px 1px);clip: rect(1px, 1px, 1px, 1px);height: 1px;margin: -1px;overflow: hidden;padding: 0;position: absolute;width: 1px;}#sk-container-id-2 div.sk-estimator {font-family: monospace;background-color: #f0f8ff;border: 1px dotted black;border-radius: 0.25em;box-sizing: border-box;margin-bottom: 0.5em;}#sk-container-id-2 div.sk-estimator:hover {background-color: #d4ebff;}#sk-container-id-2 div.sk-parallel-item::after {content: \"\";width: 100%;border-bottom: 1px solid gray;flex-grow: 1;}#sk-container-id-2 div.sk-label:hover label.sk-toggleable__label {background-color: #d4ebff;}#sk-container-id-2 div.sk-serial::before {content: \"\";position: absolute;border-left: 1px solid gray;box-sizing: border-box;top: 0;bottom: 0;left: 50%;z-index: 0;}#sk-container-id-2 div.sk-serial {display: flex;flex-direction: column;align-items: center;background-color: white;padding-right: 0.2em;padding-left: 0.2em;position: relative;}#sk-container-id-2 div.sk-item {position: relative;z-index: 1;}#sk-container-id-2 div.sk-parallel {display: flex;align-items: stretch;justify-content: center;background-color: white;position: relative;}#sk-container-id-2 div.sk-item::before, #sk-container-id-2 div.sk-parallel-item::before {content: \"\";position: absolute;border-left: 1px solid gray;box-sizing: border-box;top: 0;bottom: 0;left: 50%;z-index: -1;}#sk-container-id-2 div.sk-parallel-item {display: flex;flex-direction: column;z-index: 1;position: relative;background-color: white;}#sk-container-id-2 div.sk-parallel-item:first-child::after {align-self: flex-end;width: 50%;}#sk-container-id-2 div.sk-parallel-item:last-child::after {align-self: flex-start;width: 50%;}#sk-container-id-2 div.sk-parallel-item:only-child::after {width: 0;}#sk-container-id-2 div.sk-dashed-wrapped {border: 1px dashed gray;margin: 0 0.4em 0.5em 0.4em;box-sizing: border-box;padding-bottom: 0.4em;background-color: white;}#sk-container-id-2 div.sk-label label {font-family: monospace;font-weight: bold;display: inline-block;line-height: 1.2em;}#sk-container-id-2 div.sk-label-container {text-align: center;}#sk-container-id-2 div.sk-container {/* jupyter's `normalize.less` sets `[hidden] { display: none; }` but bootstrap.min.css set `[hidden] { display: none !important; }` so we also need the `!important` here to be able to override the default hidden behavior on the sphinx rendered scikit-learn.org. See: https://github.com/scikit-learn/scikit-learn/issues/21755 */display: inline-block !important;position: relative;}#sk-container-id-2 div.sk-text-repr-fallback {display: none;}</style><div id=\"sk-container-id-2\" class=\"sk-top-container\"><div class=\"sk-text-repr-fallback\"><pre>SVR()</pre><b>In a Jupyter environment, please rerun this cell to show the HTML representation or trust the notebook. <br />On GitHub, the HTML representation is unable to render, please try loading this page with nbviewer.org.</b></div><div class=\"sk-container\" hidden><div class=\"sk-item\"><div class=\"sk-estimator sk-toggleable\"><input class=\"sk-toggleable__control sk-hidden--visually\" id=\"sk-estimator-id-2\" type=\"checkbox\" checked><label for=\"sk-estimator-id-2\" class=\"sk-toggleable__label sk-toggleable__label-arrow\">SVR</label><div class=\"sk-toggleable__content\"><pre>SVR()</pre></div></div></div></div></div>"
      ],
      "text/plain": [
       "SVR()"
      ]
     },
     "execution_count": 78,
     "metadata": {},
     "output_type": "execute_result"
    }
   ],
   "source": [
    "svr_model = svm.SVR()\n",
    "#.fit(prediktor, target)\n",
    "svr_model.fit(X_train, y_train)"
   ]
  },
  {
   "cell_type": "markdown",
   "id": "79d97dca",
   "metadata": {},
   "source": [
    "# Model Prediction"
   ]
  },
  {
   "cell_type": "markdown",
   "id": "bbcdcc3e",
   "metadata": {},
   "source": [
    "🔻 Metode `.predict()` memungkinkan kita untuk memprediksi label dari kumpulan data baru, dengan model yang di-train. Metode ini hanya menerima satu argumen (data baru) dan mengembalikan nilai (label untuk klasifikasi) yang dipelajari untuk setiap objeknya. Parameter yang dimasukkan adalah;\n",
    "* `X`: data yang akan di prediksi, misal pada umumnya adalah `X_test_ss`"
   ]
  },
  {
   "cell_type": "code",
   "execution_count": 79,
   "id": "49415639",
   "metadata": {},
   "outputs": [
    {
     "data": {
      "text/plain": [
       "array([2238.04932831, 2125.51201963, 2177.76376149, 2244.0255678 ,\n",
       "       2284.13310329])"
      ]
     },
     "execution_count": 79,
     "metadata": {},
     "output_type": "execute_result"
    }
   ],
   "source": [
    "# predict the response \n",
    "y_pred = svr_model.predict(X_test)\n",
    "\n",
    "y_pred[:5]"
   ]
  },
  {
   "cell_type": "code",
   "execution_count": 80,
   "id": "ea2d4b6f",
   "metadata": {},
   "outputs": [],
   "source": [
    "# y_pred ini adalah prediksi harga atau targetnya yang dilakukan modelnya"
   ]
  },
  {
   "cell_type": "code",
   "execution_count": 452,
   "id": "a077c977",
   "metadata": {},
   "outputs": [
    {
     "data": {
      "text/html": [
       "<div>\n",
       "<style scoped>\n",
       "    .dataframe tbody tr th:only-of-type {\n",
       "        vertical-align: middle;\n",
       "    }\n",
       "\n",
       "    .dataframe tbody tr th {\n",
       "        vertical-align: top;\n",
       "    }\n",
       "\n",
       "    .dataframe thead th {\n",
       "        text-align: right;\n",
       "    }\n",
       "</style>\n",
       "<table border=\"1\" class=\"dataframe\">\n",
       "  <thead>\n",
       "    <tr style=\"text-align: right;\">\n",
       "      <th></th>\n",
       "      <th>carat</th>\n",
       "      <th>cut</th>\n",
       "      <th>color</th>\n",
       "      <th>clarity</th>\n",
       "      <th>depth</th>\n",
       "      <th>table</th>\n",
       "      <th>x</th>\n",
       "      <th>y</th>\n",
       "      <th>z</th>\n",
       "    </tr>\n",
       "  </thead>\n",
       "  <tbody>\n",
       "    <tr>\n",
       "      <th>1406</th>\n",
       "      <td>-0.814596</td>\n",
       "      <td>3.0</td>\n",
       "      <td>0.934425</td>\n",
       "      <td>1.0</td>\n",
       "      <td>0.146700</td>\n",
       "      <td>0.254436</td>\n",
       "      <td>-0.808966</td>\n",
       "      <td>-0.843354</td>\n",
       "      <td>-0.801651</td>\n",
       "    </tr>\n",
       "    <tr>\n",
       "      <th>1218</th>\n",
       "      <td>-1.064379</td>\n",
       "      <td>4.0</td>\n",
       "      <td>0.934425</td>\n",
       "      <td>3.0</td>\n",
       "      <td>-0.196481</td>\n",
       "      <td>-0.201311</td>\n",
       "      <td>-1.271387</td>\n",
       "      <td>-1.264343</td>\n",
       "      <td>-1.273618</td>\n",
       "    </tr>\n",
       "    <tr>\n",
       "      <th>996</th>\n",
       "      <td>-1.043564</td>\n",
       "      <td>4.0</td>\n",
       "      <td>1.521676</td>\n",
       "      <td>1.0</td>\n",
       "      <td>-0.333753</td>\n",
       "      <td>-0.657057</td>\n",
       "      <td>-1.244709</td>\n",
       "      <td>-1.210600</td>\n",
       "      <td>-1.245014</td>\n",
       "    </tr>\n",
       "    <tr>\n",
       "      <th>363</th>\n",
       "      <td>-0.814596</td>\n",
       "      <td>4.0</td>\n",
       "      <td>-1.414581</td>\n",
       "      <td>3.0</td>\n",
       "      <td>0.421244</td>\n",
       "      <td>-0.201311</td>\n",
       "      <td>-0.862322</td>\n",
       "      <td>-0.834397</td>\n",
       "      <td>-0.801651</td>\n",
       "    </tr>\n",
       "    <tr>\n",
       "      <th>1322</th>\n",
       "      <td>-0.606444</td>\n",
       "      <td>4.0</td>\n",
       "      <td>0.347173</td>\n",
       "      <td>3.0</td>\n",
       "      <td>-0.608297</td>\n",
       "      <td>-0.201311</td>\n",
       "      <td>-0.497720</td>\n",
       "      <td>-0.458194</td>\n",
       "      <td>-0.544214</td>\n",
       "    </tr>\n",
       "  </tbody>\n",
       "</table>\n",
       "</div>"
      ],
      "text/plain": [
       "         carat  cut     color  clarity     depth     table         x   \n",
       "1406 -0.814596  3.0  0.934425      1.0  0.146700  0.254436 -0.808966  \\\n",
       "1218 -1.064379  4.0  0.934425      3.0 -0.196481 -0.201311 -1.271387   \n",
       "996  -1.043564  4.0  1.521676      1.0 -0.333753 -0.657057 -1.244709   \n",
       "363  -0.814596  4.0 -1.414581      3.0  0.421244 -0.201311 -0.862322   \n",
       "1322 -0.606444  4.0  0.347173      3.0 -0.608297 -0.201311 -0.497720   \n",
       "\n",
       "             y         z  \n",
       "1406 -0.843354 -0.801651  \n",
       "1218 -1.264343 -1.273618  \n",
       "996  -1.210600 -1.245014  \n",
       "363  -0.834397 -0.801651  \n",
       "1322 -0.458194 -0.544214  "
      ]
     },
     "execution_count": 452,
     "metadata": {},
     "output_type": "execute_result"
    }
   ],
   "source": [
    "X_test.head()"
   ]
  },
  {
   "cell_type": "markdown",
   "id": "28176efe",
   "metadata": {},
   "source": [
    "# Model Evaluation: Mean Absolute Error (MAE)"
   ]
  },
  {
   "cell_type": "markdown",
   "id": "4214e31b",
   "metadata": {},
   "source": [
    "Setelah kita melakukan prediksi terhadap data test, mari kita lakukan evaluasi performa model kita dengan membandingkannya terhadap nilai aktual data test kita. Perbedaan antara nilai prediksi dengan nilai aktual disebut sebagai *error*, semakin kecil *error* maka semakin bagus model kita, karena nilai prediksi semakin mendekati nilai aslinya.\n",
    "\n",
    "Salah satu cara yang sering digunakan dalam menghitung error adalah MAE ***(Mean Absolute Error)***. Yaitu dengan menghitung rata-rata error untuk semua prediksi.\n",
    "\n",
    "Berikut adalah formula menghitung MAE:\n",
    "\n",
    "$$MAE = \\frac{\\sum_{i=1}^{n}\\left | y_{pred, i} - y_{real, i} \\right |}{n}$$\n",
    "\n",
    "Untuk menghitung *Mean Absolute Error*, kita dapat menggunkaan fungsi `mean_absolute_error` dari scikit-learn."
   ]
  },
  {
   "cell_type": "code",
   "execution_count": 81,
   "id": "29fe94c1",
   "metadata": {},
   "outputs": [],
   "source": [
    "from sklearn.metrics import mean_absolute_error"
   ]
  },
  {
   "cell_type": "code",
   "execution_count": 82,
   "id": "7a2e1842",
   "metadata": {
    "scrolled": true
   },
   "outputs": [
    {
     "data": {
      "text/plain": [
       "2771.4967330868903"
      ]
     },
     "execution_count": 82,
     "metadata": {},
     "output_type": "execute_result"
    }
   ],
   "source": [
    "error_test = mean_absolute_error(y_pred, y_test)\n",
    "\n",
    "error_test"
   ]
  },
  {
   "cell_type": "code",
   "execution_count": 83,
   "id": "68158390",
   "metadata": {},
   "outputs": [
    {
     "data": {
      "text/plain": [
       "0.15565833940392532"
      ]
     },
     "execution_count": 83,
     "metadata": {},
     "output_type": "execute_result"
    }
   ],
   "source": [
    "rentang = y_test.max() - y_test.min()\n",
    "error_test / rentang"
   ]
  },
  {
   "cell_type": "code",
   "execution_count": null,
   "id": "7088cac4",
   "metadata": {},
   "outputs": [],
   "source": [
    "# Rata - rata error menyimpang 15% dari rentang total target"
   ]
  },
  {
   "cell_type": "markdown",
   "id": "9974dcab",
   "metadata": {},
   "source": [
    "# Model Improvement: Tuning Hyperparameter SVR"
   ]
  },
  {
   "cell_type": "markdown",
   "id": "5ae9e04b",
   "metadata": {},
   "source": [
    "Seperti pada SVC, SVR juga memiliki *hyperparameter* yang dapat diatur untuk meningkatkan performa model.\n",
    "\n",
    "Adapun *hyperparameter* yang sering digunakan dalam model SVC antara lain:\n",
    "- `C (regularization) [default = 1, range = positive number]`: Sama seperti regularisasi pada SVC, semakin tinggi C pada SVR, maka membuat model semakin menyesuaikan data dengan lebih baik namun beresiko overfitting.\n",
    "- `kernel [default = 'rbf', option = ['rbf', 'poly', 'linear', 'sigmoid']`: Mempengaruhi bagaimana garis regresi (*hyperplane*) terbentuk, untuk data yang dapat memiliki pola linear (garis lurus) dapat menggunakan 'linear'. Untuk data-data dengan pola non-linear dapat menggunakan kernel `rbf`.\n",
    "*Note: Kebanyakan data berbentuk non-linear, sehingga sebaiknya selalu memilih kernel `rbf`*\n",
    "- `epsilon [default = 0.1, range = 0.0 - inf]` : Epsilon mengatur tingkat kesalahan yang ditoleransi oleh model. Semakin kecil nilai epsilon, maka semakin ketat batas toleransi oleh model, sehingga model lebih kompleks. Begitupun sebaliknya.\n",
    "\n",
    "Untuk hyperparameter dan penjelasan lebih detail dapat dilihat pada [dokumentasi SVR](https://scikit-learn.org/stable/modules/generated/sklearn.svm.SVR.html#sklearn.svm.SVR)"
   ]
  },
  {
   "cell_type": "markdown",
   "id": "741c5a52",
   "metadata": {},
   "source": [
    "Mari kita mengatur hyperparameter dari model kita untuk mendapatkan performa yang lebih baik."
   ]
  },
  {
   "cell_type": "code",
   "execution_count": 104,
   "id": "c0bbe66f",
   "metadata": {},
   "outputs": [],
   "source": [
    "svr_model_tuning = svm.SVR(C = 200, epsilon = 0.7).fit(X_train, y_train)\n",
    "\n",
    "# melakukan prediksi\n",
    "y_pred_tuning = svr_model_tuning.predict(X_test)\n",
    "# menghitung MAE dari model tuning\n",
    "error_test_tuning = mean_absolute_error(y_pred_tuning, y_test)"
   ]
  },
  {
   "cell_type": "code",
   "execution_count": 105,
   "id": "7b3a9a27",
   "metadata": {
    "scrolled": false
   },
   "outputs": [
    {
     "data": {
      "text/html": [
       "<div>\n",
       "<style scoped>\n",
       "    .dataframe tbody tr th:only-of-type {\n",
       "        vertical-align: middle;\n",
       "    }\n",
       "\n",
       "    .dataframe tbody tr th {\n",
       "        vertical-align: top;\n",
       "    }\n",
       "\n",
       "    .dataframe thead th {\n",
       "        text-align: right;\n",
       "    }\n",
       "</style>\n",
       "<table border=\"1\" class=\"dataframe\">\n",
       "  <thead>\n",
       "    <tr style=\"text-align: right;\">\n",
       "      <th></th>\n",
       "      <th>MAE for Default</th>\n",
       "      <th>MAE for Tuning</th>\n",
       "    </tr>\n",
       "  </thead>\n",
       "  <tbody>\n",
       "    <tr>\n",
       "      <th>0</th>\n",
       "      <td>2771.496733</td>\n",
       "      <td>646.426556</td>\n",
       "    </tr>\n",
       "  </tbody>\n",
       "</table>\n",
       "</div>"
      ],
      "text/plain": [
       "   MAE for Default  MAE for Tuning\n",
       "0      2771.496733      646.426556"
      ]
     },
     "execution_count": 105,
     "metadata": {},
     "output_type": "execute_result"
    }
   ],
   "source": [
    "pd.DataFrame({\"MAE for Default\": [error_test],\n",
    "              \"MAE for Tuning\": [error_test_tuning]})"
   ]
  },
  {
   "cell_type": "code",
   "execution_count": 86,
   "id": "d32d8bf6",
   "metadata": {
    "scrolled": true
   },
   "outputs": [
    {
     "data": {
      "text/plain": [
       "0.042953745362881886"
      ]
     },
     "execution_count": 86,
     "metadata": {},
     "output_type": "execute_result"
    }
   ],
   "source": [
    "error_test_tuning / rentang"
   ]
  },
  {
   "cell_type": "code",
   "execution_count": 142,
   "id": "00e0196f",
   "metadata": {},
   "outputs": [],
   "source": [
    "svr_model_baru = svm.SVR(C = 95000, epsilon = 0.95).fit(X_train, y_train)\n",
    "\n",
    "# melakukan prediksi\n",
    "y_pred_tuning_baru = svr_model_baru.predict(X_test)\n",
    "# menghitung MAE dari model tuning\n",
    "error_test_tuning_baru = mean_absolute_error(y_pred_tuning_baru, y_test)"
   ]
  },
  {
   "cell_type": "code",
   "execution_count": 144,
   "id": "5862d3f9",
   "metadata": {},
   "outputs": [
    {
     "data": {
      "text/html": [
       "<div>\n",
       "<style scoped>\n",
       "    .dataframe tbody tr th:only-of-type {\n",
       "        vertical-align: middle;\n",
       "    }\n",
       "\n",
       "    .dataframe tbody tr th {\n",
       "        vertical-align: top;\n",
       "    }\n",
       "\n",
       "    .dataframe thead th {\n",
       "        text-align: right;\n",
       "    }\n",
       "</style>\n",
       "<table border=\"1\" class=\"dataframe\">\n",
       "  <thead>\n",
       "    <tr style=\"text-align: right;\">\n",
       "      <th></th>\n",
       "      <th>MAE for Default</th>\n",
       "      <th>MAE for Tuning</th>\n",
       "    </tr>\n",
       "  </thead>\n",
       "  <tbody>\n",
       "    <tr>\n",
       "      <th>0</th>\n",
       "      <td>2771.496733</td>\n",
       "      <td>398.463384</td>\n",
       "    </tr>\n",
       "  </tbody>\n",
       "</table>\n",
       "</div>"
      ],
      "text/plain": [
       "   MAE for Default  MAE for Tuning\n",
       "0      2771.496733      398.463384"
      ]
     },
     "execution_count": 144,
     "metadata": {},
     "output_type": "execute_result"
    }
   ],
   "source": [
    "pd.DataFrame({\"MAE for Default\": [error_test],\n",
    "              \"MAE for Tuning\": [error_test_tuning_baru]})"
   ]
  },
  {
   "cell_type": "markdown",
   "id": "6fc6fcb4",
   "metadata": {},
   "source": [
    "### Additional: Others Machine Learning Model"
   ]
  },
  {
   "cell_type": "markdown",
   "id": "c01b856b",
   "metadata": {},
   "source": [
    "Creating a model in Python using sklearn is relatively easy and involves a few lines of code. The library offers a consistent API that allows developers to switch between different algorithms with minimal effort. Moreover, sklearn offers a range of preprocessing and evaluation tools that can streamline the entire machine learning pipeline from data preparation to model evaluation.\n",
    "\n",
    "Some of the popular supervised learning algorithms available in sklearn include linear regression, logistic regression, decision trees, random forests, support vector machines, and neural networks. Each of these algorithms has its strengths and weaknesses and is suitable for different types of problems. For example, linear regression is often used for regression tasks with a continuous target variable, while decision trees are commonly used for classification tasks. Here are some popular supervised learning algorithms in sklearn Python library:"
   ]
  },
  {
   "cell_type": "markdown",
   "id": "ba0ad5e7",
   "metadata": {},
   "source": [
    "1. **Linear Regression**\n",
    "\n",
    "Linear regression is a popular supervised learning algorithm that is widely used in machine learning. It is a simple algorithm that models the **linear relationship between a dependent variable and one or more independent variables**. \n",
    "\n",
    "In Python, linear regression can be easily implemented using the Scikit-Learn library, also known as sklearn. The library provides several classes for implementing linear regression models, including LinearRegression, Lasso, and Ridge.\n",
    "\n",
    "To implement linear regression in sklearn, we first need to split our data into training and testing sets. We can then create an instance of the LinearRegression class and fit the model to the training data using the `fit()` method. Once the model is trained, we can use it to make predictions on the testing data using the `predict()` method.\n",
    "\n",
    "One of the key advantages of using linear regression is its **interpretability**. It allows us to easily understand the relationship between the dependent variable and independent variables. For example, in a simple linear regression model with one independent variable, the slope of the line represents the change in the dependent variable for a one-unit change in the independent variable.\n",
    "\n",
    "Linear regression is widely used in a variety of applications, such as predicting housing prices, stock prices, and sales revenue. However, it is important to note that linear regression assumes a linear relationship between the dependent and independent variables, which may not always be the case in real-world scenarios. Therefore, it is important to evaluate the performance of the model and consider other algorithms if necessary."
   ]
  },
  {
   "cell_type": "code",
   "execution_count": null,
   "id": "e8834441",
   "metadata": {},
   "outputs": [],
   "source": [
    "from sklearn.linear_model import LinearRegression\n",
    "lr = LinearRegression()\n",
    "lr.fit(X_train, y_train)"
   ]
  },
  {
   "cell_type": "markdown",
   "id": "8cf22313",
   "metadata": {},
   "source": [
    "2. **Logistic Regression**\n",
    "\n",
    "Logistic regression is a popular classification algorithm that predicts the **probability of an input belonging to a particular class**. It is a supervised learning algorithm that is widely used in various fields such as finance, healthcare, marketing, and more. \n",
    "\n",
    "In scikit-learn (sklearn), logistic regression can be implemented using the `LogisticRegression` class. The model works by fitting a logistic function to the input data, which maps the input features to the predicted probabilities of the output classes. The logistic function used in logistic regression is called the sigmoid function, which takes any real-valued number as input and outputs a probability between 0 and 1.\n",
    "\n",
    "To use logistic regression in sklearn, we first import the `LogisticRegression` class from the `linear_model` module. We can then create an instance of the class and fit the model to our training data using the `fit` method. Once the model is trained, we can use it to predict the class probabilities of new input data using the `predict_proba` method or directly predict the class labels using the `predict` method.\n",
    "\n",
    "In addition to the basic logistic regression algorithm, sklearn also provides various extensions to logistic regression, such as regularized logistic regression, multi-class logistic regression, and imbalanced classification using weighted logistic regression. These extensions can be helpful in dealing with more complex classification problems."
   ]
  },
  {
   "cell_type": "code",
   "execution_count": null,
   "id": "7c9ebbcb",
   "metadata": {},
   "outputs": [],
   "source": [
    "from sklearn.linear_model import LogisticRegression\n",
    "lr = LogisticRegression()\n",
    "lr.fit(X_train, y_train)"
   ]
  },
  {
   "cell_type": "markdown",
   "id": "649fd95a",
   "metadata": {},
   "source": [
    "3. **Decision Tree**\n",
    "\n",
    "Decision tree is a popular machine learning algorithm used for both classification and regression tasks. The algorithm creates a tree-like model of decisions and their possible consequences based on a set of input features. Each internal node of the tree represents a decision based on a particular feature, and each leaf node represents a classification or regression value.\n",
    "\n",
    "In sklearn, the DecisionTreeClassifier and DecisionTreeRegressor classes are used for classification and regression tasks, respectively. The algorithm works by recursively splitting the data based on the feature that provides the best split, which is determined by maximizing a criterion such as information gain or Gini impurity. The process continues until the tree is fully grown, or until a stopping criterion is met, such as reaching a maximum depth or a minimum number of samples required to split a node.\n",
    "\n",
    "One advantage of decision trees is their interpretability, as the resulting model can be visualized and easily understood. However, decision trees can also be prone to overfitting, which can be mitigated by tuning hyperparameters such as the maximum depth, minimum number of samples required to split a node, and the criterion used for splitting. Additionally, ensemble methods such as random forests and gradient boosting can be used to improve the performance of decision trees."
   ]
  },
  {
   "cell_type": "code",
   "execution_count": null,
   "id": "c6fb451a",
   "metadata": {},
   "outputs": [],
   "source": [
    "from sklearn.tree import DecisionTreeClassifier\n",
    "dt_c = DecisionTreeClassifier()\n",
    "dt_c.fit(X_train, y_train)"
   ]
  },
  {
   "cell_type": "code",
   "execution_count": null,
   "id": "9a56900e",
   "metadata": {},
   "outputs": [],
   "source": [
    "from sklearn.tree import DecisionTreeRegressor\n",
    "dt_r = DecisionTreeRegressor()\n",
    "dt_r.fit(X_train, y_train)"
   ]
  },
  {
   "cell_type": "markdown",
   "id": "b820955e",
   "metadata": {},
   "source": [
    "4. **Gradient Boosting**\n",
    "\n",
    "Gradient Boosting is a powerful machine learning algorithm for building predictive models. It is a type of ensemble learning, where multiple models are trained and their predictions are combined to create a final prediction. In particular, Gradient Boosting creates a series of decision trees in a specific way to optimize model performance.\n",
    "\n",
    "In sklearn, Gradient Boosting is implemented in the `GradientBoostingClassifier` and `GradientBoostingRegressor` classes. The `GradientBoostingRegressor` class is used for regression problems, while the `GradientBoostingClassifier` class is used for classification problems. \n",
    "\n",
    "Like other ensemble learning methods, Gradient Boosting involves creating multiple models and combining their predictions. However, unlike Random Forests, where each decision tree is trained independently, in Gradient Boosting each decision tree is trained sequentially, with each new tree trying to improve upon the errors of the previous ones. This is done by adjusting the weights of each data point based on the error of the previous prediction. \n",
    "\n",
    "Gradient Boosting also includes a number of hyperparameters that can be tuned to optimize model performance. These include the learning rate, which controls the contribution of each tree to the final prediction, the number of trees, and the depth of each tree.\n",
    "\n",
    "In practice, Gradient Boosting is a powerful and flexible algorithm that can be applied to a wide range of problems. It is often used in industry and academia for tasks such as classification, regression, and ranking. However, it can be computationally expensive and requires careful tuning of hyperparameters to avoid overfitting."
   ]
  },
  {
   "cell_type": "code",
   "execution_count": null,
   "id": "e95b8364",
   "metadata": {},
   "outputs": [],
   "source": [
    "# from sklearn.ensemble import GradientBoostingClassifier\n",
    "# gb_c = GradientBoostingClassifier()\n",
    "# gb_c.fit(X_train, y_train)"
   ]
  },
  {
   "cell_type": "code",
   "execution_count": null,
   "id": "aa570eed",
   "metadata": {},
   "outputs": [],
   "source": [
    "# from sklearn.ensemble import GradientBoostingRegressor\n",
    "# gb_r = GradientBoostingRegressor()\n",
    "# gb_r.fit(X_train, y_train)"
   ]
  },
  {
   "cell_type": "markdown",
   "id": "da9e5e66",
   "metadata": {},
   "source": [
    "> And etc, reference for all model in `sklearn`: https://scikit-learn.org/stable/supervised_learning.html"
   ]
  },
  {
   "cell_type": "markdown",
   "id": "49eac9e0",
   "metadata": {},
   "source": [
    "# Reference\n",
    "\n",
    "1.   Practical Statistics For Data Scientists 50 Essential Concepts, Peter Bruce, Andrew Bruce, O'Reilly, 2017, Edition 2\n",
    "2.   Hastie, T., Friedman, J., &amp; Tisbshirani, R. (2017). The elements of Statistical Learning: Data Mining, Inference, and prediction. Springer. \n",
    "3. Müller Andreas C., &amp; Guido, S. (2018). Introduction to machine learning with python: A guide for data scientists. O'Reilly Media, Inc. \n",
    "4. Master Machine Learning Algorithms: Discover How They Work and Implement Them From Scratch. 2016. Jason Brownlee. Machine Learning Mastery, http://machinelearningmastery.com/\n",
    "5. Materials for scikit-learn Tutorial. 2019. Jake Vanderplas. https://github.com/jakevdp/sklearn_tutorial/, BSD-3-Clause license, Google (Oakland CA)\n",
    "6. https://xgboost.readthedocs.io/en/stable/\n",
    "\n"
   ]
  }
 ],
 "metadata": {
  "kernelspec": {
   "display_name": "vulcan_da",
   "language": "python",
   "name": "vulcan_da"
  },
  "language_info": {
   "codemirror_mode": {
    "name": "ipython",
    "version": 3
   },
   "file_extension": ".py",
   "mimetype": "text/x-python",
   "name": "python",
   "nbconvert_exporter": "python",
   "pygments_lexer": "ipython3",
   "version": "3.10.10"
  }
 },
 "nbformat": 4,
 "nbformat_minor": 5
}
